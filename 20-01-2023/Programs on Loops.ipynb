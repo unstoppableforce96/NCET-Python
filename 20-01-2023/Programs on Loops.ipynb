{
 "cells": [
  {
   "cell_type": "code",
   "execution_count": 2,
   "id": "c4334653",
   "metadata": {},
   "outputs": [
    {
     "name": "stdout",
     "output_type": "stream",
     "text": [
      "1 2 3 4 5 6 7 8 9 10 "
     ]
    }
   ],
   "source": [
    "for i in range(1, 11):\n",
    "    print(i, end=' ')"
   ]
  },
  {
   "cell_type": "code",
   "execution_count": 3,
   "id": "309809ad",
   "metadata": {},
   "outputs": [
    {
     "name": "stdout",
     "output_type": "stream",
     "text": [
      "1 2 3 4 5 6 7 8 9 10 "
     ]
    }
   ],
   "source": [
    "r = range(1, 11)\n",
    "for i in r:\n",
    "    print(i, end=' ')"
   ]
  },
  {
   "cell_type": "code",
   "execution_count": 4,
   "id": "c82af926",
   "metadata": {},
   "outputs": [
    {
     "name": "stdout",
     "output_type": "stream",
     "text": [
      "10 20 30 "
     ]
    }
   ],
   "source": [
    "lst = [10, 20, 30]\n",
    "for i in lst:\n",
    "    print(i, end = ' ')"
   ]
  },
  {
   "cell_type": "code",
   "execution_count": 7,
   "id": "0b523876",
   "metadata": {},
   "outputs": [
    {
     "name": "stdout",
     "output_type": "stream",
     "text": [
      "12\n",
      "100\n",
      "12 24 36 48 60 72 84 96 "
     ]
    }
   ],
   "source": [
    "# Generate all the n multiples upto z\n",
    "# n = 7, z = 40\n",
    "# 7 14 21 35\n",
    "n = int(input())\n",
    "z = int(input())\n",
    "for i in range(n, z, n):\n",
    "    print(i, end = ' ')"
   ]
  },
  {
   "cell_type": "code",
   "execution_count": 9,
   "id": "4d0e27a9",
   "metadata": {},
   "outputs": [
    {
     "name": "stdout",
     "output_type": "stream",
     "text": [
      "5\n",
      "15\n"
     ]
    }
   ],
   "source": [
    "# find out the sum of n natural numbers\n",
    "# n = 5\n",
    "# 1 2 3 4 5 --> 1 + 2 + 3 + 4 + 5 = 15\n",
    "n = int(input())\n",
    "s = 0\n",
    "for i in range(1, n + 1):\n",
    "    s += i\n",
    "print(s)"
   ]
  },
  {
   "cell_type": "code",
   "execution_count": 13,
   "id": "39cdd659",
   "metadata": {},
   "outputs": [
    {
     "name": "stdout",
     "output_type": "stream",
     "text": [
      "7\n",
      "28\n"
     ]
    }
   ],
   "source": [
    "# find out the sum of n natural numbers\n",
    "# n = 5\n",
    "# 1 2 3 4 5 --> 1 + 2 + 3 + 4 + 5 = 15\n",
    "n = int(input())\n",
    "print(sum(range(1, n + 1)))"
   ]
  },
  {
   "cell_type": "code",
   "execution_count": 10,
   "id": "1b629cd4",
   "metadata": {},
   "outputs": [
    {
     "name": "stdout",
     "output_type": "stream",
     "text": [
      "30\n"
     ]
    }
   ],
   "source": [
    "lst = [10, 20]\n",
    "print(sum(lst))"
   ]
  },
  {
   "cell_type": "code",
   "execution_count": 11,
   "id": "4673e0c8",
   "metadata": {},
   "outputs": [
    {
     "name": "stdout",
     "output_type": "stream",
     "text": [
      "2\n"
     ]
    }
   ],
   "source": [
    "_tuple = (1, -1, 0, 1, 1)\n",
    "print(sum(_tuple))"
   ]
  },
  {
   "cell_type": "code",
   "execution_count": 12,
   "id": "197aab44",
   "metadata": {},
   "outputs": [
    {
     "name": "stdout",
     "output_type": "stream",
     "text": [
      "15\n"
     ]
    }
   ],
   "source": [
    "print(sum(range(1, 6)))"
   ]
  },
  {
   "cell_type": "code",
   "execution_count": 15,
   "id": "914a27f7",
   "metadata": {},
   "outputs": [
    {
     "name": "stdout",
     "output_type": "stream",
     "text": [
      "7\n",
      "5040\n"
     ]
    }
   ],
   "source": [
    "# find out the product of n natural numbers\n",
    "# n = 5\n",
    "# 1 2 3 4 5 --> 1 x 2 x 3 x 4 x 5 = 15\n",
    "n = int(input())\n",
    "p = 1\n",
    "for i in range(1, n + 1):\n",
    "    p *= i # p = p * i\n",
    "print(p)"
   ]
  },
  {
   "cell_type": "code",
   "execution_count": 23,
   "id": "c91f7ba6",
   "metadata": {},
   "outputs": [
    {
     "name": "stdout",
     "output_type": "stream",
     "text": [
      "5\n",
      "170\n"
     ]
    }
   ],
   "source": [
    "n = int(input())\n",
    "sum1 = sum2 = 0\n",
    "for i in range(1, n + 1):\n",
    "    sum1 += i**2 # sum of squares of n natural numbers\n",
    "    sum2 += i # sum of n natural numbers\n",
    "sum2 **= 2\n",
    "print(abs(sum1 - sum2**2))\n",
    "# print(sum2-sum1 if sum2 > sum1 else sum1-sum2)"
   ]
  },
  {
   "cell_type": "code",
   "execution_count": 19,
   "id": "0b73ecaa",
   "metadata": {},
   "outputs": [
    {
     "data": {
      "text/plain": [
       "10"
      ]
     },
     "execution_count": 19,
     "metadata": {},
     "output_type": "execute_result"
    }
   ],
   "source": [
    "abs(10)"
   ]
  },
  {
   "cell_type": "code",
   "execution_count": 20,
   "id": "ca3e7e2b",
   "metadata": {},
   "outputs": [
    {
     "data": {
      "text/plain": [
       "10"
      ]
     },
     "execution_count": 20,
     "metadata": {},
     "output_type": "execute_result"
    }
   ],
   "source": [
    "abs(-10)"
   ]
  },
  {
   "cell_type": "code",
   "execution_count": 27,
   "id": "61e3e915",
   "metadata": {},
   "outputs": [
    {
     "name": "stdout",
     "output_type": "stream",
     "text": [
      "1 10\n",
      "2 4 6 8 10 "
     ]
    }
   ],
   "source": [
    "# print all the even numbers in a given range\n",
    "# 10 20\n",
    "# 10 12 14 16 18 20\n",
    "a, b = map(int, input().split())\n",
    "for i in range(a, b + 1):\n",
    "    if i % 2 == 0:\n",
    "        print(i, end=' ')"
   ]
  },
  {
   "cell_type": "code",
   "execution_count": 29,
   "id": "59557bca",
   "metadata": {},
   "outputs": [
    {
     "name": "stdout",
     "output_type": "stream",
     "text": [
      "10\n",
      "1 2 5 10 "
     ]
    }
   ],
   "source": [
    "# factors of a given number\n",
    "# n = 10\n",
    "# 1 2 5 10\n",
    "# 1 2 5 10\n",
    "n = int(input())\n",
    "for i in range(1, n + 1):\n",
    "    if n % i == 0:\n",
    "        print(i, end=' ')"
   ]
  },
  {
   "cell_type": "code",
   "execution_count": 36,
   "id": "cf4ab009",
   "metadata": {},
   "outputs": [
    {
     "name": "stdout",
     "output_type": "stream",
     "text": [
      "14\n",
      "Not a prime\n"
     ]
    }
   ],
   "source": [
    "# prime or not\n",
    "# 2 --> 1, 2\n",
    "# 3 --> 1, 3\n",
    "# 5 --> 1, 5\n",
    "# 7 --> 1, 7\n",
    "# 8 --> 1, 2, 4, 8\n",
    "# 4 --> 1, 2, 4\n",
    "n = int(input())\n",
    "fc = 0\n",
    "for i in range(1, n + 1):\n",
    "    if n % i == 0:\n",
    "        fc += 1\n",
    "if fc == 2:\n",
    "    print(\"Prime\")\n",
    "else:\n",
    "    print(\"Not a prime\")"
   ]
  },
  {
   "cell_type": "markdown",
   "id": "70bfc11e",
   "metadata": {},
   "source": [
    "# Looping control statements\n",
    "- break\n",
    "- continue"
   ]
  },
  {
   "cell_type": "markdown",
   "id": "158368b8",
   "metadata": {},
   "source": [
    "## break"
   ]
  },
  {
   "cell_type": "code",
   "execution_count": 38,
   "id": "183abaa9",
   "metadata": {},
   "outputs": [
    {
     "name": "stdout",
     "output_type": "stream",
     "text": [
      "1 "
     ]
    }
   ],
   "source": [
    "for i in range(1, 11):\n",
    "    print(i, end=' ')\n",
    "    break # unconditional break"
   ]
  },
  {
   "cell_type": "code",
   "execution_count": 47,
   "id": "b1684a27",
   "metadata": {},
   "outputs": [],
   "source": [
    "for i in range(1, 11):\n",
    "    break # unconditional break\n",
    "    print(i, end=' ')"
   ]
  },
  {
   "cell_type": "code",
   "execution_count": 48,
   "id": "d296718b",
   "metadata": {},
   "outputs": [
    {
     "name": "stdout",
     "output_type": "stream",
     "text": [
      "10 20 30 40 50 "
     ]
    }
   ],
   "source": [
    "for i in range(10, 100, 10):\n",
    "    print(i, end=' ') # 10 20 30 40 50\n",
    "    if i % 25 == 0: # 50 % 25 == 0\n",
    "        break"
   ]
  },
  {
   "cell_type": "code",
   "execution_count": 49,
   "id": "b513f76a",
   "metadata": {},
   "outputs": [
    {
     "name": "stdout",
     "output_type": "stream",
     "text": [
      "10 20 30 40 "
     ]
    }
   ],
   "source": [
    "for i in range(10, 100, 10):\n",
    "    if i % 25 == 0: # 50 % 25 == 0\n",
    "        break\n",
    "    print(i, end=' ') # 10 20 30 40\n",
    "    "
   ]
  },
  {
   "cell_type": "code",
   "execution_count": null,
   "id": "21d4df0d",
   "metadata": {},
   "outputs": [],
   "source": [
    "# LCM of two given numbers\n",
    "# 12 18 --> 36\n",
    "# Least Common Multiple\n",
    "# 12 --> 12 24 36 48 60 72 84 96 108.....\n",
    "# 18 --> 18 36 54 72 90 108......\n",
    "# CM --> 36 72 108.....\n",
    "# LCM --> 36"
   ]
  },
  {
   "cell_type": "code",
   "execution_count": 51,
   "id": "6baefaa7",
   "metadata": {},
   "outputs": [
    {
     "name": "stdout",
     "output_type": "stream",
     "text": [
      "5 7\n",
      "LCM of 5 and 7 is 35\n"
     ]
    }
   ],
   "source": [
    "a, b = map(int, input().split())\n",
    "i = 1\n",
    "while 1:\n",
    "    m = a * i\n",
    "    if m % b == 0:\n",
    "        print(f'LCM of {a} and {b} is {m}')\n",
    "        break\n",
    "    i += 1"
   ]
  },
  {
   "cell_type": "markdown",
   "id": "6632f469",
   "metadata": {},
   "source": [
    "## continue\n",
    "- continue is used to skip the current iteration\n",
    "- wherever the continue statement is encountered the control goes back  \n",
    "  to the loop with out executing any subsequent lines of code"
   ]
  },
  {
   "cell_type": "code",
   "execution_count": 54,
   "id": "70997362",
   "metadata": {},
   "outputs": [
    {
     "name": "stdout",
     "output_type": "stream",
     "text": [
      "1 2 3 4 6 7 8 9 10 "
     ]
    }
   ],
   "source": [
    "for i in range(1, 11):\n",
    "    if i == 5:\n",
    "        continue\n",
    "    print(i, end=' ')"
   ]
  },
  {
   "cell_type": "code",
   "execution_count": 55,
   "id": "72c56748",
   "metadata": {},
   "outputs": [
    {
     "name": "stdout",
     "output_type": "stream",
     "text": [
      "1 3 5 7 9 "
     ]
    }
   ],
   "source": [
    "for i in range(1, 11):\n",
    "    if i % 2 == 0:\n",
    "        continue\n",
    "    print(i, end=' ')"
   ]
  },
  {
   "cell_type": "code",
   "execution_count": 56,
   "id": "e73eebdd",
   "metadata": {},
   "outputs": [
    {
     "name": "stdout",
     "output_type": "stream",
     "text": [
      "5 10 15 20 25 30 35 40 45 50 "
     ]
    }
   ],
   "source": [
    "for i in range(1, 51):\n",
    "    if i % 5 != 0:\n",
    "        continue\n",
    "    print(i, end=' ')"
   ]
  },
  {
   "cell_type": "markdown",
   "id": "00b76e1f",
   "metadata": {},
   "source": [
    "## pass\n"
   ]
  },
  {
   "cell_type": "code",
   "execution_count": 72,
   "id": "1f85f08f",
   "metadata": {},
   "outputs": [
    {
     "name": "stdout",
     "output_type": "stream",
     "text": [
      "You are not eligible to vote!\n"
     ]
    }
   ],
   "source": [
    "age = 17\n",
    "if age > 18:\n",
    "    pass\n",
    "else:\n",
    "    print(\"You are not eligible to vote!\")"
   ]
  },
  {
   "cell_type": "code",
   "execution_count": 73,
   "id": "b1266a6d",
   "metadata": {},
   "outputs": [
    {
     "name": "stdout",
     "output_type": "stream",
     "text": [
      "10\n"
     ]
    }
   ],
   "source": [
    "for i in range(1, 11):\n",
    "    pass\n",
    "print(i)"
   ]
  },
  {
   "cell_type": "markdown",
   "id": "6b22dc6d",
   "metadata": {},
   "source": [
    "# Dealing with the digits"
   ]
  },
  {
   "cell_type": "code",
   "execution_count": null,
   "id": "90861b56",
   "metadata": {},
   "outputs": [],
   "source": [
    "n = int(input()) # n = 12479\n",
    "s = 0\n",
    "for i in str(n):\n",
    "    s += int(i)\n",
    "print(s)"
   ]
  },
  {
   "cell_type": "code",
   "execution_count": null,
   "id": "b506b73f",
   "metadata": {},
   "outputs": [],
   "source": [
    "'12479'\n",
    "'1' '2' '4' '7' '9'"
   ]
  },
  {
   "cell_type": "code",
   "execution_count": 71,
   "id": "a3be2968",
   "metadata": {},
   "outputs": [
    {
     "name": "stdout",
     "output_type": "stream",
     "text": [
      "1111\n",
      "Even digits: 0\n",
      "Odd digits: 4\n"
     ]
    }
   ],
   "source": [
    "n = int(input()) # n = 12479\n",
    "edigit = odigit = 0\n",
    "for i in str(n):\n",
    "    if int(i)%2 == 0:\n",
    "        edigit += 1\n",
    "    else:\n",
    "        odigit += 1  \n",
    "print(f\"Even digits: {edigit}\")\n",
    "print(f\"Odd digits: {odigit}\")"
   ]
  }
 ],
 "metadata": {
  "kernelspec": {
   "display_name": "Python 3 (ipykernel)",
   "language": "python",
   "name": "python3"
  },
  "language_info": {
   "codemirror_mode": {
    "name": "ipython",
    "version": 3
   },
   "file_extension": ".py",
   "mimetype": "text/x-python",
   "name": "python",
   "nbconvert_exporter": "python",
   "pygments_lexer": "ipython3",
   "version": "3.10.4"
  },
  "latex_envs": {
   "LaTeX_envs_menu_present": true,
   "autoclose": false,
   "autocomplete": true,
   "bibliofile": "biblio.bib",
   "cite_by": "apalike",
   "current_citInitial": 1,
   "eqLabelWithNumbers": true,
   "eqNumInitial": 1,
   "hotkeys": {
    "equation": "Ctrl-E",
    "itemize": "Ctrl-I"
   },
   "labels_anchors": false,
   "latex_user_defs": false,
   "report_style_numbering": false,
   "user_envs_cfg": false
  },
  "toc": {
   "base_numbering": 1,
   "nav_menu": {},
   "number_sections": true,
   "sideBar": true,
   "skip_h1_title": false,
   "title_cell": "Table of Contents",
   "title_sidebar": "Contents",
   "toc_cell": false,
   "toc_position": {},
   "toc_section_display": true,
   "toc_window_display": false
  }
 },
 "nbformat": 4,
 "nbformat_minor": 5
}
