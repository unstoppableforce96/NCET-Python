{
 "cells": [
  {
   "cell_type": "markdown",
   "id": "e6e6881f",
   "metadata": {},
   "source": [
    "# Nested Lists"
   ]
  },
  {
   "cell_type": "code",
   "execution_count": 5,
   "id": "0f22b142",
   "metadata": {},
   "outputs": [
    {
     "name": "stdout",
     "output_type": "stream",
     "text": [
      "[[10, 20, 30], [40, 50, 60], [70, 80, 90]]\n",
      "3\n",
      "[10, 20, 30]\n",
      "[40, 50, 60]\n",
      "50\n"
     ]
    }
   ],
   "source": [
    "# ind   0   1   2     0   1   2     0   1   2\n",
    "lst = [[10, 20, 30], [40, 50, 60], [70, 80, 90]]\n",
    "#ind        0              1             2\n",
    "print(lst)\n",
    "print(len(lst))\n",
    "print(lst[0])\n",
    "print(lst[1])\n",
    "print(lst[1][1])"
   ]
  },
  {
   "cell_type": "code",
   "execution_count": 6,
   "id": "f788b0a1",
   "metadata": {},
   "outputs": [
    {
     "name": "stdout",
     "output_type": "stream",
     "text": [
      "10 20 30 40 50 60 70 80 90 "
     ]
    }
   ],
   "source": [
    "# ind   0   1   2     0   1   2     0   1   2\n",
    "lst = [[10, 20, 30], [40, 50, 60], [70, 80, 90]]\n",
    "#ind        0              1             2\n",
    "for i in range(len(lst)): # i = 0 1 2\n",
    "    for j in range(len(lst[i])): # j = 0 1 2\n",
    "        print(lst[i][j], end = ' ')"
   ]
  },
  {
   "cell_type": "code",
   "execution_count": 8,
   "id": "3cfb041a",
   "metadata": {},
   "outputs": [
    {
     "name": "stdout",
     "output_type": "stream",
     "text": [
      "10 20 30 40 50 60 70 80 90 "
     ]
    }
   ],
   "source": [
    "lst = [[10, 20, 30], [40, 50, 60], [70, 80, 90]]\n",
    "for i in lst:\n",
    "    for j in i:\n",
    "        print(j, end = ' ')"
   ]
  },
  {
   "cell_type": "markdown",
   "id": "60c4b649",
   "metadata": {},
   "source": [
    "# How to read list of lists"
   ]
  },
  {
   "cell_type": "code",
   "execution_count": 10,
   "id": "7b18f513",
   "metadata": {},
   "outputs": [
    {
     "name": "stdout",
     "output_type": "stream",
     "text": [
      "10 20 30\n",
      "40 50 60 70 80 90\n",
      "14 15\n",
      "[[10, 20, 30], [40, 50, 60, 70, 80, 90], [14, 15]]\n"
     ]
    }
   ],
   "source": [
    "outer_list = []\n",
    "n = 3\n",
    "for _ in range(n):\n",
    "    inner_list = list(map(int, input().split()))\n",
    "    outer_list.append(inner_list)\n",
    "print(outer_list)"
   ]
  },
  {
   "cell_type": "code",
   "execution_count": 11,
   "id": "11a772a8",
   "metadata": {},
   "outputs": [
    {
     "name": "stdout",
     "output_type": "stream",
     "text": [
      "3\n",
      "10 20 30\n",
      "40 50 60\n",
      "70 80 90\n",
      "[[10, 20, 30], [40, 50, 60], [70, 80, 90]]\n"
     ]
    }
   ],
   "source": [
    "n = int(input())\n",
    "# [[10, 20, 30],\n",
    "# [40, 50, 60],\n",
    "# [70, 80, 90]]\n",
    "mat = []\n",
    "for i in range(n):\n",
    "    row = list(map(int, input().split()))\n",
    "    mat.append(row)\n",
    "print(mat)"
   ]
  },
  {
   "cell_type": "code",
   "execution_count": 14,
   "id": "e7c5c885",
   "metadata": {
    "scrolled": true
   },
   "outputs": [
    {
     "name": "stdout",
     "output_type": "stream",
     "text": [
      "[['r', 'a', 7], ['t', 'h', 4], ['u', 'h', 4]]\n"
     ]
    }
   ],
   "source": [
    "names = ['ironman', 'thor', 'hulk']\n",
    "# list of lists which contains \n",
    "# max(names[0]), min(names[0]), len(names[0])\n",
    "# [['r', 'a', 7], ['t', 'h', 4], ['u', 'h', 4]]\n",
    "details = []\n",
    "for i in names:\n",
    "    details.append([max(i), min(i), len(i)])\n",
    "print(details)"
   ]
  },
  {
   "cell_type": "code",
   "execution_count": 15,
   "id": "29f2ee68",
   "metadata": {},
   "outputs": [
    {
     "name": "stdout",
     "output_type": "stream",
     "text": [
      "[['r', 'a', 7], ['t', 'h', 4], ['u', 'h', 4]]\n"
     ]
    }
   ],
   "source": [
    "names = ['ironman', 'thor', 'hulk']\n",
    "# list of lists which contains \n",
    "# max(names[0]), min(names[0]), len(names[0])\n",
    "# [['r', 'a', 7], ['t', 'h', 4], ['u', 'h', 4]]\n",
    "details = [[max(i), min(i), len(i)] for i in names]\n",
    "print(details)"
   ]
  },
  {
   "cell_type": "code",
   "execution_count": 17,
   "id": "6eb52026",
   "metadata": {},
   "outputs": [
    {
     "name": "stdout",
     "output_type": "stream",
     "text": [
      "10 20 30 40\n",
      "[10, 20, 30, 40]\n"
     ]
    }
   ],
   "source": [
    "list_of_integers = [int(x) for x in input().split()]\n",
    "print(list_of_integers)"
   ]
  },
  {
   "cell_type": "code",
   "execution_count": 18,
   "id": "7ed3863c",
   "metadata": {},
   "outputs": [
    {
     "name": "stdout",
     "output_type": "stream",
     "text": [
      "10 20 30\n",
      "40 50 60\n",
      "70 80 90\n",
      "[[10, 20, 30], [40, 50, 60], [70, 80, 90]]\n"
     ]
    }
   ],
   "source": [
    "list_of_integers = [[int(x) for x in input().split()] for i in range(3)]\n",
    "print(list_of_integers)"
   ]
  },
  {
   "cell_type": "code",
   "execution_count": 19,
   "id": "d2f904a8",
   "metadata": {},
   "outputs": [
    {
     "name": "stdout",
     "output_type": "stream",
     "text": [
      "2 2\n",
      "10 20\n",
      "30 40\n",
      "[[10, 20], [30, 40]]\n"
     ]
    }
   ],
   "source": [
    "r, c = map(int, input().split())\n",
    "mat = [[int(x) for x in input().split()] for i in range(r)]\n",
    "print(mat)"
   ]
  },
  {
   "cell_type": "markdown",
   "id": "83ab7e11",
   "metadata": {},
   "source": [
    "![Matrix](mat.jpg)"
   ]
  },
  {
   "cell_type": "code",
   "execution_count": 22,
   "id": "57950936",
   "metadata": {},
   "outputs": [
    {
     "name": "stdout",
     "output_type": "stream",
     "text": [
      "4 3\n",
      "1 2 3\n",
      "4 5 6\n",
      "-6 -4 -1\n",
      "7 5 9\n",
      "21\n"
     ]
    }
   ],
   "source": [
    "# find out the maximum of row-wise sums of a matrix\n",
    "r, c = map(int, input().split())\n",
    "mat = []\n",
    "for i in range(r):\n",
    "    x = list(map(int, input().split()))\n",
    "    mat.append(x)\n",
    "\n",
    "sums = [] \n",
    "for i in mat:\n",
    "    sums.append(sum(i))\n",
    "print(max(sums))"
   ]
  },
  {
   "cell_type": "code",
   "execution_count": 29,
   "id": "fee141a1",
   "metadata": {},
   "outputs": [
    {
     "name": "stdout",
     "output_type": "stream",
     "text": [
      "3\n",
      "10 20 30\n",
      "40 50 60\n",
      "70 80 90\n",
      "150\n"
     ]
    }
   ],
   "source": [
    "# Add the elements of principal diagonal\n",
    "n = int(input())\n",
    "mat = []\n",
    "for i in range(n):\n",
    "    x = list(map(int, input().split()))\n",
    "    mat.append(x)\n",
    "    \n",
    "s = 0\n",
    "for i in range(n): # range(3) --> 0 1 2\n",
    "    for j in range(n): # range(3) --> 0 1 2\n",
    "        if i == j:\n",
    "            s = s + mat[i][j]\n",
    "print(s)"
   ]
  },
  {
   "cell_type": "code",
   "execution_count": 32,
   "id": "f75639da",
   "metadata": {},
   "outputs": [
    {
     "name": "stdout",
     "output_type": "stream",
     "text": [
      "400\n"
     ]
    }
   ],
   "source": [
    "# Sum of all Boundary elements in matrix\n",
    "mat = [[10, 20, 30],\n",
    "       [40, 50, 60],\n",
    "       [70, 80, 90]]\n",
    "n = len(mat)\n",
    "S = 0\n",
    "for i in range(n):\n",
    "    for j in range(n):\n",
    "        if i == 0 or i == n - 1 or j == 0 or j == n - 1:\n",
    "            S += mat[i][j]\n",
    "print(S)"
   ]
  }
 ],
 "metadata": {
  "kernelspec": {
   "display_name": "Python 3 (ipykernel)",
   "language": "python",
   "name": "python3"
  },
  "language_info": {
   "codemirror_mode": {
    "name": "ipython",
    "version": 3
   },
   "file_extension": ".py",
   "mimetype": "text/x-python",
   "name": "python",
   "nbconvert_exporter": "python",
   "pygments_lexer": "ipython3",
   "version": "3.10.4"
  },
  "latex_envs": {
   "LaTeX_envs_menu_present": true,
   "autoclose": false,
   "autocomplete": true,
   "bibliofile": "biblio.bib",
   "cite_by": "apalike",
   "current_citInitial": 1,
   "eqLabelWithNumbers": true,
   "eqNumInitial": 1,
   "hotkeys": {
    "equation": "Ctrl-E",
    "itemize": "Ctrl-I"
   },
   "labels_anchors": false,
   "latex_user_defs": false,
   "report_style_numbering": false,
   "user_envs_cfg": false
  },
  "toc": {
   "base_numbering": 1,
   "nav_menu": {},
   "number_sections": true,
   "sideBar": true,
   "skip_h1_title": false,
   "title_cell": "Table of Contents",
   "title_sidebar": "Contents",
   "toc_cell": false,
   "toc_position": {},
   "toc_section_display": true,
   "toc_window_display": false
  }
 },
 "nbformat": 4,
 "nbformat_minor": 5
}
