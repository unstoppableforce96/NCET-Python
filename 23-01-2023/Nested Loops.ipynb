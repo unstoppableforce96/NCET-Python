{
 "cells": [
  {
   "cell_type": "markdown",
   "id": "cb20bcc4",
   "metadata": {},
   "source": [
    "# Nested Loops"
   ]
  },
  {
   "cell_type": "code",
   "execution_count": 3,
   "id": "6dab20d5",
   "metadata": {},
   "outputs": [
    {
     "name": "stdout",
     "output_type": "stream",
     "text": [
      "Day1 Day2 Day3 Day4 Day5 Day6 Day7 \n",
      "Day1 Day2 Day3 Day4 Day5 Day6 Day7 \n",
      "Day1 Day2 Day3 Day4 Day5 Day6 Day7 \n",
      "Day1 Day2 Day3 Day4 Day5 Day6 Day7 "
     ]
    }
   ],
   "source": [
    "# Day1 Day2 Day3 Day4 Day5 Day6 Day7\n",
    "for i in range(1, 8):\n",
    "    print(f'Day{i}', end = ' ')\n",
    "print()\n",
    "for i in range(1, 8):\n",
    "    print(f'Day{i}', end = ' ')\n",
    "print()\n",
    "for i in range(1, 8):\n",
    "    print(f'Day{i}', end = ' ')\n",
    "print()\n",
    "for i in range(1, 8):\n",
    "    print(f'Day{i}', end = ' ')"
   ]
  },
  {
   "cell_type": "code",
   "execution_count": null,
   "id": "1484940c",
   "metadata": {},
   "outputs": [],
   "source": [
    "Day1 Day2 Day3 Day4 Day5 Day6 Day7 \n",
    "Day1 Day2 Day3 Day4 Day5 Day6 Day7 \n",
    "Day1 Day2 Day3 Day4 Day5 Day6 Day7 \n",
    "Day1 Day2 Day3 Day4 Day5 Day6 Day7 "
   ]
  },
  {
   "cell_type": "code",
   "execution_count": 6,
   "id": "68259cff",
   "metadata": {},
   "outputs": [
    {
     "name": "stdout",
     "output_type": "stream",
     "text": [
      "Week1\n",
      "Day1 Day2 Day3 Day4 Day5 Day6 Day7 \n",
      "Week2\n",
      "Day1 Day2 Day3 Day4 Day5 Day6 Day7 \n",
      "Week3\n",
      "Day1 Day2 Day3 Day4 Day5 Day6 Day7 \n",
      "Week4\n",
      "Day1 Day2 Day3 Day4 Day5 Day6 Day7 \n"
     ]
    }
   ],
   "source": [
    "# Day1 Day2 Day3 Day4 Day5 Day6 Day7\n",
    "for j in range(1, 5):\n",
    "    print(f'Week{j}')\n",
    "    for i in range(1, 8):\n",
    "        print(f'Day{i}', end = ' ')\n",
    "    print()"
   ]
  },
  {
   "cell_type": "code",
   "execution_count": 7,
   "id": "c6001b73",
   "metadata": {},
   "outputs": [
    {
     "name": "stdout",
     "output_type": "stream",
     "text": [
      "Month1\n",
      "Week1\n",
      "Day1 Day2 Day3 Day4 Day5 Day6 Day7 \n",
      "Week2\n",
      "Day1 Day2 Day3 Day4 Day5 Day6 Day7 \n",
      "Week3\n",
      "Day1 Day2 Day3 Day4 Day5 Day6 Day7 \n",
      "Week4\n",
      "Day1 Day2 Day3 Day4 Day5 Day6 Day7 \n",
      "Month2\n",
      "Week1\n",
      "Day1 Day2 Day3 Day4 Day5 Day6 Day7 \n",
      "Week2\n",
      "Day1 Day2 Day3 Day4 Day5 Day6 Day7 \n",
      "Week3\n",
      "Day1 Day2 Day3 Day4 Day5 Day6 Day7 \n",
      "Week4\n",
      "Day1 Day2 Day3 Day4 Day5 Day6 Day7 \n",
      "Month3\n",
      "Week1\n",
      "Day1 Day2 Day3 Day4 Day5 Day6 Day7 \n",
      "Week2\n",
      "Day1 Day2 Day3 Day4 Day5 Day6 Day7 \n",
      "Week3\n",
      "Day1 Day2 Day3 Day4 Day5 Day6 Day7 \n",
      "Week4\n",
      "Day1 Day2 Day3 Day4 Day5 Day6 Day7 \n",
      "Month4\n",
      "Week1\n",
      "Day1 Day2 Day3 Day4 Day5 Day6 Day7 \n",
      "Week2\n",
      "Day1 Day2 Day3 Day4 Day5 Day6 Day7 \n",
      "Week3\n",
      "Day1 Day2 Day3 Day4 Day5 Day6 Day7 \n",
      "Week4\n",
      "Day1 Day2 Day3 Day4 Day5 Day6 Day7 \n",
      "Month5\n",
      "Week1\n",
      "Day1 Day2 Day3 Day4 Day5 Day6 Day7 \n",
      "Week2\n",
      "Day1 Day2 Day3 Day4 Day5 Day6 Day7 \n",
      "Week3\n",
      "Day1 Day2 Day3 Day4 Day5 Day6 Day7 \n",
      "Week4\n",
      "Day1 Day2 Day3 Day4 Day5 Day6 Day7 \n",
      "Month6\n",
      "Week1\n",
      "Day1 Day2 Day3 Day4 Day5 Day6 Day7 \n",
      "Week2\n",
      "Day1 Day2 Day3 Day4 Day5 Day6 Day7 \n",
      "Week3\n",
      "Day1 Day2 Day3 Day4 Day5 Day6 Day7 \n",
      "Week4\n",
      "Day1 Day2 Day3 Day4 Day5 Day6 Day7 \n",
      "Month7\n",
      "Week1\n",
      "Day1 Day2 Day3 Day4 Day5 Day6 Day7 \n",
      "Week2\n",
      "Day1 Day2 Day3 Day4 Day5 Day6 Day7 \n",
      "Week3\n",
      "Day1 Day2 Day3 Day4 Day5 Day6 Day7 \n",
      "Week4\n",
      "Day1 Day2 Day3 Day4 Day5 Day6 Day7 \n",
      "Month8\n",
      "Week1\n",
      "Day1 Day2 Day3 Day4 Day5 Day6 Day7 \n",
      "Week2\n",
      "Day1 Day2 Day3 Day4 Day5 Day6 Day7 \n",
      "Week3\n",
      "Day1 Day2 Day3 Day4 Day5 Day6 Day7 \n",
      "Week4\n",
      "Day1 Day2 Day3 Day4 Day5 Day6 Day7 \n",
      "Month9\n",
      "Week1\n",
      "Day1 Day2 Day3 Day4 Day5 Day6 Day7 \n",
      "Week2\n",
      "Day1 Day2 Day3 Day4 Day5 Day6 Day7 \n",
      "Week3\n",
      "Day1 Day2 Day3 Day4 Day5 Day6 Day7 \n",
      "Week4\n",
      "Day1 Day2 Day3 Day4 Day5 Day6 Day7 \n",
      "Month10\n",
      "Week1\n",
      "Day1 Day2 Day3 Day4 Day5 Day6 Day7 \n",
      "Week2\n",
      "Day1 Day2 Day3 Day4 Day5 Day6 Day7 \n",
      "Week3\n",
      "Day1 Day2 Day3 Day4 Day5 Day6 Day7 \n",
      "Week4\n",
      "Day1 Day2 Day3 Day4 Day5 Day6 Day7 \n",
      "Month11\n",
      "Week1\n",
      "Day1 Day2 Day3 Day4 Day5 Day6 Day7 \n",
      "Week2\n",
      "Day1 Day2 Day3 Day4 Day5 Day6 Day7 \n",
      "Week3\n",
      "Day1 Day2 Day3 Day4 Day5 Day6 Day7 \n",
      "Week4\n",
      "Day1 Day2 Day3 Day4 Day5 Day6 Day7 \n",
      "Month12\n",
      "Week1\n",
      "Day1 Day2 Day3 Day4 Day5 Day6 Day7 \n",
      "Week2\n",
      "Day1 Day2 Day3 Day4 Day5 Day6 Day7 \n",
      "Week3\n",
      "Day1 Day2 Day3 Day4 Day5 Day6 Day7 \n",
      "Week4\n",
      "Day1 Day2 Day3 Day4 Day5 Day6 Day7 \n"
     ]
    }
   ],
   "source": [
    "for k in range(1, 13):\n",
    "    print(f'Month{k}')\n",
    "    for j in range(1, 5):\n",
    "        print(f'Week{j}')\n",
    "        for i in range(1, 8):\n",
    "            print(f'Day{i}', end = ' ')\n",
    "        print()"
   ]
  },
  {
   "cell_type": "code",
   "execution_count": 12,
   "id": "b64b6da9",
   "metadata": {},
   "outputs": [
    {
     "name": "stdout",
     "output_type": "stream",
     "text": [
      "101 103 107 109 113 127 131 137 139 149 151 157 163 167 173 179 181 191 193 197 199 "
     ]
    }
   ],
   "source": [
    "# prime\n",
    "for n in range(100, 200):\n",
    "    is_prime = True\n",
    "    for i in range(2, int(n ** 0.5) + 1):\n",
    "        if n % i == 0:\n",
    "            is_prime = False\n",
    "            break\n",
    "    if is_prime:\n",
    "        print(n, end = ' ')"
   ]
  },
  {
   "cell_type": "code",
   "execution_count": 13,
   "id": "9479daec",
   "metadata": {},
   "outputs": [
    {
     "name": "stdout",
     "output_type": "stream",
     "text": [
      "1000 2478\n",
      "1009 1013 1019 1021 1031 1033 1039 1049 1051 1061 1063 1069 1087 1091 1093 1097 1103 1109 1117 1123 1129 1151 1153 1163 1171 1181 1187 1193 1201 1213 1217 1223 1229 1231 1237 1249 1259 1277 1279 1283 1289 1291 1297 1301 1303 1307 1319 1321 1327 1361 1367 1373 1381 1399 1409 1423 1427 1429 1433 1439 1447 1451 1453 1459 1471 1481 1483 1487 1489 1493 1499 1511 1523 1531 1543 1549 1553 1559 1567 1571 1579 1583 1597 1601 1607 1609 1613 1619 1621 1627 1637 1657 1663 1667 1669 1693 1697 1699 1709 1721 1723 1733 1741 1747 1753 1759 1777 1783 1787 1789 1801 1811 1823 1831 1847 1861 1867 1871 1873 1877 1879 1889 1901 1907 1913 1931 1933 1949 1951 1973 1979 1987 1993 1997 1999 2003 2011 2017 2027 2029 2039 2053 2063 2069 2081 2083 2087 2089 2099 2111 2113 2129 2131 2137 2141 2143 2153 2161 2179 2203 2207 2213 2221 2237 2239 2243 2251 2267 2269 2273 2281 2287 2293 2297 2309 2311 2333 2339 2341 2347 2351 2357 2371 2377 2381 2383 2389 2393 2399 2411 2417 2423 2437 2441 2447 2459 2467 2473 2477 "
     ]
    }
   ],
   "source": [
    "# prime\n",
    "start, stop = map(int, input().split())\n",
    "for n in range(start, stop + 1):\n",
    "    is_prime = True\n",
    "    for i in range(2, int(n ** 0.5) + 1):\n",
    "        if n % i == 0:\n",
    "            is_prime = False\n",
    "            break\n",
    "    if is_prime:\n",
    "        print(n, end = ' ')"
   ]
  },
  {
   "cell_type": "code",
   "execution_count": null,
   "id": "ecc2731c",
   "metadata": {},
   "outputs": [],
   "source": [
    "Input:\n",
    "3\n",
    "10 20\n",
    "40 50\n",
    "100 200\n",
    "\n",
    "Output:\n",
    "30\n",
    "90\n",
    "300"
   ]
  },
  {
   "cell_type": "code",
   "execution_count": 15,
   "id": "10a1727c",
   "metadata": {},
   "outputs": [
    {
     "name": "stdout",
     "output_type": "stream",
     "text": [
      "3\n",
      "10 20\n",
      "30\n",
      "50 60\n",
      "110\n",
      "100 200\n",
      "300\n"
     ]
    }
   ],
   "source": [
    "t = int(input())\n",
    "for i in range(t):\n",
    "    a, b = map(int, input().split())\n",
    "    print(a + b)"
   ]
  },
  {
   "cell_type": "code",
   "execution_count": 16,
   "id": "4c13e777",
   "metadata": {},
   "outputs": [
    {
     "name": "stdout",
     "output_type": "stream",
     "text": [
      "5\n",
      "5 11\n",
      "5 7 11 17 23\n",
      "17 19 23 67 88\n",
      "67 71 73 79 83 100 120\n",
      "101 103 107 109 113 175 225\n",
      "179 181 191 193 197 199 211 223 "
     ]
    }
   ],
   "source": [
    "t = int(input())\n",
    "for _ in range(t):\n",
    "    start, stop = map(int, input().split())\n",
    "    for n in range(start, stop + 1):\n",
    "        is_prime = True\n",
    "        for i in range(2, int(n ** 0.5) + 1):\n",
    "            if n % i == 0:\n",
    "                is_prime = False\n",
    "                break\n",
    "        if is_prime:\n",
    "            print(n, end = ' ')\n",
    "    print()"
   ]
  },
  {
   "cell_type": "code",
   "execution_count": null,
   "id": "6e723ee5",
   "metadata": {},
   "outputs": [],
   "source": [
    "100\n",
    "40     60\n",
    "YES    NO"
   ]
  },
  {
   "cell_type": "code",
   "execution_count": null,
   "id": "10bcd089",
   "metadata": {},
   "outputs": [],
   "source": [
    "\n",
    "5\n",
    "YES\n",
    "NO\n",
    "YES\n",
    "NO\n",
    "YES\n",
    "\n",
    "\n",
    "print(\"YES\")"
   ]
  },
  {
   "cell_type": "code",
   "execution_count": null,
   "id": "3aab72c8",
   "metadata": {},
   "outputs": [],
   "source": [
    "print(\"NO\")"
   ]
  },
  {
   "cell_type": "code",
   "execution_count": 28,
   "id": "57f085cc",
   "metadata": {},
   "outputs": [
    {
     "name": "stdout",
     "output_type": "stream",
     "text": [
      "15\n",
      "13\n"
     ]
    }
   ],
   "source": [
    "for _ in range(int(input())):\n",
    "    n = int(input())\n",
    "    pp = n\n",
    "    np = n\n",
    "    while 1:\n",
    "        is_prime = True\n",
    "        for i in range(2, int(pp ** 0.5) + 1):\n",
    "            if pp % i == 0:\n",
    "                is_prime = False\n",
    "                break\n",
    "        if is_prime == True:\n",
    "            break\n",
    "        else:\n",
    "            pp -= 1\n",
    "    while 1:\n",
    "        is_prime = True\n",
    "        for i in range(2, int(np ** 0.5) + 1):\n",
    "            if np % i == 0:\n",
    "                is_prime = False\n",
    "                break\n",
    "        if is_prime == True:\n",
    "            break\n",
    "        else:\n",
    "            np += 1\n",
    "    if n - pp <= np - n:\n",
    "        print(pp)\n",
    "    else:\n",
    "        print(np)"
   ]
  },
  {
   "cell_type": "code",
   "execution_count": 30,
   "id": "150f2a31",
   "metadata": {},
   "outputs": [
    {
     "name": "stdout",
     "output_type": "stream",
     "text": [
      "40\n"
     ]
    }
   ],
   "source": [
    "lst = [10, 20, 30, 40]\n",
    "# print(max(lst))"
   ]
  },
  {
   "cell_type": "markdown",
   "id": "2bfacbab",
   "metadata": {},
   "source": [
    "# User Defined Functions"
   ]
  },
  {
   "cell_type": "code",
   "execution_count": null,
   "id": "1e604275",
   "metadata": {},
   "outputs": [],
   "source": [
    "def is_prime(num):\n",
    "    flag = True\n",
    "    for i in range(2, int(np ** 0.5) + 1):\n",
    "        if np % i == 0:\n",
    "            flag = False\n",
    "            break\n",
    "    return flag\n",
    "\n",
    "is_prime(10)"
   ]
  },
  {
   "cell_type": "code",
   "execution_count": 38,
   "id": "16a04659",
   "metadata": {},
   "outputs": [
    {
     "name": "stdout",
     "output_type": "stream",
     "text": [
      "51\n",
      "47 51 53\n"
     ]
    }
   ],
   "source": [
    "def is_prime(num): # num = 47\n",
    "    flag = True\n",
    "    for i in range(2, int(num ** 0.5) + 1):\n",
    "        if num % i == 0:\n",
    "            flag = False\n",
    "            break\n",
    "    return flag\n",
    "\n",
    "def run_till_prime(x, update):\n",
    "    while 1:\n",
    "        if is_prime(x):\n",
    "            break\n",
    "        x += update\n",
    "    return x\n",
    "\n",
    "n = int(input())\n",
    "pp = run_till_prime(n, -1)\n",
    "np = run_till_prime(n, 1)\n",
    "print(pp, n, np)"
   ]
  },
  {
   "cell_type": "code",
   "execution_count": 42,
   "id": "0b285b70",
   "metadata": {},
   "outputs": [
    {
     "name": "stdout",
     "output_type": "stream",
     "text": [
      "100 101 102 103 104 105 106 107 108 109 110 111 112 113 114 115 116 117 118 119 120 121 122 123 124 125 126 127 128 129 130 131 132 133 134 135 136 137 138 139 140 141 142 143 144 145 146 147 148 149 150 151 152 153 154 155 156 157 158 159 160 161 162 163 164 165 166 167 168 169 170 171 172 173 174 175 176 177 178 179 180 181 182 183 184 185 186 187 188 189 190 191 192 193 194 195 196 197 198 199 200 None\n"
     ]
    }
   ],
   "source": [
    "def nums_in_a_range(a, b):\n",
    "    for i in range(a, b + 1):\n",
    "        print(i, end = ' ')\n",
    "        \n",
    "print(nums_in_a_range(100, 200))"
   ]
  },
  {
   "cell_type": "code",
   "execution_count": 43,
   "id": "617c4fd3",
   "metadata": {},
   "outputs": [
    {
     "name": "stdout",
     "output_type": "stream",
     "text": [
      "3\n"
     ]
    }
   ],
   "source": [
    "lst = [10, 20, 30]\n",
    "print(len(lst))"
   ]
  },
  {
   "cell_type": "code",
   "execution_count": 45,
   "id": "b3da3160",
   "metadata": {},
   "outputs": [
    {
     "name": "stdout",
     "output_type": "stream",
     "text": [
      "[10, 20, 30, 50]\n"
     ]
    }
   ],
   "source": [
    "lst = [10, 20, 30]\n",
    "lst.append(50) # also a function\n",
    "print(lst)"
   ]
  },
  {
   "cell_type": "code",
   "execution_count": null,
   "id": "1e724f41",
   "metadata": {},
   "outputs": [],
   "source": []
  },
  {
   "cell_type": "code",
   "execution_count": null,
   "id": "1a16bdbc",
   "metadata": {},
   "outputs": [],
   "source": []
  },
  {
   "cell_type": "code",
   "execution_count": null,
   "id": "3b418b94",
   "metadata": {},
   "outputs": [],
   "source": []
  },
  {
   "cell_type": "code",
   "execution_count": null,
   "id": "fbb96434",
   "metadata": {},
   "outputs": [],
   "source": []
  },
  {
   "cell_type": "code",
   "execution_count": null,
   "id": "b03ac678",
   "metadata": {},
   "outputs": [],
   "source": []
  },
  {
   "cell_type": "code",
   "execution_count": null,
   "id": "76a08f80",
   "metadata": {},
   "outputs": [],
   "source": []
  },
  {
   "cell_type": "code",
   "execution_count": null,
   "id": "06c357e6",
   "metadata": {},
   "outputs": [],
   "source": []
  },
  {
   "cell_type": "code",
   "execution_count": null,
   "id": "02c1c973",
   "metadata": {},
   "outputs": [],
   "source": []
  },
  {
   "cell_type": "code",
   "execution_count": null,
   "id": "70250bc6",
   "metadata": {},
   "outputs": [],
   "source": []
  },
  {
   "cell_type": "code",
   "execution_count": null,
   "id": "8c7c199c",
   "metadata": {},
   "outputs": [],
   "source": []
  },
  {
   "cell_type": "code",
   "execution_count": null,
   "id": "b8df16d3",
   "metadata": {},
   "outputs": [],
   "source": []
  },
  {
   "cell_type": "code",
   "execution_count": null,
   "id": "f177351e",
   "metadata": {},
   "outputs": [],
   "source": []
  },
  {
   "cell_type": "code",
   "execution_count": null,
   "id": "dde0b828",
   "metadata": {},
   "outputs": [],
   "source": []
  },
  {
   "cell_type": "code",
   "execution_count": null,
   "id": "c786a906",
   "metadata": {},
   "outputs": [],
   "source": []
  },
  {
   "cell_type": "code",
   "execution_count": null,
   "id": "aff05179",
   "metadata": {},
   "outputs": [],
   "source": []
  },
  {
   "cell_type": "code",
   "execution_count": null,
   "id": "cfc75acd",
   "metadata": {},
   "outputs": [],
   "source": []
  },
  {
   "cell_type": "code",
   "execution_count": null,
   "id": "b74c7009",
   "metadata": {},
   "outputs": [],
   "source": []
  },
  {
   "cell_type": "code",
   "execution_count": null,
   "id": "7be277b7",
   "metadata": {},
   "outputs": [],
   "source": []
  },
  {
   "cell_type": "code",
   "execution_count": null,
   "id": "48485b38",
   "metadata": {},
   "outputs": [],
   "source": []
  },
  {
   "cell_type": "code",
   "execution_count": null,
   "id": "8bd6a2e6",
   "metadata": {},
   "outputs": [],
   "source": []
  },
  {
   "cell_type": "code",
   "execution_count": null,
   "id": "90540eb8",
   "metadata": {},
   "outputs": [],
   "source": []
  },
  {
   "cell_type": "code",
   "execution_count": null,
   "id": "4d962c6e",
   "metadata": {},
   "outputs": [],
   "source": []
  },
  {
   "cell_type": "code",
   "execution_count": null,
   "id": "a74957b1",
   "metadata": {},
   "outputs": [],
   "source": []
  },
  {
   "cell_type": "code",
   "execution_count": null,
   "id": "a8729203",
   "metadata": {},
   "outputs": [],
   "source": []
  },
  {
   "cell_type": "code",
   "execution_count": null,
   "id": "213786df",
   "metadata": {},
   "outputs": [],
   "source": []
  },
  {
   "cell_type": "code",
   "execution_count": null,
   "id": "3f093780",
   "metadata": {},
   "outputs": [],
   "source": []
  },
  {
   "cell_type": "code",
   "execution_count": null,
   "id": "67963a29",
   "metadata": {},
   "outputs": [],
   "source": []
  },
  {
   "cell_type": "code",
   "execution_count": null,
   "id": "32129015",
   "metadata": {},
   "outputs": [],
   "source": []
  },
  {
   "cell_type": "code",
   "execution_count": null,
   "id": "b49233d1",
   "metadata": {},
   "outputs": [],
   "source": []
  },
  {
   "cell_type": "code",
   "execution_count": null,
   "id": "186769db",
   "metadata": {},
   "outputs": [],
   "source": []
  },
  {
   "cell_type": "code",
   "execution_count": null,
   "id": "187f3572",
   "metadata": {},
   "outputs": [],
   "source": []
  },
  {
   "cell_type": "code",
   "execution_count": null,
   "id": "d84baec3",
   "metadata": {},
   "outputs": [],
   "source": []
  },
  {
   "cell_type": "code",
   "execution_count": null,
   "id": "67743a37",
   "metadata": {},
   "outputs": [],
   "source": []
  },
  {
   "cell_type": "code",
   "execution_count": null,
   "id": "1b552ea8",
   "metadata": {},
   "outputs": [],
   "source": []
  },
  {
   "cell_type": "code",
   "execution_count": null,
   "id": "ee3f9f84",
   "metadata": {},
   "outputs": [],
   "source": []
  },
  {
   "cell_type": "code",
   "execution_count": null,
   "id": "ad8f5679",
   "metadata": {},
   "outputs": [],
   "source": []
  },
  {
   "cell_type": "code",
   "execution_count": null,
   "id": "b6d6d136",
   "metadata": {},
   "outputs": [],
   "source": []
  },
  {
   "cell_type": "code",
   "execution_count": null,
   "id": "11f2f708",
   "metadata": {},
   "outputs": [],
   "source": []
  },
  {
   "cell_type": "code",
   "execution_count": null,
   "id": "f016b699",
   "metadata": {},
   "outputs": [],
   "source": []
  },
  {
   "cell_type": "code",
   "execution_count": null,
   "id": "f4b85ab8",
   "metadata": {},
   "outputs": [],
   "source": []
  },
  {
   "cell_type": "code",
   "execution_count": null,
   "id": "ddb2ca64",
   "metadata": {},
   "outputs": [],
   "source": []
  }
 ],
 "metadata": {
  "kernelspec": {
   "display_name": "Python 3 (ipykernel)",
   "language": "python",
   "name": "python3"
  },
  "language_info": {
   "codemirror_mode": {
    "name": "ipython",
    "version": 3
   },
   "file_extension": ".py",
   "mimetype": "text/x-python",
   "name": "python",
   "nbconvert_exporter": "python",
   "pygments_lexer": "ipython3",
   "version": "3.10.4"
  },
  "latex_envs": {
   "LaTeX_envs_menu_present": true,
   "autoclose": false,
   "autocomplete": true,
   "bibliofile": "biblio.bib",
   "cite_by": "apalike",
   "current_citInitial": 1,
   "eqLabelWithNumbers": true,
   "eqNumInitial": 1,
   "hotkeys": {
    "equation": "Ctrl-E",
    "itemize": "Ctrl-I"
   },
   "labels_anchors": false,
   "latex_user_defs": false,
   "report_style_numbering": false,
   "user_envs_cfg": false
  },
  "toc": {
   "base_numbering": 1,
   "nav_menu": {},
   "number_sections": true,
   "sideBar": true,
   "skip_h1_title": false,
   "title_cell": "Table of Contents",
   "title_sidebar": "Contents",
   "toc_cell": false,
   "toc_position": {},
   "toc_section_display": true,
   "toc_window_display": false
  }
 },
 "nbformat": 4,
 "nbformat_minor": 5
}
