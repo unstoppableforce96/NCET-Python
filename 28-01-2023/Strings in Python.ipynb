{
 "cells": [
  {
   "cell_type": "markdown",
   "id": "acd4a895",
   "metadata": {},
   "source": [
    "# Strings in Python\n",
    "- Everything that is put within single or doulbe or triple quotes will be treated as string"
   ]
  },
  {
   "cell_type": "code",
   "execution_count": 1,
   "id": "e7dd13a0",
   "metadata": {},
   "outputs": [
    {
     "name": "stdout",
     "output_type": "stream",
     "text": [
      "abc\n",
      "<class 'str'>\n"
     ]
    }
   ],
   "source": [
    "x = 'abc'\n",
    "print(x)\n",
    "print(type(x))"
   ]
  },
  {
   "cell_type": "code",
   "execution_count": 15,
   "id": "6cc11e32",
   "metadata": {},
   "outputs": [
    {
     "name": "stdout",
     "output_type": "stream",
     "text": [
      "5\n",
      " \n",
      "c\n"
     ]
    }
   ],
   "source": [
    "x = 'Tabc ' # A-Z --> 65-90, a-z --> 97-122, 0-9 --> 48-57\n",
    "print(len(x))\n",
    "print(min(x))\n",
    "print(max(x))"
   ]
  },
  {
   "cell_type": "code",
   "execution_count": 2,
   "id": "a2ea2098",
   "metadata": {},
   "outputs": [
    {
     "name": "stdout",
     "output_type": "stream",
     "text": [
      "abc\n",
      "<class 'str'>\n"
     ]
    }
   ],
   "source": [
    "x = \"abc\"\n",
    "print(x)\n",
    "print(type(x))"
   ]
  },
  {
   "cell_type": "code",
   "execution_count": 3,
   "id": "e21561f5",
   "metadata": {},
   "outputs": [
    {
     "name": "stdout",
     "output_type": "stream",
     "text": [
      "abc\n",
      "<class 'str'>\n"
     ]
    }
   ],
   "source": [
    "x = \"\"\"abc\"\"\"\n",
    "print(x)\n",
    "print(type(x))"
   ]
  },
  {
   "cell_type": "code",
   "execution_count": 5,
   "id": "86705be1",
   "metadata": {},
   "outputs": [
    {
     "name": "stdout",
     "output_type": "stream",
     "text": [
      "this\n",
      "is\n",
      "python\n"
     ]
    }
   ],
   "source": [
    "# \"\"\"\"\"\" are used to represent a multiline string\n",
    "x = \"\"\"this\n",
    "is\n",
    "python\"\"\"\n",
    "print(x)"
   ]
  },
  {
   "cell_type": "code",
   "execution_count": 12,
   "id": "4621e739",
   "metadata": {},
   "outputs": [
    {
     "data": {
      "text/plain": [
       "(97, 65, 35)"
      ]
     },
     "execution_count": 12,
     "metadata": {},
     "output_type": "execute_result"
    }
   ],
   "source": [
    "ord('a'), ord('A'), ord('#')"
   ]
  },
  {
   "cell_type": "code",
   "execution_count": 14,
   "id": "a293af54",
   "metadata": {},
   "outputs": [
    {
     "name": "stdout",
     "output_type": "stream",
     "text": [
      "A\n"
     ]
    }
   ],
   "source": [
    "chr(97)\n",
    "print(chr(65))"
   ]
  },
  {
   "cell_type": "code",
   "execution_count": 16,
   "id": "f16c2fe0",
   "metadata": {},
   "outputs": [
    {
     "data": {
      "text/plain": [
       "32"
      ]
     },
     "execution_count": 16,
     "metadata": {},
     "output_type": "execute_result"
    }
   ],
   "source": [
    "ord(' ')"
   ]
  },
  {
   "cell_type": "code",
   "execution_count": 18,
   "id": "f15f8d3b",
   "metadata": {},
   "outputs": [
    {
     "data": {
      "text/plain": [
       "(48, 49)"
      ]
     },
     "execution_count": 18,
     "metadata": {},
     "output_type": "execute_result"
    }
   ],
   "source": [
    "ord('0'), ord('1')"
   ]
  },
  {
   "cell_type": "code",
   "execution_count": 19,
   "id": "1725e555",
   "metadata": {},
   "outputs": [
    {
     "name": "stdout",
     "output_type": "stream",
     "text": [
      "[10, 50, 30]\n"
     ]
    }
   ],
   "source": [
    "lst = [10, 20, 30] # mutability\n",
    "lst[1] = 50\n",
    "print(lst)"
   ]
  },
  {
   "cell_type": "code",
   "execution_count": 21,
   "id": "1cfb383e",
   "metadata": {},
   "outputs": [
    {
     "ename": "TypeError",
     "evalue": "'str' object does not support item assignment",
     "output_type": "error",
     "traceback": [
      "\u001b[1;31m---------------------------------------------------------------------------\u001b[0m",
      "\u001b[1;31mTypeError\u001b[0m                                 Traceback (most recent call last)",
      "\u001b[1;32m~\\AppData\\Local\\Temp\\ipykernel_28356\\2341880729.py\u001b[0m in \u001b[0;36m<cell line: 2>\u001b[1;34m()\u001b[0m\n\u001b[0;32m      1\u001b[0m \u001b[0mstring\u001b[0m \u001b[1;33m=\u001b[0m \u001b[1;34m'abc'\u001b[0m\u001b[1;33m\u001b[0m\u001b[1;33m\u001b[0m\u001b[0m\n\u001b[1;32m----> 2\u001b[1;33m \u001b[0mstring\u001b[0m\u001b[1;33m[\u001b[0m\u001b[1;36m1\u001b[0m\u001b[1;33m]\u001b[0m \u001b[1;33m=\u001b[0m \u001b[1;34m'x'\u001b[0m\u001b[1;33m\u001b[0m\u001b[1;33m\u001b[0m\u001b[0m\n\u001b[0m\u001b[0;32m      3\u001b[0m \u001b[0mprint\u001b[0m\u001b[1;33m(\u001b[0m\u001b[0mstring\u001b[0m\u001b[1;33m)\u001b[0m\u001b[1;33m\u001b[0m\u001b[1;33m\u001b[0m\u001b[0m\n",
      "\u001b[1;31mTypeError\u001b[0m: 'str' object does not support item assignment"
     ]
    }
   ],
   "source": [
    "string = 'abc'\n",
    "string[1] = 'x'\n",
    "print(string)"
   ]
  },
  {
   "cell_type": "code",
   "execution_count": 25,
   "id": "75f9c450",
   "metadata": {},
   "outputs": [
    {
     "name": "stdout",
     "output_type": "stream",
     "text": [
      "t\n",
      "h\n",
      "n\n",
      "t\n"
     ]
    }
   ],
   "source": [
    "string = 'this is python'\n",
    "# ind     012345678......\n",
    "print(string[0])\n",
    "print(string[1])\n",
    "print(string[-1])\n",
    "print(string[-4])"
   ]
  },
  {
   "cell_type": "code",
   "execution_count": 27,
   "id": "b06596d3",
   "metadata": {},
   "outputs": [
    {
     "name": "stdout",
     "output_type": "stream",
     "text": [
      "t --> 116\n",
      "h --> 104\n",
      "i --> 105\n",
      "s --> 115\n",
      "  --> 32\n",
      "i --> 105\n",
      "s --> 115\n",
      "  --> 32\n",
      "p --> 112\n",
      "y --> 121\n",
      "t --> 116\n",
      "h --> 104\n",
      "o --> 111\n",
      "n --> 110\n"
     ]
    }
   ],
   "source": [
    "# for each_charcter in string:\n",
    "#    do something\n",
    "string = 'this is python'\n",
    "for each_character in string:\n",
    "    print(each_character, '-->', ord(each_character))"
   ]
  },
  {
   "cell_type": "code",
   "execution_count": 31,
   "id": "29c70d81",
   "metadata": {},
   "outputs": [
    {
     "name": "stdout",
     "output_type": "stream",
     "text": [
      "8 4 4 5\n",
      "21\n"
     ]
    }
   ],
   "source": [
    "# Find the counts of different types of characters in stringh\n",
    "string = 'tHis Is pYThon 3.10.4' # lowercase, uppercase, digits and special\n",
    "up = lw = di = sp = 0\n",
    "for i in string:\n",
    "    if 'a' <= i <= 'z':\n",
    "        lw += 1\n",
    "    elif 'A' <= i <= 'Z':\n",
    "        up += 1\n",
    "    elif '0' <= i <= '9':\n",
    "        di += 1\n",
    "    else:\n",
    "        sp += 1\n",
    "print(lw, up, di, sp)\n",
    "print(len(string))"
   ]
  },
  {
   "cell_type": "code",
   "execution_count": 28,
   "id": "5f4aa8a0",
   "metadata": {},
   "outputs": [
    {
     "data": {
      "text/plain": [
       "True"
      ]
     },
     "execution_count": 28,
     "metadata": {},
     "output_type": "execute_result"
    }
   ],
   "source": [
    "'a' < 'z' # 97 < 122"
   ]
  },
  {
   "cell_type": "markdown",
   "id": "0876f53b",
   "metadata": {},
   "source": [
    "## String methods\n",
    "- If at all the string produces a string, it will always return a new string\n",
    "- No string method will change original string, because strings are immutable"
   ]
  },
  {
   "cell_type": "markdown",
   "id": "b3c1d4d9",
   "metadata": {},
   "source": [
    "### str.upper()\n",
    "- Return a uppercase version of a given string"
   ]
  },
  {
   "cell_type": "code",
   "execution_count": 33,
   "id": "19329357",
   "metadata": {},
   "outputs": [
    {
     "name": "stdout",
     "output_type": "stream",
     "text": [
      "PYTHON\n"
     ]
    }
   ],
   "source": [
    "lower_case_string = 'python'\n",
    "print(lower_case_string.upper()) # return uppercase version"
   ]
  },
  {
   "cell_type": "code",
   "execution_count": 35,
   "id": "0c973db0",
   "metadata": {},
   "outputs": [
    {
     "name": "stdout",
     "output_type": "stream",
     "text": [
      "PYTHON\n"
     ]
    }
   ],
   "source": [
    "lower_case_string = 'python'\n",
    "lower_case_string = lower_case_string.upper()\n",
    "print(lower_case_string)"
   ]
  },
  {
   "cell_type": "code",
   "execution_count": 36,
   "id": "9dc788bc",
   "metadata": {},
   "outputs": [
    {
     "name": "stdout",
     "output_type": "stream",
     "text": [
      "PYTHON\n"
     ]
    }
   ],
   "source": [
    "lower_case_string = 'python'\n",
    "u = lower_case_string.upper() # return uppercase version\n",
    "print(u)"
   ]
  },
  {
   "cell_type": "markdown",
   "id": "d5542488",
   "metadata": {},
   "source": [
    "### str.lower()\n",
    "- Return lowercase version of the given string"
   ]
  },
  {
   "cell_type": "code",
   "execution_count": 37,
   "id": "b595eb6f",
   "metadata": {},
   "outputs": [
    {
     "name": "stdout",
     "output_type": "stream",
     "text": [
      "python\n"
     ]
    }
   ],
   "source": [
    "x = \"PyThON\"\n",
    "y = x.lower()\n",
    "print(y)"
   ]
  },
  {
   "cell_type": "markdown",
   "id": "96486b10",
   "metadata": {},
   "source": [
    "### str.title()\n",
    "- this is python\n",
    "- This Is Python --> title case"
   ]
  },
  {
   "cell_type": "code",
   "execution_count": 38,
   "id": "54c15cb8",
   "metadata": {},
   "outputs": [
    {
     "name": "stdout",
     "output_type": "stream",
     "text": [
      "This Is Python\n"
     ]
    }
   ],
   "source": [
    "x = 'this is python'\n",
    "title = x.title()\n",
    "print(title)"
   ]
  },
  {
   "cell_type": "markdown",
   "id": "f1f95937",
   "metadata": {},
   "source": [
    "### str.isupper()\n",
    "- Returns True if the string is made up of only uppercase alphabets"
   ]
  },
  {
   "cell_type": "code",
   "execution_count": 40,
   "id": "a57692f6",
   "metadata": {},
   "outputs": [
    {
     "name": "stdout",
     "output_type": "stream",
     "text": [
      "False\n"
     ]
    }
   ],
   "source": [
    "x = 'PYTHOn'\n",
    "print(x.isupper())"
   ]
  },
  {
   "cell_type": "code",
   "execution_count": 41,
   "id": "8df3e601",
   "metadata": {},
   "outputs": [
    {
     "name": "stdout",
     "output_type": "stream",
     "text": [
      "True\n"
     ]
    }
   ],
   "source": [
    "x = 'PYTHON'\n",
    "print(x.isupper())"
   ]
  },
  {
   "cell_type": "code",
   "execution_count": 43,
   "id": "9e9105b4",
   "metadata": {},
   "outputs": [
    {
     "name": "stdout",
     "output_type": "stream",
     "text": [
      "True\n"
     ]
    }
   ],
   "source": [
    "x = 'PYTHON123___*()'\n",
    "print(x.isupper())"
   ]
  },
  {
   "cell_type": "markdown",
   "id": "d6db0753",
   "metadata": {},
   "source": [
    "### str.islower()"
   ]
  },
  {
   "cell_type": "markdown",
   "id": "5cd8af5e",
   "metadata": {},
   "source": [
    "### str.istitle()"
   ]
  },
  {
   "cell_type": "code",
   "execution_count": 44,
   "id": "80e62abe",
   "metadata": {},
   "outputs": [
    {
     "name": "stdout",
     "output_type": "stream",
     "text": [
      "False\n"
     ]
    }
   ],
   "source": [
    "x = 'This is Python'\n",
    "print(x.istitle())"
   ]
  },
  {
   "cell_type": "code",
   "execution_count": 45,
   "id": "579ded5c",
   "metadata": {},
   "outputs": [
    {
     "name": "stdout",
     "output_type": "stream",
     "text": [
      "True\n"
     ]
    }
   ],
   "source": [
    "x = 'This Is Python'\n",
    "print(x.istitle())"
   ]
  },
  {
   "cell_type": "markdown",
   "id": "0e73c5ff",
   "metadata": {},
   "source": [
    "### isdigit()"
   ]
  },
  {
   "cell_type": "code",
   "execution_count": 48,
   "id": "88d0209b",
   "metadata": {},
   "outputs": [
    {
     "name": "stdout",
     "output_type": "stream",
     "text": [
      "True\n"
     ]
    }
   ],
   "source": [
    "x = '001234'\n",
    "print(x.isdigit())"
   ]
  },
  {
   "cell_type": "code",
   "execution_count": 47,
   "id": "cbf1ccbe",
   "metadata": {},
   "outputs": [
    {
     "name": "stdout",
     "output_type": "stream",
     "text": [
      "False\n"
     ]
    }
   ],
   "source": [
    "x = '1234sA_'\n",
    "print(x.isdigit())"
   ]
  },
  {
   "cell_type": "code",
   "execution_count": 49,
   "id": "4d49e83b",
   "metadata": {},
   "outputs": [
    {
     "name": "stdout",
     "output_type": "stream",
     "text": [
      "8 4 4 5\n",
      "21\n"
     ]
    }
   ],
   "source": [
    "# Find the counts of different types of characters in stringh\n",
    "string = 'tHis Is pYThon 3.10.4' # lowercase, uppercase, digits and special\n",
    "up = lw = di = sp = 0\n",
    "for i in string:\n",
    "    if i.islower():\n",
    "        lw += 1\n",
    "    elif i.isupper():\n",
    "        up += 1\n",
    "    elif i.isdigit():\n",
    "        di += 1\n",
    "    else:\n",
    "        sp += 1\n",
    "print(lw, up, di, sp)\n",
    "print(len(string))"
   ]
  },
  {
   "cell_type": "markdown",
   "id": "eb0658c6",
   "metadata": {},
   "source": [
    "### isalpha()\n",
    "- It the string made up of only alphabets (A-Z, a-z)"
   ]
  },
  {
   "cell_type": "code",
   "execution_count": 50,
   "id": "d822c016",
   "metadata": {},
   "outputs": [
    {
     "name": "stdout",
     "output_type": "stream",
     "text": [
      "True\n"
     ]
    }
   ],
   "source": [
    "s = 'abcdXYZ'\n",
    "print(s.isalpha())"
   ]
  },
  {
   "cell_type": "code",
   "execution_count": 52,
   "id": "9be87da8",
   "metadata": {},
   "outputs": [
    {
     "name": "stdout",
     "output_type": "stream",
     "text": [
      "False\n"
     ]
    }
   ],
   "source": [
    "s = 'abcdXYZ1_'\n",
    "print(s.isalpha())"
   ]
  },
  {
   "cell_type": "markdown",
   "id": "65b82de6",
   "metadata": {},
   "source": [
    "### str.isalnum()\n",
    "- If the string contains either alphabets or as digits, returns True"
   ]
  },
  {
   "cell_type": "code",
   "execution_count": 53,
   "id": "3dede566",
   "metadata": {},
   "outputs": [
    {
     "name": "stdout",
     "output_type": "stream",
     "text": [
      "True\n"
     ]
    }
   ],
   "source": [
    "s = 'abcdABCD'\n",
    "print(s.isalnum())"
   ]
  },
  {
   "cell_type": "code",
   "execution_count": 54,
   "id": "c21f04c6",
   "metadata": {},
   "outputs": [
    {
     "name": "stdout",
     "output_type": "stream",
     "text": [
      "True\n"
     ]
    }
   ],
   "source": [
    "s = '1234'\n",
    "print(s.isalnum())"
   ]
  },
  {
   "cell_type": "code",
   "execution_count": 55,
   "id": "5ade77cf",
   "metadata": {},
   "outputs": [
    {
     "name": "stdout",
     "output_type": "stream",
     "text": [
      "True\n"
     ]
    }
   ],
   "source": [
    "s = '1234AbAZU'\n",
    "print(s.isalnum())"
   ]
  },
  {
   "cell_type": "code",
   "execution_count": 56,
   "id": "f2cd4ac7",
   "metadata": {},
   "outputs": [
    {
     "name": "stdout",
     "output_type": "stream",
     "text": [
      "False\n"
     ]
    }
   ],
   "source": [
    "s = '1234 AbAZU'\n",
    "print(s.isalnum())"
   ]
  },
  {
   "cell_type": "markdown",
   "id": "019ede7f",
   "metadata": {},
   "source": [
    "### str.swapcase()"
   ]
  },
  {
   "cell_type": "code",
   "execution_count": 57,
   "id": "c5e8d173",
   "metadata": {},
   "outputs": [
    {
     "name": "stdout",
     "output_type": "stream",
     "text": [
      "PyTHon\n"
     ]
    }
   ],
   "source": [
    "x = 'pYthON'\n",
    "print(x.swapcase())"
   ]
  },
  {
   "cell_type": "markdown",
   "id": "ea60e93c",
   "metadata": {},
   "source": [
    "### str.find()"
   ]
  },
  {
   "cell_type": "code",
   "execution_count": 58,
   "id": "bb571aa5",
   "metadata": {},
   "outputs": [
    {
     "data": {
      "text/plain": [
       "5"
      ]
     },
     "execution_count": 58,
     "metadata": {},
     "output_type": "execute_result"
    }
   ],
   "source": [
    "string = 'python'\n",
    "# ind     012345\n",
    "string.find('n')"
   ]
  },
  {
   "cell_type": "code",
   "execution_count": 59,
   "id": "ba6a7311",
   "metadata": {},
   "outputs": [
    {
     "data": {
      "text/plain": [
       "-1"
      ]
     },
     "execution_count": 59,
     "metadata": {},
     "output_type": "execute_result"
    }
   ],
   "source": [
    "string = 'python'\n",
    "# ind     012345\n",
    "string.find('N')"
   ]
  },
  {
   "cell_type": "code",
   "execution_count": 60,
   "id": "542bba57",
   "metadata": {},
   "outputs": [
    {
     "data": {
      "text/plain": [
       "1"
      ]
     },
     "execution_count": 60,
     "metadata": {},
     "output_type": "execute_result"
    }
   ],
   "source": [
    "string = 'python'\n",
    "# ind     012345\n",
    "string.find('yth')"
   ]
  },
  {
   "cell_type": "code",
   "execution_count": 61,
   "id": "8a6b26b8",
   "metadata": {},
   "outputs": [
    {
     "name": "stdout",
     "output_type": "stream",
     "text": [
      "7\n"
     ]
    }
   ],
   "source": [
    "string = 'python is simple'\n",
    "# ind     0\n",
    "print(string.find('i'))"
   ]
  },
  {
   "cell_type": "code",
   "execution_count": null,
   "id": "f7b0e571",
   "metadata": {},
   "outputs": [],
   "source": [
    "find(str, start_index, end_index)\n",
    "find(str)\n",
    "find(str, start_index)"
   ]
  },
  {
   "cell_type": "code",
   "execution_count": 63,
   "id": "46466374",
   "metadata": {},
   "outputs": [
    {
     "name": "stdout",
     "output_type": "stream",
     "text": [
      "11\n"
     ]
    }
   ],
   "source": [
    "string = 'python is simple'\n",
    "print(string.find('i', 8))"
   ]
  },
  {
   "cell_type": "code",
   "execution_count": 64,
   "id": "6e0e272f",
   "metadata": {},
   "outputs": [
    {
     "name": "stdout",
     "output_type": "stream",
     "text": [
      "-1\n"
     ]
    }
   ],
   "source": [
    "string = 'python is simple'\n",
    "print(string.find('i', 8, 10))"
   ]
  },
  {
   "cell_type": "code",
   "execution_count": 67,
   "id": "2f83f121",
   "metadata": {},
   "outputs": [
    {
     "name": "stdout",
     "output_type": "stream",
     "text": [
      "-1\n"
     ]
    }
   ],
   "source": [
    "string = 'python is simple'\n",
    "print(string.find('i', 8, 11))"
   ]
  },
  {
   "cell_type": "markdown",
   "id": "279c4546",
   "metadata": {},
   "source": [
    "### str.starswith()\n",
    "- Tell us if the given string starts with the given substring"
   ]
  },
  {
   "cell_type": "code",
   "execution_count": 68,
   "id": "dcb32b20",
   "metadata": {},
   "outputs": [
    {
     "name": "stdout",
     "output_type": "stream",
     "text": [
      "True\n"
     ]
    }
   ],
   "source": [
    "s = 'python'\n",
    "print(s.startswith('p'))"
   ]
  },
  {
   "cell_type": "code",
   "execution_count": 69,
   "id": "eea6fd85",
   "metadata": {},
   "outputs": [
    {
     "name": "stdout",
     "output_type": "stream",
     "text": [
      "True\n"
     ]
    }
   ],
   "source": [
    "s = 'python'\n",
    "print(s.startswith('pyt'))"
   ]
  },
  {
   "cell_type": "code",
   "execution_count": 70,
   "id": "75a91509",
   "metadata": {},
   "outputs": [
    {
     "name": "stdout",
     "output_type": "stream",
     "text": [
      "False\n"
     ]
    }
   ],
   "source": [
    "s = 'python'\n",
    "print(s.startswith('pty'))"
   ]
  },
  {
   "cell_type": "markdown",
   "id": "9ab77e70",
   "metadata": {},
   "source": [
    "### str.endswith()"
   ]
  },
  {
   "cell_type": "code",
   "execution_count": 71,
   "id": "1fe3927b",
   "metadata": {},
   "outputs": [
    {
     "name": "stdout",
     "output_type": "stream",
     "text": [
      "True\n"
     ]
    }
   ],
   "source": [
    "x = '25'\n",
    "y = '625'\n",
    "print(y.endswith(x))"
   ]
  }
 ],
 "metadata": {
  "kernelspec": {
   "display_name": "Python 3 (ipykernel)",
   "language": "python",
   "name": "python3"
  },
  "language_info": {
   "codemirror_mode": {
    "name": "ipython",
    "version": 3
   },
   "file_extension": ".py",
   "mimetype": "text/x-python",
   "name": "python",
   "nbconvert_exporter": "python",
   "pygments_lexer": "ipython3",
   "version": "3.10.4"
  },
  "latex_envs": {
   "LaTeX_envs_menu_present": true,
   "autoclose": false,
   "autocomplete": true,
   "bibliofile": "biblio.bib",
   "cite_by": "apalike",
   "current_citInitial": 1,
   "eqLabelWithNumbers": true,
   "eqNumInitial": 1,
   "hotkeys": {
    "equation": "Ctrl-E",
    "itemize": "Ctrl-I"
   },
   "labels_anchors": false,
   "latex_user_defs": false,
   "report_style_numbering": false,
   "user_envs_cfg": false
  },
  "toc": {
   "base_numbering": 1,
   "nav_menu": {},
   "number_sections": true,
   "sideBar": true,
   "skip_h1_title": false,
   "title_cell": "Table of Contents",
   "title_sidebar": "Contents",
   "toc_cell": false,
   "toc_position": {},
   "toc_section_display": true,
   "toc_window_display": false
  }
 },
 "nbformat": 4,
 "nbformat_minor": 5
}
