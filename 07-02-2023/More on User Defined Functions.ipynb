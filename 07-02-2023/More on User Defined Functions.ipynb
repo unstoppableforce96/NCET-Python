{
 "cells": [
  {
   "cell_type": "code",
   "execution_count": 1,
   "id": "f6d61b0e",
   "metadata": {},
   "outputs": [
    {
     "name": "stdout",
     "output_type": "stream",
     "text": [
      "Mumbai is in India which is in Asia\n"
     ]
    }
   ],
   "source": [
    "def location(city, country, continent):\n",
    "    print(f'{city} is in {country} which is in {continent}')\n",
    "    \n",
    "location('Mumbai', 'India', 'Asia')"
   ]
  },
  {
   "cell_type": "code",
   "execution_count": 2,
   "id": "63036249",
   "metadata": {},
   "outputs": [
    {
     "name": "stdout",
     "output_type": "stream",
     "text": [
      "Mumbai is in India which is in Asia\n"
     ]
    }
   ],
   "source": [
    "def location(city, country, continent):\n",
    "    print(f'{city} is in {country} which is in {continent}')\n",
    "    \n",
    "location(continent='Asia', city='Mumbai', country='India')"
   ]
  },
  {
   "cell_type": "code",
   "execution_count": null,
   "id": "deb9d853",
   "metadata": {},
   "outputs": [],
   "source": [
    "lst = [1, -7,  13, 12]\n",
    "lst.sort() # ascending order of elements\n",
    "print(lst)"
   ]
  },
  {
   "cell_type": "code",
   "execution_count": 3,
   "id": "9a4f25f0",
   "metadata": {},
   "outputs": [
    {
     "name": "stdout",
     "output_type": "stream",
     "text": [
      "[-7, 1, 12, 13]\n"
     ]
    }
   ],
   "source": [
    "lst = [1, -7,  13, 12]\n",
    "lst.sort() # ascending order of elements\n",
    "print(lst)"
   ]
  },
  {
   "cell_type": "code",
   "execution_count": null,
   "id": "5c3f0648",
   "metadata": {},
   "outputs": [],
   "source": [
    "reverse, key\n",
    "reverse = False\n",
    "key = None"
   ]
  },
  {
   "cell_type": "code",
   "execution_count": 4,
   "id": "97256864",
   "metadata": {},
   "outputs": [
    {
     "name": "stdout",
     "output_type": "stream",
     "text": [
      "[13, 12, 1, -7]\n"
     ]
    }
   ],
   "source": [
    "lst = [1, -7,  13, 12]\n",
    "lst.sort(reverse = True) # ascending order of elements\n",
    "print(lst)"
   ]
  },
  {
   "cell_type": "code",
   "execution_count": 5,
   "id": "619c2ee7",
   "metadata": {},
   "outputs": [
    {
     "name": "stdout",
     "output_type": "stream",
     "text": [
      "['adheera', 'garuda', 'rocky', 'tina']\n"
     ]
    }
   ],
   "source": [
    "names = ['rocky', 'garuda', 'adheera', 'tina']\n",
    "# ['adheera', 'garuda', 'rocky', 'tina']\n",
    "names.sort() # reverse = False, key = fun\n",
    "print(names)"
   ]
  },
  {
   "cell_type": "code",
   "execution_count": 6,
   "id": "e71e478a",
   "metadata": {},
   "outputs": [
    {
     "name": "stdout",
     "output_type": "stream",
     "text": [
      "['tina', 'rocky', 'garuda', 'adheera']\n"
     ]
    }
   ],
   "source": [
    "names = ['rocky', 'garuda', 'adheera', 'tina']\n",
    "# ['tina', 'rocky', 'garuda', 'adheera']\n",
    "names.sort(key = len) # reverse = False, key = fun\n",
    "print(names)"
   ]
  },
  {
   "cell_type": "code",
   "execution_count": 7,
   "id": "7c7c8d8a",
   "metadata": {},
   "outputs": [
    {
     "name": "stdout",
     "output_type": "stream",
     "text": [
      "Mumbai is in India which is in Asia\n"
     ]
    }
   ],
   "source": [
    "def location(city, country, continent='Asia'):\n",
    "    # 2 positional arguments city, country --> must\n",
    "    # 1 default argument\n",
    "    print(f'{city} is in {country} which is in {continent}')\n",
    "    \n",
    "location('Mumbai', 'India')"
   ]
  },
  {
   "cell_type": "code",
   "execution_count": 8,
   "id": "0ee5af0f",
   "metadata": {},
   "outputs": [
    {
     "name": "stdout",
     "output_type": "stream",
     "text": [
      "Shaghai is in China which is in Asia\n"
     ]
    }
   ],
   "source": [
    "def location(city, country, continent='Asia'):\n",
    "    # 2 positional arguments city, country --> must\n",
    "    # 1 default argument\n",
    "    print(f'{city} is in {country} which is in {continent}')\n",
    "    \n",
    "location('Shaghai', 'China')"
   ]
  },
  {
   "cell_type": "code",
   "execution_count": 9,
   "id": "407125f9",
   "metadata": {},
   "outputs": [
    {
     "name": "stdout",
     "output_type": "stream",
     "text": [
      "Berlin is in Germany which is in Asia\n"
     ]
    }
   ],
   "source": [
    "def location(city, country, continent='Asia'):\n",
    "    # 2 positional arguments city, country --> must\n",
    "    # 1 default argument\n",
    "    print(f'{city} is in {country} which is in {continent}')\n",
    "    \n",
    "location('Berlin', 'Germany', 'Europe')"
   ]
  },
  {
   "cell_type": "code",
   "execution_count": 10,
   "id": "ce2dd4b9",
   "metadata": {},
   "outputs": [
    {
     "ename": "SyntaxError",
     "evalue": "non-default argument follows default argument (2950879462.py, line 2)",
     "output_type": "error",
     "traceback": [
      "\u001b[1;36m  File \u001b[1;32m\"C:\\Users\\Unstoppable Force\\AppData\\Local\\Temp\\ipykernel_26720\\2950879462.py\"\u001b[1;36m, line \u001b[1;32m2\u001b[0m\n\u001b[1;33m    def location(city, country='India', continent):\u001b[0m\n\u001b[1;37m                                        ^\u001b[0m\n\u001b[1;31mSyntaxError\u001b[0m\u001b[1;31m:\u001b[0m non-default argument follows default argument\n"
     ]
    }
   ],
   "source": [
    "# After default parameters we cannot write positional parameters\n",
    "def location(city, country='India', continent):\n",
    "    # 2 positional arguments city, country --> must\n",
    "    # 1 default argument\n",
    "    print(f'{city} is in {country} which is in {continent}')\n",
    "    \n",
    "location('Berlin', 'Germany', 'Europe')"
   ]
  },
  {
   "cell_type": "code",
   "execution_count": 11,
   "id": "7c337084",
   "metadata": {},
   "outputs": [
    {
     "ename": "SyntaxError",
     "evalue": "non-default argument follows default argument (2497909682.py, line 2)",
     "output_type": "error",
     "traceback": [
      "\u001b[1;36m  File \u001b[1;32m\"C:\\Users\\Unstoppable Force\\AppData\\Local\\Temp\\ipykernel_26720\\2497909682.py\"\u001b[1;36m, line \u001b[1;32m2\u001b[0m\n\u001b[1;33m    def location(city='Mumbai', country='India', continent):\u001b[0m\n\u001b[1;37m                                                 ^\u001b[0m\n\u001b[1;31mSyntaxError\u001b[0m\u001b[1;31m:\u001b[0m non-default argument follows default argument\n"
     ]
    }
   ],
   "source": [
    "# After default parameters we cannot write positional parameters\n",
    "def location(city='Mumbai', country='India', continent):\n",
    "    # 2 positional arguments city, country --> must\n",
    "    # 1 default argument\n",
    "    print(f'{city} is in {country} which is in {continent}')\n",
    "    \n",
    "location('Berlin', 'Germany', 'Europe')"
   ]
  },
  {
   "cell_type": "code",
   "execution_count": 12,
   "id": "b551c7c7",
   "metadata": {},
   "outputs": [
    {
     "ename": "SyntaxError",
     "evalue": "non-default argument follows default argument (613751054.py, line 2)",
     "output_type": "error",
     "traceback": [
      "\u001b[1;36m  File \u001b[1;32m\"C:\\Users\\Unstoppable Force\\AppData\\Local\\Temp\\ipykernel_26720\\613751054.py\"\u001b[1;36m, line \u001b[1;32m2\u001b[0m\n\u001b[1;33m    def location(city='Mumbai', country, continent):\u001b[0m\n\u001b[1;37m                                ^\u001b[0m\n\u001b[1;31mSyntaxError\u001b[0m\u001b[1;31m:\u001b[0m non-default argument follows default argument\n"
     ]
    }
   ],
   "source": [
    "# After default parameters we cannot write positional parameters\n",
    "def location(city='Mumbai', country, continent):\n",
    "    # 2 positional arguments city, country --> must\n",
    "    # 1 default argument\n",
    "    print(f'{city} is in {country} which is in {continent}')\n",
    "    \n",
    "location('Berlin', 'Germany', 'Europe')"
   ]
  },
  {
   "cell_type": "code",
   "execution_count": 16,
   "id": "723653f8",
   "metadata": {},
   "outputs": [
    {
     "name": "stdout",
     "output_type": "stream",
     "text": [
      "Mumbai is in India which is in Asia\n",
      "Hyderabad is in India which is in Asia\n",
      "Karachi is in Pakistan which is in Asia\n",
      "Nairobi is in Kenya which is in Africa\n"
     ]
    }
   ],
   "source": [
    "# After default parameters we cannot write positional parameters\n",
    "def location(city='Mumbai', country='India', continent='Asia'):\n",
    "    # 3 default arguments\n",
    "    print(f'{city} is in {country} which is in {continent}')\n",
    "    \n",
    "location() # without arguments\n",
    "location('Hyderabad') # 1 argument\n",
    "location('Karachi', 'Pakistan') # 2 arguments\n",
    "location('Nairobi', 'Kenya', 'Africa')"
   ]
  },
  {
   "cell_type": "markdown",
   "id": "b26d3368",
   "metadata": {},
   "source": [
    "# Doc Strings in functions"
   ]
  },
  {
   "cell_type": "code",
   "execution_count": 18,
   "id": "13029b48",
   "metadata": {},
   "outputs": [
    {
     "name": "stdout",
     "output_type": "stream",
     "text": [
      "Return the sum of a 'start' value (default: 0) plus an iterable of numbers\n",
      "\n",
      "When the iterable is empty, return the start value.\n",
      "This function is intended specifically for use with numeric values and may\n",
      "reject non-numeric types.\n"
     ]
    }
   ],
   "source": [
    "print(sum.__doc__)"
   ]
  },
  {
   "cell_type": "code",
   "execution_count": 20,
   "id": "f8dae90d",
   "metadata": {},
   "outputs": [
    {
     "name": "stdout",
     "output_type": "stream",
     "text": [
      "Help on built-in function sum in module builtins:\n",
      "\n",
      "sum(iterable, /, start=0)\n",
      "    Return the sum of a 'start' value (default: 0) plus an iterable of numbers\n",
      "    \n",
      "    When the iterable is empty, return the start value.\n",
      "    This function is intended specifically for use with numeric values and may\n",
      "    reject non-numeric types.\n",
      "\n"
     ]
    }
   ],
   "source": [
    "help(sum)"
   ]
  },
  {
   "cell_type": "code",
   "execution_count": 21,
   "id": "dd314cd8",
   "metadata": {},
   "outputs": [
    {
     "name": "stdout",
     "output_type": "stream",
     "text": [
      "30\n"
     ]
    }
   ],
   "source": [
    "def add(a, b):\n",
    "    \"\"\"\n",
    "    Accepts two integers a and b\n",
    "    Returns a + b\n",
    "    \"\"\"\n",
    "    return a + b\n",
    "\n",
    "print(add(10, 20))"
   ]
  },
  {
   "cell_type": "code",
   "execution_count": 22,
   "id": "0c9337d5",
   "metadata": {},
   "outputs": [
    {
     "name": "stdout",
     "output_type": "stream",
     "text": [
      "\n",
      "    Accepts two integers a and b\n",
      "    Returns a + b\n",
      "    \n"
     ]
    }
   ],
   "source": [
    "print(add.__doc__)"
   ]
  },
  {
   "cell_type": "code",
   "execution_count": 23,
   "id": "0b27e21a",
   "metadata": {},
   "outputs": [
    {
     "name": "stdout",
     "output_type": "stream",
     "text": [
      "Help on function add in module __main__:\n",
      "\n",
      "add(a, b)\n",
      "    Accepts two integers a and b\n",
      "    Returns a + b\n",
      "\n"
     ]
    }
   ],
   "source": [
    "help(add)"
   ]
  },
  {
   "cell_type": "code",
   "execution_count": 24,
   "id": "706ee720",
   "metadata": {
    "scrolled": true
   },
   "outputs": [
    {
     "name": "stdout",
     "output_type": "stream",
     "text": [
      "10 20 30 40\n",
      "Hello\n"
     ]
    }
   ],
   "source": [
    "print(10, 20, 30, 40) # ends with a new line\n",
    "print('Hello')"
   ]
  },
  {
   "cell_type": "code",
   "execution_count": 25,
   "id": "d58c47f3",
   "metadata": {},
   "outputs": [
    {
     "name": "stdout",
     "output_type": "stream",
     "text": [
      "10,20,30,40pavanHello\n"
     ]
    }
   ],
   "source": [
    "print(10, 20, 30, 40, ',', 'pavan') # ends with a new line\n",
    "print('Hello')"
   ]
  },
  {
   "cell_type": "code",
   "execution_count": 26,
   "id": "437aa567",
   "metadata": {},
   "outputs": [
    {
     "name": "stdout",
     "output_type": "stream",
     "text": [
      "Tokyo is in Japan which is in South America\n"
     ]
    }
   ],
   "source": [
    "# After default parameters we cannot write positional parameters\n",
    "def location(city, country, continent='Asia'):\n",
    "    # 2 positional arguments city, country --> must\n",
    "    # 1 default argument\n",
    "    print(f'{city} is in {country} which is in {continent}')\n",
    "    \n",
    "location('Tokyo', 'Japan', 'South America')"
   ]
  },
  {
   "cell_type": "code",
   "execution_count": 27,
   "id": "282c498b",
   "metadata": {},
   "outputs": [
    {
     "name": "stdout",
     "output_type": "stream",
     "text": [
      "Tokyo is in Japan which is in South America\n"
     ]
    }
   ],
   "source": [
    "# After default parameters we cannot write positional parameters\n",
    "def location(city, country, continent='Asia'):\n",
    "    # 2 positional arguments city, country --> must\n",
    "    # 1 default argument\n",
    "    print(f'{city} is in {country} which is in {continent}')\n",
    "    \n",
    "location('Tokyo', 'Japan', 'South America')"
   ]
  },
  {
   "cell_type": "code",
   "execution_count": 28,
   "id": "7f7a5d24",
   "metadata": {},
   "outputs": [
    {
     "data": {
      "text/plain": [
       "2"
      ]
     },
     "execution_count": 28,
     "metadata": {},
     "output_type": "execute_result"
    }
   ],
   "source": [
    "max(1, 2)"
   ]
  },
  {
   "cell_type": "code",
   "execution_count": 29,
   "id": "ed17a22b",
   "metadata": {},
   "outputs": [
    {
     "data": {
      "text/plain": [
       "2"
      ]
     },
     "execution_count": 29,
     "metadata": {},
     "output_type": "execute_result"
    }
   ],
   "source": [
    "def my_max(a, b):\n",
    "    return a if a > b else b\n",
    "\n",
    "my_max(1, 2)"
   ]
  },
  {
   "cell_type": "code",
   "execution_count": 30,
   "id": "6cae3aad",
   "metadata": {},
   "outputs": [
    {
     "data": {
      "text/plain": [
       "3"
      ]
     },
     "execution_count": 30,
     "metadata": {},
     "output_type": "execute_result"
    }
   ],
   "source": [
    "max(1, 2, 3)"
   ]
  },
  {
   "cell_type": "code",
   "execution_count": 31,
   "id": "648e4898",
   "metadata": {},
   "outputs": [
    {
     "ename": "TypeError",
     "evalue": "my_max() takes 2 positional arguments but 3 were given",
     "output_type": "error",
     "traceback": [
      "\u001b[1;31m---------------------------------------------------------------------------\u001b[0m",
      "\u001b[1;31mTypeError\u001b[0m                                 Traceback (most recent call last)",
      "\u001b[1;32m~\\AppData\\Local\\Temp\\ipykernel_26720\\2521420054.py\u001b[0m in \u001b[0;36m<cell line: 1>\u001b[1;34m()\u001b[0m\n\u001b[1;32m----> 1\u001b[1;33m \u001b[0mmy_max\u001b[0m\u001b[1;33m(\u001b[0m\u001b[1;36m1\u001b[0m\u001b[1;33m,\u001b[0m \u001b[1;36m2\u001b[0m\u001b[1;33m,\u001b[0m \u001b[1;36m3\u001b[0m\u001b[1;33m)\u001b[0m\u001b[1;33m\u001b[0m\u001b[1;33m\u001b[0m\u001b[0m\n\u001b[0m",
      "\u001b[1;31mTypeError\u001b[0m: my_max() takes 2 positional arguments but 3 were given"
     ]
    }
   ],
   "source": [
    "my_max(1, 2, 3)"
   ]
  },
  {
   "cell_type": "code",
   "execution_count": 32,
   "id": "36ca7f68",
   "metadata": {},
   "outputs": [
    {
     "data": {
      "text/plain": [
       "4"
      ]
     },
     "execution_count": 32,
     "metadata": {},
     "output_type": "execute_result"
    }
   ],
   "source": [
    "max(1, 2, 3, 4)"
   ]
  },
  {
   "cell_type": "markdown",
   "id": "38756de3",
   "metadata": {},
   "source": [
    "# The creation of a function which takes arbitrary number of arguments"
   ]
  },
  {
   "cell_type": "code",
   "execution_count": 41,
   "id": "4fcc9054",
   "metadata": {},
   "outputs": [
    {
     "data": {
      "text/plain": [
       "36"
      ]
     },
     "execution_count": 41,
     "metadata": {},
     "output_type": "execute_result"
    }
   ],
   "source": [
    "def Sum(*A):\n",
    "    s = 0\n",
    "    for i in A:\n",
    "        s += i\n",
    "    return s\n",
    "    \n",
    "Sum(1, 2, 3, 4, 5, 6, 7, 8, 9, 10)\n",
    "Sum(1, 2, 3, 4, 5, 6, 7, 8, 9)\n",
    "Sum(1, 2, 3, 4, 5, 6, 7, 8)"
   ]
  },
  {
   "cell_type": "code",
   "execution_count": 33,
   "id": "e6f08bc2",
   "metadata": {},
   "outputs": [
    {
     "name": "stdout",
     "output_type": "stream",
     "text": [
      "10 20\n"
     ]
    }
   ],
   "source": [
    "a, b = 10, 20\n",
    "print(a, b)"
   ]
  },
  {
   "cell_type": "code",
   "execution_count": 34,
   "id": "431d35f4",
   "metadata": {},
   "outputs": [
    {
     "name": "stdout",
     "output_type": "stream",
     "text": [
      "10 20 30\n"
     ]
    }
   ],
   "source": [
    "a, b, c = 10, 20, 30\n",
    "print(a, b, c)"
   ]
  },
  {
   "cell_type": "code",
   "execution_count": 36,
   "id": "4821f704",
   "metadata": {},
   "outputs": [
    {
     "name": "stdout",
     "output_type": "stream",
     "text": [
      "(10, 20, 30)\n",
      "<class 'tuple'>\n"
     ]
    }
   ],
   "source": [
    "a = 10, 20, 30\n",
    "print(a)\n",
    "print(type(a))"
   ]
  },
  {
   "cell_type": "code",
   "execution_count": 43,
   "id": "5b57d6cf",
   "metadata": {},
   "outputs": [
    {
     "name": "stdout",
     "output_type": "stream",
     "text": [
      "155\n",
      "45\n",
      "36\n"
     ]
    }
   ],
   "source": [
    "def Sum(*A, s=0):\n",
    "    for i in A:\n",
    "        s += i\n",
    "    return s\n",
    "    \n",
    "print(Sum(1, 2, 3, 4, 5, 6, 7, 8, 9, 10, s=100))\n",
    "print(Sum(1, 2, 3, 4, 5, 6, 7, 8, 9))\n",
    "print(Sum(1, 2, 3, 4, 5, 6, 7, 8))"
   ]
  },
  {
   "cell_type": "code",
   "execution_count": 45,
   "id": "96ae34b6",
   "metadata": {},
   "outputs": [
    {
     "name": "stdout",
     "output_type": "stream",
     "text": [
      "10,20,30\n"
     ]
    }
   ],
   "source": [
    "print(10, 20, 30, sep=',')"
   ]
  },
  {
   "cell_type": "code",
   "execution_count": 48,
   "id": "dd242c93",
   "metadata": {},
   "outputs": [
    {
     "data": {
      "text/plain": [
       "70"
      ]
     },
     "execution_count": 48,
     "metadata": {},
     "output_type": "execute_result"
    }
   ],
   "source": [
    "sum([10, 20, 30], 10)"
   ]
  },
  {
   "cell_type": "code",
   "execution_count": 49,
   "id": "15cc8ed3",
   "metadata": {},
   "outputs": [
    {
     "name": "stdout",
     "output_type": "stream",
     "text": [
      "10\n",
      "20\n",
      "30\n",
      "60\n"
     ]
    }
   ],
   "source": [
    "# Create a function which takes no arguments but returns something\n",
    "def get_i():\n",
    "    return int(input())\n",
    "\n",
    "def get_f():\n",
    "    return float(input())\n",
    "    \n",
    "def get_s():\n",
    "    return str(input())\n",
    "\n",
    "\n",
    "a = get_i()\n",
    "b = get_i()\n",
    "c = get_i()\n",
    "print(a + b + c)"
   ]
  },
  {
   "cell_type": "code",
   "execution_count": 52,
   "id": "7a893b21",
   "metadata": {},
   "outputs": [
    {
     "name": "stdout",
     "output_type": "stream",
     "text": [
      "(13, 7, 30, 3)\n",
      "<class 'tuple'>\n"
     ]
    }
   ],
   "source": [
    "def arithmetic_operations(a, b):\n",
    "    return (a + b, a - b, a * b, a // b)\n",
    "\n",
    "res = arithmetic_operations(10, 3)\n",
    "print(res)\n",
    "print(type(res))"
   ]
  },
  {
   "cell_type": "code",
   "execution_count": 53,
   "id": "b2a95c6d",
   "metadata": {},
   "outputs": [
    {
     "name": "stdout",
     "output_type": "stream",
     "text": [
      "5\n",
      "25\n"
     ]
    }
   ],
   "source": [
    "# Generic read() function\n",
    "def read(datatype, single=0):\n",
    "    if single == 0:\n",
    "        return map(datatype, input().split())\n",
    "    else:\n",
    "        return datatype(input()) # int(input())\n",
    "    \n",
    "n = read(int, 1)\n",
    "print(n * n)"
   ]
  },
  {
   "cell_type": "code",
   "execution_count": null,
   "id": "7e689617",
   "metadata": {},
   "outputs": [],
   "source": [
    "# int --> int(input())\n",
    "# float --> float(input())\n",
    "# str --> str(input())\n",
    "\n",
    "# map(int, input().split())\n",
    "# map(float, input().split())\n",
    "# map(str, input().split())"
   ]
  },
  {
   "cell_type": "code",
   "execution_count": 54,
   "id": "3fe52c76",
   "metadata": {},
   "outputs": [
    {
     "name": "stdout",
     "output_type": "stream",
     "text": [
      "10 20 30\n",
      "60\n"
     ]
    }
   ],
   "source": [
    "# Generic read() function\n",
    "def read(datatype, single=0):\n",
    "    if single == 0:\n",
    "        return map(datatype, input().split())\n",
    "    else:\n",
    "        return datatype(input()) # int(input())\n",
    "    \n",
    "a, b, c = read(int)\n",
    "print(a + b + c)"
   ]
  },
  {
   "cell_type": "code",
   "execution_count": 55,
   "id": "71d8186d",
   "metadata": {},
   "outputs": [
    {
     "name": "stdout",
     "output_type": "stream",
     "text": [
      "1 2 3 4\n",
      "10\n"
     ]
    }
   ],
   "source": [
    "# Generic read() function\n",
    "def read(datatype, single=0):\n",
    "    if single == 0:\n",
    "        return map(datatype, input().split())\n",
    "    else:\n",
    "        return datatype(input()) # int(input())\n",
    "    \n",
    "lst = list(read(int))\n",
    "print(sum(lst))"
   ]
  },
  {
   "cell_type": "code",
   "execution_count": 56,
   "id": "21312cc8",
   "metadata": {},
   "outputs": [
    {
     "ename": "SyntaxError",
     "evalue": "non-default argument follows default argument (3712936053.py, line 1)",
     "output_type": "error",
     "traceback": [
      "\u001b[1;36m  File \u001b[1;32m\"C:\\Users\\Unstoppable Force\\AppData\\Local\\Temp\\ipykernel_26720\\3712936053.py\"\u001b[1;36m, line \u001b[1;32m1\u001b[0m\n\u001b[1;33m    def add(a = 10, b, c):\u001b[0m\n\u001b[1;37m                    ^\u001b[0m\n\u001b[1;31mSyntaxError\u001b[0m\u001b[1;31m:\u001b[0m non-default argument follows default argument\n"
     ]
    }
   ],
   "source": [
    "def add(a = 10, b, c):\n",
    "    print(a + b + c)\n",
    "\n",
    "add(10, 20, 30)"
   ]
  },
  {
   "cell_type": "code",
   "execution_count": 57,
   "id": "9ef95dd5",
   "metadata": {},
   "outputs": [
    {
     "ename": "SyntaxError",
     "evalue": "positional argument follows keyword argument (1266895947.py, line 4)",
     "output_type": "error",
     "traceback": [
      "\u001b[1;36m  File \u001b[1;32m\"C:\\Users\\Unstoppable Force\\AppData\\Local\\Temp\\ipykernel_26720\\1266895947.py\"\u001b[1;36m, line \u001b[1;32m4\u001b[0m\n\u001b[1;33m    add(a, c = 10, b)\u001b[0m\n\u001b[1;37m                    ^\u001b[0m\n\u001b[1;31mSyntaxError\u001b[0m\u001b[1;31m:\u001b[0m positional argument follows keyword argument\n"
     ]
    }
   ],
   "source": [
    "def add(a, b, c):\n",
    "    print(a + b + c)\n",
    "\n",
    "add(a, c = 10, b)"
   ]
  },
  {
   "cell_type": "code",
   "execution_count": null,
   "id": "5f253ba8",
   "metadata": {},
   "outputs": [],
   "source": []
  }
 ],
 "metadata": {
  "kernelspec": {
   "display_name": "Python 3 (ipykernel)",
   "language": "python",
   "name": "python3"
  },
  "language_info": {
   "codemirror_mode": {
    "name": "ipython",
    "version": 3
   },
   "file_extension": ".py",
   "mimetype": "text/x-python",
   "name": "python",
   "nbconvert_exporter": "python",
   "pygments_lexer": "ipython3",
   "version": "3.10.4"
  },
  "latex_envs": {
   "LaTeX_envs_menu_present": true,
   "autoclose": false,
   "autocomplete": true,
   "bibliofile": "biblio.bib",
   "cite_by": "apalike",
   "current_citInitial": 1,
   "eqLabelWithNumbers": true,
   "eqNumInitial": 1,
   "hotkeys": {
    "equation": "Ctrl-E",
    "itemize": "Ctrl-I"
   },
   "labels_anchors": false,
   "latex_user_defs": false,
   "report_style_numbering": false,
   "user_envs_cfg": false
  },
  "toc": {
   "base_numbering": 1,
   "nav_menu": {},
   "number_sections": true,
   "sideBar": true,
   "skip_h1_title": false,
   "title_cell": "Table of Contents",
   "title_sidebar": "Contents",
   "toc_cell": false,
   "toc_position": {},
   "toc_section_display": true,
   "toc_window_display": false
  }
 },
 "nbformat": 4,
 "nbformat_minor": 5
}
