{
 "cells": [
  {
   "cell_type": "markdown",
   "id": "a8e2e394",
   "metadata": {},
   "source": [
    "# map(func, iterable)"
   ]
  },
  {
   "cell_type": "code",
   "execution_count": 1,
   "id": "3e84e61b",
   "metadata": {},
   "outputs": [
    {
     "name": "stdout",
     "output_type": "stream",
     "text": [
      "[6, 5, 7]\n"
     ]
    }
   ],
   "source": [
    "lst = ['berlin', 'tokyo', 'palermo']\n",
    "print(list(map(len, lst)))"
   ]
  },
  {
   "cell_type": "markdown",
   "id": "1d6a4ab0",
   "metadata": {},
   "source": [
    "# filter()\n",
    "- filter(func, iterable)\n",
    "- It will filter the element if the return value is True, when  \n",
    "- sent to the function"
   ]
  },
  {
   "cell_type": "code",
   "execution_count": 6,
   "id": "d9d1e726",
   "metadata": {},
   "outputs": [
    {
     "name": "stdout",
     "output_type": "stream",
     "text": [
      "[35, 45, 31]\n"
     ]
    }
   ],
   "source": [
    "def fun1(n):\n",
    "    return 30 <= n < 50\n",
    "ages = [12, 14, 76, 35, 45, 31, 4, 92, 7]\n",
    "# adults = >=30 <50\n",
    "adults = list(filter(fun1, ages))\n",
    "print(adults)"
   ]
  },
  {
   "cell_type": "code",
   "execution_count": 4,
   "id": "157704b7",
   "metadata": {},
   "outputs": [
    {
     "data": {
      "text/plain": [
       "False"
      ]
     },
     "execution_count": 4,
     "metadata": {},
     "output_type": "execute_result"
    }
   ],
   "source": [
    "30 <= 95 < 50"
   ]
  },
  {
   "cell_type": "code",
   "execution_count": 7,
   "id": "81f61ffe",
   "metadata": {},
   "outputs": [
    {
     "name": "stdout",
     "output_type": "stream",
     "text": [
      "[35, 45, 31]\n"
     ]
    }
   ],
   "source": [
    "ages = [12, 14, 76, 35, 45, 31, 4, 92, 7]\n",
    "# adults = >=30 <50\n",
    "adults = list(filter(lambda n: 30 <= n < 50, ages))\n",
    "print(adults)"
   ]
  },
  {
   "cell_type": "code",
   "execution_count": 11,
   "id": "532ae07a",
   "metadata": {},
   "outputs": [
    {
     "name": "stdout",
     "output_type": "stream",
     "text": [
      "['sachin', 'kohli', 'dhoni', 'ponting', 'dravid']\n"
     ]
    }
   ],
   "source": [
    "def two_vowels(s):\n",
    "    return len([i for i in s if i in 'aeiouAEIOU']) == 2\n",
    "names = ['sachin', 'kohli', 'abd', 'dhoni', 'sangakkara', \n",
    "        'ponting', 'dravid']\n",
    "# Filter the names that are having exactly 2 vowels in them\n",
    "filtered_names = list(filter(two_vowels, names))\n",
    "print(filtered_names)"
   ]
  },
  {
   "cell_type": "code",
   "execution_count": 9,
   "id": "ad074306",
   "metadata": {},
   "outputs": [
    {
     "data": {
      "text/plain": [
       "2"
      ]
     },
     "execution_count": 9,
     "metadata": {},
     "output_type": "execute_result"
    }
   ],
   "source": [
    "def two_vowels(s):\n",
    "    return len([i for i in s if i in 'aeiouAEIOU'])\n",
    "\n",
    "two_vowels('sachin')"
   ]
  },
  {
   "cell_type": "code",
   "execution_count": 12,
   "id": "14f3b908",
   "metadata": {},
   "outputs": [
    {
     "name": "stdout",
     "output_type": "stream",
     "text": [
      "['sachin', 'kohli', 'dhoni', 'ponting', 'dravid']\n"
     ]
    }
   ],
   "source": [
    "def two_vowels(s):\n",
    "    return len([i for i in s if i in 'aeiouAEIOU']) == 2\n",
    "names = ['sachin', 'kohli', 'abd', 'dhoni', 'sangakkara', \n",
    "        'ponting', 'dravid']\n",
    "# Filter the names that are having exactly 2 vowels in them\n",
    "filtered_names = list(filter(lambda s: len([i for i in s if i in 'aeiouAEIOU']) == 2, names))\n",
    "print(filtered_names)"
   ]
  },
  {
   "cell_type": "markdown",
   "id": "da08f100",
   "metadata": {},
   "source": [
    "# list.sort()"
   ]
  },
  {
   "cell_type": "code",
   "execution_count": 13,
   "id": "257b86d2",
   "metadata": {},
   "outputs": [
    {
     "name": "stdout",
     "output_type": "stream",
     "text": [
      "[-14, -1, 10, 14, 16]\n"
     ]
    }
   ],
   "source": [
    "lst = [10, -1, 14, -14, 16]\n",
    "lst.sort() #in-place sort\n",
    "print(lst)"
   ]
  },
  {
   "cell_type": "code",
   "execution_count": 14,
   "id": "bd6d66ea",
   "metadata": {},
   "outputs": [
    {
     "name": "stdout",
     "output_type": "stream",
     "text": [
      "[16, 14, 10, -1, -14]\n"
     ]
    }
   ],
   "source": [
    "lst = [10, -1, 14, -14, 16]\n",
    "lst.sort(reverse = True) #in-place sort\n",
    "print(lst)"
   ]
  },
  {
   "cell_type": "code",
   "execution_count": 15,
   "id": "6d7fb61d",
   "metadata": {},
   "outputs": [
    {
     "name": "stdout",
     "output_type": "stream",
     "text": [
      "['abd', 'dhoni', 'dravid', 'kohli', 'ponting', 'sachin', 'sangakkara']\n"
     ]
    }
   ],
   "source": [
    "names = ['sachin', 'kohli', 'abd', 'dhoni', 'sangakkara', \n",
    "        'ponting', 'dravid']\n",
    "names.sort()\n",
    "print(names)"
   ]
  },
  {
   "cell_type": "code",
   "execution_count": 16,
   "id": "49681db7",
   "metadata": {},
   "outputs": [
    {
     "name": "stdout",
     "output_type": "stream",
     "text": [
      "['abd', 'kohli', 'dhoni', 'sachin', 'dravid', 'ponting', 'sangakkara']\n"
     ]
    }
   ],
   "source": [
    "names = ['sachin', 'kohli', 'abd', 'dhoni', 'sangakkara', \n",
    "        'ponting', 'dravid']\n",
    "names.sort(key=len)\n",
    "print(names)"
   ]
  },
  {
   "cell_type": "code",
   "execution_count": 24,
   "id": "f8a42e34",
   "metadata": {},
   "outputs": [
    {
     "name": "stdout",
     "output_type": "stream",
     "text": [
      "['abd', 'dhoni', 'sachin', 'sangakkara', 'kohli', 'dravid', 'ponting']\n"
     ]
    }
   ],
   "source": [
    "def fun(s):\n",
    "    return ord(min(s)) + ord(max(s))\n",
    "names = ['sachin', 'kohli', 'abd', 'dhoni', 'sangakkara', \n",
    "        'ponting', 'dravid']\n",
    "names.sort(key=fun)\n",
    "print(names)"
   ]
  },
  {
   "cell_type": "code",
   "execution_count": 31,
   "id": "5d2d8ba2",
   "metadata": {},
   "outputs": [
    {
     "name": "stdout",
     "output_type": "stream",
     "text": [
      "219\n"
     ]
    }
   ],
   "source": [
    "def fun(s):\n",
    "    return ord(min(s)) + ord(max(s))\n",
    "print(fun('ponting')) # min = 'a', max = 'd'"
   ]
  },
  {
   "cell_type": "code",
   "execution_count": 32,
   "id": "3a68a98d",
   "metadata": {},
   "outputs": [
    {
     "name": "stdout",
     "output_type": "stream",
     "text": [
      "['abd', 'dhoni', 'sachin', 'sangakkara', 'kohli', 'dravid', 'ponting']\n"
     ]
    }
   ],
   "source": [
    "names = ['sachin', 'kohli', 'abd', 'dhoni', 'sangakkara', \n",
    "        'ponting', 'dravid']\n",
    "names.sort(key=lambda s: ord(max(s)) + ord(min(s)))\n",
    "print(names)"
   ]
  },
  {
   "cell_type": "code",
   "execution_count": 33,
   "id": "20cc7f26",
   "metadata": {},
   "outputs": [
    {
     "data": {
      "text/plain": [
       "5"
      ]
     },
     "execution_count": 33,
     "metadata": {},
     "output_type": "execute_result"
    }
   ],
   "source": [
    "x = lambda s: len(s)\n",
    "x('hello')"
   ]
  },
  {
   "cell_type": "code",
   "execution_count": 36,
   "id": "378afe1f",
   "metadata": {},
   "outputs": [
    {
     "name": "stdout",
     "output_type": "stream",
     "text": [
      "['y', 't']\n"
     ]
    }
   ],
   "source": [
    "print(list(filter(lambda s: ord(s) > 115, 'python')))"
   ]
  },
  {
   "cell_type": "code",
   "execution_count": 37,
   "id": "b069c8e9",
   "metadata": {},
   "outputs": [
    {
     "data": {
      "text/plain": [
       "(121, 116)"
      ]
     },
     "execution_count": 37,
     "metadata": {},
     "output_type": "execute_result"
    }
   ],
   "source": [
    "ord('y'), ord('t')"
   ]
  },
  {
   "cell_type": "markdown",
   "id": "c44cd9bc",
   "metadata": {},
   "source": [
    "# random module"
   ]
  },
  {
   "cell_type": "code",
   "execution_count": 50,
   "id": "1f9125f1",
   "metadata": {},
   "outputs": [
    {
     "name": "stdout",
     "output_type": "stream",
     "text": [
      "10\n"
     ]
    }
   ],
   "source": [
    "# randint\n",
    "import random\n",
    "print(random.randint(1, 10)) # a random number from 1 to 10 (both inclusive)"
   ]
  },
  {
   "cell_type": "code",
   "execution_count": 76,
   "id": "432b76a9",
   "metadata": {},
   "outputs": [
    {
     "name": "stdout",
     "output_type": "stream",
     "text": [
      "[18, 17, 48, 83, 52]\n"
     ]
    }
   ],
   "source": [
    "# generating a list of random integers from 1 to 100 (20)\n",
    "random_nums = [random.randint(1, 100) for i in range(5)]\n",
    "print(random_nums)"
   ]
  },
  {
   "cell_type": "code",
   "execution_count": 90,
   "id": "648b300e",
   "metadata": {},
   "outputs": [
    {
     "name": "stdout",
     "output_type": "stream",
     "text": [
      "[48, 76, 77, 55, 24]\n"
     ]
    }
   ],
   "source": [
    "random_nums = []\n",
    "for i in range(5):\n",
    "    x = random.randint(1, 100)\n",
    "    random_nums.append(x)\n",
    "print(random_nums)"
   ]
  },
  {
   "cell_type": "code",
   "execution_count": 114,
   "id": "3ab8b5f6",
   "metadata": {},
   "outputs": [
    {
     "name": "stdout",
     "output_type": "stream",
     "text": [
      "['v', 'x', 'j', 'b', 'o']\n"
     ]
    }
   ],
   "source": [
    "# generating a list of alphabets from a to z in random way\n",
    "random_chars = [chr(random.randint(97, 122)) for i in range(5)]\n",
    "print(random_chars)"
   ]
  },
  {
   "cell_type": "code",
   "execution_count": 123,
   "id": "ee02039f",
   "metadata": {},
   "outputs": [
    {
     "name": "stdout",
     "output_type": "stream",
     "text": [
      "146\n",
      "ofwctzqlyvtxrcbxdjxvurxykmltqosplmqpqllhypfwalgaxnsinwkvppytasbkaqgwyajlxaovfjayyhhzbyxhlcmvdrdrdyxpzhdjulmgjwbhltsijaooxhvavtaimgsgjsqxtfamvdklna\n"
     ]
    }
   ],
   "source": [
    "# generating a list of alphabets from a to z in random way\n",
    "size = int(input())\n",
    "random_string = ''.join([chr(random.randint(97, 122)) for i in range(size)])\n",
    "print(random_string)"
   ]
  },
  {
   "cell_type": "code",
   "execution_count": null,
   "id": "f9cdec5b",
   "metadata": {},
   "outputs": [],
   "source": [
    "# randrange()"
   ]
  },
  {
   "cell_type": "code",
   "execution_count": 131,
   "id": "3e10c058",
   "metadata": {},
   "outputs": [
    {
     "name": "stdout",
     "output_type": "stream",
     "text": [
      "65\n"
     ]
    }
   ],
   "source": [
    "print(random.randrange(5, 100, 5))"
   ]
  },
  {
   "cell_type": "code",
   "execution_count": 144,
   "id": "de680120",
   "metadata": {},
   "outputs": [
    {
     "name": "stdout",
     "output_type": "stream",
     "text": [
      "40\n"
     ]
    }
   ],
   "source": [
    "# random.choice()\n",
    "# it helps get a random value from an iterable\n",
    "lst = [10, 20, 30, 40, 50, 60]\n",
    "ch = random.choice(lst)\n",
    "print(ch)"
   ]
  },
  {
   "cell_type": "code",
   "execution_count": 162,
   "id": "6263596a",
   "metadata": {},
   "outputs": [
    {
     "name": "stdout",
     "output_type": "stream",
     "text": [
      "h\n"
     ]
    }
   ],
   "source": [
    "# random.choice()\n",
    "# it helps get a random value from an iterable\n",
    "string = 'python is simple'\n",
    "ch = random.choice(string)\n",
    "print(ch)"
   ]
  },
  {
   "cell_type": "code",
   "execution_count": 169,
   "id": "6cb3f38b",
   "metadata": {},
   "outputs": [
    {
     "name": "stdout",
     "output_type": "stream",
     "text": [
      "100\n"
     ]
    }
   ],
   "source": [
    "# random.choice()\n",
    "# it helps get a random value from an iterable\n",
    "r = range(100, 90, -1)\n",
    "ch = random.choice(r)\n",
    "print(ch)"
   ]
  },
  {
   "cell_type": "code",
   "execution_count": 163,
   "id": "c3eefdf2",
   "metadata": {},
   "outputs": [
    {
     "name": "stdout",
     "output_type": "stream",
     "text": [
      "[100, 99, 98, 97, 96, 95, 94, 93, 92, 91]\n"
     ]
    }
   ],
   "source": [
    "r = range(100, 90, -1)\n",
    "print(list(r))"
   ]
  },
  {
   "cell_type": "code",
   "execution_count": 191,
   "id": "c7058512",
   "metadata": {},
   "outputs": [
    {
     "name": "stdout",
     "output_type": "stream",
     "text": [
      "['y', 'p', 'h', 't', ' ']\n"
     ]
    }
   ],
   "source": [
    "# sample\n",
    "string = 'python is simple'\n",
    "sample_list = random.sample(string, 5)\n",
    "print(sample_list)"
   ]
  },
  {
   "cell_type": "code",
   "execution_count": 190,
   "id": "9bf8159c",
   "metadata": {},
   "outputs": [
    {
     "name": "stdout",
     "output_type": "stream",
     "text": [
      "[30, 40, 20, 10]\n"
     ]
    }
   ],
   "source": [
    "# sample\n",
    "lst = [10, 20, 30, 40]\n",
    "sample_list = random.sample(lst, 4)\n",
    "print(sample_list)"
   ]
  },
  {
   "cell_type": "code",
   "execution_count": 203,
   "id": "cb682483",
   "metadata": {},
   "outputs": [
    {
     "name": "stdout",
     "output_type": "stream",
     "text": [
      "['l', 'i', 'y', 'h', ' ', 'p', ' ', 's', 's', 'i', 'o', 'e', 'n', 'h', 's', 'i', 'i', 'h', 'o', 'p', ' ', 'm', 'i', 'n', 'p', 'i', 'i', ' ', 's', ' ', 'i', 's', 's', 't', 'p', 'e', ' ', 'i', ' ', 's', 'n', 'y', 'p', 'i', 'n', 'y', 'n', 'i', 's', 's', 't', 'o', ' ', 'p', 'y', ' ', 'p', ' ', 'i', 'n', 'i', ' ', 's', 'o', 's', 'p', 's', 'p', 'i', 'm', ' ', 'e', 'i', ' ', 'y', ' ', 'l', 't', 'h', 's', 'l', 'i', ' ', 's', 'o', 's', 'p', 'l', 'i', 'e', 's', 'n', 'l', 'n', ' ', 'p', ' ', 't', 'y', 'e']\n"
     ]
    }
   ],
   "source": [
    "# choices\n",
    "string = 'python is simple'\n",
    "sample_list = random.choices(string, k=100)\n",
    "print(sample_list)"
   ]
  },
  {
   "cell_type": "code",
   "execution_count": 204,
   "id": "c8b680c6",
   "metadata": {},
   "outputs": [
    {
     "name": "stdout",
     "output_type": "stream",
     "text": [
      "12\n"
     ]
    }
   ],
   "source": [
    "from random import *\n",
    "print(randint(1, 100))"
   ]
  },
  {
   "cell_type": "code",
   "execution_count": 205,
   "id": "d040be8b",
   "metadata": {},
   "outputs": [
    {
     "name": "stdout",
     "output_type": "stream",
     "text": [
      "7\n"
     ]
    }
   ],
   "source": [
    "import random as rd # rd is alias for random\n",
    "\n",
    "print(rd.randint(1, 100))"
   ]
  }
 ],
 "metadata": {
  "kernelspec": {
   "display_name": "Python 3 (ipykernel)",
   "language": "python",
   "name": "python3"
  },
  "language_info": {
   "codemirror_mode": {
    "name": "ipython",
    "version": 3
   },
   "file_extension": ".py",
   "mimetype": "text/x-python",
   "name": "python",
   "nbconvert_exporter": "python",
   "pygments_lexer": "ipython3",
   "version": "3.10.4"
  },
  "latex_envs": {
   "LaTeX_envs_menu_present": true,
   "autoclose": false,
   "autocomplete": true,
   "bibliofile": "biblio.bib",
   "cite_by": "apalike",
   "current_citInitial": 1,
   "eqLabelWithNumbers": true,
   "eqNumInitial": 1,
   "hotkeys": {
    "equation": "Ctrl-E",
    "itemize": "Ctrl-I"
   },
   "labels_anchors": false,
   "latex_user_defs": false,
   "report_style_numbering": false,
   "user_envs_cfg": false
  },
  "toc": {
   "base_numbering": 1,
   "nav_menu": {},
   "number_sections": true,
   "sideBar": true,
   "skip_h1_title": false,
   "title_cell": "Table of Contents",
   "title_sidebar": "Contents",
   "toc_cell": false,
   "toc_position": {},
   "toc_section_display": true,
   "toc_window_display": false
  }
 },
 "nbformat": 4,
 "nbformat_minor": 5
}
