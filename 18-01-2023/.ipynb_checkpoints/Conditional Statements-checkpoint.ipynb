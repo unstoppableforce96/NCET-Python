{
 "cells": [
  {
   "cell_type": "markdown",
   "id": "60ef5753",
   "metadata": {},
   "source": [
    "# Conditional Statements\n",
    "- Decision Making\n",
    "- if, else, elif"
   ]
  },
  {
   "cell_type": "code",
   "execution_count": 9,
   "id": "d5380b6d",
   "metadata": {},
   "outputs": [
    {
     "name": "stdout",
     "output_type": "stream",
     "text": [
      "Enter your age: -147\n",
      "No cannot vote\n"
     ]
    }
   ],
   "source": [
    "age = int(input(\"Enter your age: \"))\n",
    "if age > 18:\n",
    "    print(\"Yes you can vote\")\n",
    "else:\n",
    "    print(\"No cannot vote\")"
   ]
  },
  {
   "cell_type": "code",
   "execution_count": 12,
   "id": "85e52ef3",
   "metadata": {},
   "outputs": [
    {
     "name": "stdout",
     "output_type": "stream",
     "text": [
      "15\n",
      "Odd\n"
     ]
    }
   ],
   "source": [
    "# even or odd\n",
    "number = int(input())\n",
    "if number % 2 == 0:\n",
    "    print(\"Even\")\n",
    "else:\n",
    "    print(\"Odd\")"
   ]
  },
  {
   "cell_type": "code",
   "execution_count": 13,
   "id": "6a25d41d",
   "metadata": {},
   "outputs": [
    {
     "name": "stdout",
     "output_type": "stream",
     "text": [
      "17\n",
      "Odd\n"
     ]
    }
   ],
   "source": [
    "# even or odd\n",
    "number = int(input())\n",
    "if number % 2 != 0:\n",
    "    print(\"Odd\")\n",
    "else:\n",
    "    print(\"Even\")"
   ]
  },
  {
   "cell_type": "markdown",
   "id": "ad55b5b3",
   "metadata": {},
   "source": [
    "## Using logical ops in Conditionals"
   ]
  },
  {
   "cell_type": "code",
   "execution_count": 15,
   "id": "52084061",
   "metadata": {},
   "outputs": [
    {
     "name": "stdout",
     "output_type": "stream",
     "text": [
      "90 90 90 90 25\n",
      "Failed\n"
     ]
    }
   ],
   "source": [
    "a, b, c, d, e = map(int, input().split()) # pass marks 40\n",
    "if a >= 40 and b >= 40 and c >= 40 and d >= 40 and e >= 40:\n",
    "    print(\"Passed\")\n",
    "else:\n",
    "    print(\"Failed\")"
   ]
  },
  {
   "cell_type": "code",
   "execution_count": 19,
   "id": "4338f0dd",
   "metadata": {},
   "outputs": [
    {
     "name": "stdout",
     "output_type": "stream",
     "text": [
      "z\n",
      "Consonant\n"
     ]
    }
   ],
   "source": [
    "# character vowel or consonant\n",
    "ch = input()\n",
    "if ch == 'a' or ch == 'e' or ch == 'i' or ch == 'o' or  ch == 'u':\n",
    "    print(\"Vowel\")\n",
    "else:\n",
    "    print(\"Consonant\")"
   ]
  },
  {
   "cell_type": "code",
   "execution_count": null,
   "id": "3dfe8315",
   "metadata": {},
   "outputs": [],
   "source": [
    "# membership operators\n",
    "# it's going to check if an element is a member of an iterable"
   ]
  },
  {
   "cell_type": "code",
   "execution_count": 20,
   "id": "f5e5df3d",
   "metadata": {},
   "outputs": [
    {
     "data": {
      "text/plain": [
       "True"
      ]
     },
     "execution_count": 20,
     "metadata": {},
     "output_type": "execute_result"
    }
   ],
   "source": [
    "\"h\" in \"hello\""
   ]
  },
  {
   "cell_type": "code",
   "execution_count": 21,
   "id": "bd4952bb",
   "metadata": {},
   "outputs": [
    {
     "data": {
      "text/plain": [
       "False"
      ]
     },
     "execution_count": 21,
     "metadata": {},
     "output_type": "execute_result"
    }
   ],
   "source": [
    "\"H\" in \"hello\""
   ]
  },
  {
   "cell_type": "code",
   "execution_count": 22,
   "id": "dcd105b1",
   "metadata": {},
   "outputs": [
    {
     "data": {
      "text/plain": [
       "True"
      ]
     },
     "execution_count": 22,
     "metadata": {},
     "output_type": "execute_result"
    }
   ],
   "source": [
    "lst = [10, 20, 30]\n",
    "target = 10\n",
    "target in lst"
   ]
  },
  {
   "cell_type": "code",
   "execution_count": 23,
   "id": "96d64b38",
   "metadata": {},
   "outputs": [
    {
     "data": {
      "text/plain": [
       "False"
      ]
     },
     "execution_count": 23,
     "metadata": {},
     "output_type": "execute_result"
    }
   ],
   "source": [
    "lst = [10, 20, 30]\n",
    "target = 100\n",
    "target in lst"
   ]
  },
  {
   "cell_type": "code",
   "execution_count": 27,
   "id": "1407ed83",
   "metadata": {},
   "outputs": [
    {
     "name": "stdout",
     "output_type": "stream",
     "text": [
      "Z\n",
      "Consonant\n"
     ]
    }
   ],
   "source": [
    "# character vowel or consonant\n",
    "ch = input()\n",
    "if ch in \"AEIOUaeiou\":\n",
    "    print(\"Vowel\")\n",
    "else:\n",
    "    print(\"Consonant\")"
   ]
  },
  {
   "cell_type": "markdown",
   "id": "5e38fdbf",
   "metadata": {},
   "source": [
    "# Multiway conditional check using elif"
   ]
  },
  {
   "cell_type": "code",
   "execution_count": 33,
   "id": "19ca21b0",
   "metadata": {},
   "outputs": [
    {
     "name": "stdout",
     "output_type": "stream",
     "text": [
      "110 100\n",
      "Loss\n"
     ]
    }
   ],
   "source": [
    "# profit or loss\n",
    "cp, sp = map(int, input().split())\n",
    "if sp > cp:\n",
    "    print(\"Profit\")\n",
    "elif sp < cp:\n",
    "    print(\"Loss\")\n",
    "else:\n",
    "    print(\"NPNL\")"
   ]
  },
  {
   "cell_type": "code",
   "execution_count": 34,
   "id": "16e73427",
   "metadata": {},
   "outputs": [
    {
     "name": "stdout",
     "output_type": "stream",
     "text": [
      "10\n",
      "20\n",
      "20\n"
     ]
    }
   ],
   "source": [
    "# largest 2 distinct integers\n",
    "a = int(input())\n",
    "b = int(input())\n",
    "if a > b:\n",
    "    print(a)\n",
    "else:\n",
    "    print(b)"
   ]
  },
  {
   "cell_type": "code",
   "execution_count": 36,
   "id": "8ea6d23e",
   "metadata": {},
   "outputs": [
    {
     "name": "stdout",
     "output_type": "stream",
     "text": [
      "10\n",
      "20\n",
      "30\n",
      "30\n"
     ]
    }
   ],
   "source": [
    "# largest 3 distinct integers\n",
    "a = int(input())\n",
    "b = int(input())\n",
    "c = int(input())\n",
    "if a > b and a > c:\n",
    "    print(a)\n",
    "elif b > a and b > c:\n",
    "    print(b)\n",
    "else:\n",
    "    print(c)"
   ]
  },
  {
   "cell_type": "code",
   "execution_count": 37,
   "id": "d12d12a0",
   "metadata": {},
   "outputs": [
    {
     "name": "stdout",
     "output_type": "stream",
     "text": [
      "75.6\n",
      "B\n"
     ]
    }
   ],
   "source": [
    "# Turning a numeric grade into a character grade\n",
    "# per >= 90 --> 'O'\n",
    "# 80 <= per < 90 --> 'A'\n",
    "# 70 <= per < 80 --> 'B'\n",
    "# 60 <= per < 70 --> 'C'\n",
    "# <60 --> 'D'\n",
    "per = float(input())\n",
    "if per >= 90:\n",
    "    print('O')\n",
    "elif per >= 80:\n",
    "    print('A')\n",
    "elif per >= 70:\n",
    "    print('B')\n",
    "elif per >= 60:\n",
    "    print('C')\n",
    "else:\n",
    "    print('D')"
   ]
  }
 ],
 "metadata": {
  "kernelspec": {
   "display_name": "Python 3 (ipykernel)",
   "language": "python",
   "name": "python3"
  },
  "language_info": {
   "codemirror_mode": {
    "name": "ipython",
    "version": 3
   },
   "file_extension": ".py",
   "mimetype": "text/x-python",
   "name": "python",
   "nbconvert_exporter": "python",
   "pygments_lexer": "ipython3",
   "version": "3.10.4"
  },
  "latex_envs": {
   "LaTeX_envs_menu_present": true,
   "autoclose": false,
   "autocomplete": true,
   "bibliofile": "biblio.bib",
   "cite_by": "apalike",
   "current_citInitial": 1,
   "eqLabelWithNumbers": true,
   "eqNumInitial": 1,
   "hotkeys": {
    "equation": "Ctrl-E",
    "itemize": "Ctrl-I"
   },
   "labels_anchors": false,
   "latex_user_defs": false,
   "report_style_numbering": false,
   "user_envs_cfg": false
  },
  "toc": {
   "base_numbering": 1,
   "nav_menu": {},
   "number_sections": true,
   "sideBar": true,
   "skip_h1_title": false,
   "title_cell": "Table of Contents",
   "title_sidebar": "Contents",
   "toc_cell": false,
   "toc_position": {},
   "toc_section_display": true,
   "toc_window_display": false
  }
 },
 "nbformat": 4,
 "nbformat_minor": 5
}
