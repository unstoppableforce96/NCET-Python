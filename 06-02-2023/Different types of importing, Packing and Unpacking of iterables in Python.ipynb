{
 "cells": [
  {
   "cell_type": "markdown",
   "id": "2f29623b",
   "metadata": {},
   "source": [
    "# import module_name"
   ]
  },
  {
   "cell_type": "code",
   "execution_count": null,
   "id": "bb5702e3",
   "metadata": {},
   "outputs": [],
   "source": [
    "import math\n",
    "l = math.lcm(12, 18)\n",
    "print(l)"
   ]
  },
  {
   "cell_type": "code",
   "execution_count": 2,
   "id": "74493499",
   "metadata": {},
   "outputs": [
    {
     "ename": "NameError",
     "evalue": "name 'lcm' is not defined",
     "output_type": "error",
     "traceback": [
      "\u001b[1;31m---------------------------------------------------------------------------\u001b[0m",
      "\u001b[1;31mNameError\u001b[0m                                 Traceback (most recent call last)",
      "\u001b[1;32m~\\AppData\\Local\\Temp\\ipykernel_27728\\923456516.py\u001b[0m in \u001b[0;36m<cell line: 1>\u001b[1;34m()\u001b[0m\n\u001b[1;32m----> 1\u001b[1;33m \u001b[0mlcm\u001b[0m\u001b[1;33m(\u001b[0m\u001b[1;36m12\u001b[0m\u001b[1;33m,\u001b[0m \u001b[1;36m18\u001b[0m\u001b[1;33m)\u001b[0m\u001b[1;33m\u001b[0m\u001b[1;33m\u001b[0m\u001b[0m\n\u001b[0m",
      "\u001b[1;31mNameError\u001b[0m: name 'lcm' is not defined"
     ]
    }
   ],
   "source": [
    "lcm(12, 18)"
   ]
  },
  {
   "cell_type": "code",
   "execution_count": 3,
   "id": "4959e599",
   "metadata": {},
   "outputs": [
    {
     "name": "stdout",
     "output_type": "stream",
     "text": [
      "3.141592653589793\n"
     ]
    }
   ],
   "source": [
    "import math\n",
    "print(math.pi)"
   ]
  },
  {
   "cell_type": "code",
   "execution_count": 4,
   "id": "f02eafa8",
   "metadata": {},
   "outputs": [
    {
     "ename": "NameError",
     "evalue": "name 'pi' is not defined",
     "output_type": "error",
     "traceback": [
      "\u001b[1;31m---------------------------------------------------------------------------\u001b[0m",
      "\u001b[1;31mNameError\u001b[0m                                 Traceback (most recent call last)",
      "\u001b[1;32m~\\AppData\\Local\\Temp\\ipykernel_27728\\2866052711.py\u001b[0m in \u001b[0;36m<cell line: 2>\u001b[1;34m()\u001b[0m\n\u001b[0;32m      1\u001b[0m \u001b[1;32mimport\u001b[0m \u001b[0mmath\u001b[0m\u001b[1;33m\u001b[0m\u001b[1;33m\u001b[0m\u001b[0m\n\u001b[1;32m----> 2\u001b[1;33m \u001b[0mprint\u001b[0m\u001b[1;33m(\u001b[0m\u001b[0mpi\u001b[0m\u001b[1;33m)\u001b[0m\u001b[1;33m\u001b[0m\u001b[1;33m\u001b[0m\u001b[0m\n\u001b[0m",
      "\u001b[1;31mNameError\u001b[0m: name 'pi' is not defined"
     ]
    }
   ],
   "source": [
    "import math\n",
    "print(pi)"
   ]
  },
  {
   "cell_type": "markdown",
   "id": "3366c648",
   "metadata": {},
   "source": [
    "# import module_name as alias_name\n",
    "- import math as mt\n",
    "- import random as rd"
   ]
  },
  {
   "cell_type": "code",
   "execution_count": 5,
   "id": "ef129181",
   "metadata": {},
   "outputs": [
    {
     "ename": "NameError",
     "evalue": "name 'random' is not defined",
     "output_type": "error",
     "traceback": [
      "\u001b[1;31m---------------------------------------------------------------------------\u001b[0m",
      "\u001b[1;31mNameError\u001b[0m                                 Traceback (most recent call last)",
      "\u001b[1;32m~\\AppData\\Local\\Temp\\ipykernel_27728\\1095326628.py\u001b[0m in \u001b[0;36m<cell line: 2>\u001b[1;34m()\u001b[0m\n\u001b[0;32m      1\u001b[0m \u001b[1;32mimport\u001b[0m \u001b[0mrandom\u001b[0m \u001b[1;32mas\u001b[0m \u001b[0mrd\u001b[0m\u001b[1;33m\u001b[0m\u001b[1;33m\u001b[0m\u001b[0m\n\u001b[1;32m----> 2\u001b[1;33m \u001b[0mprint\u001b[0m\u001b[1;33m(\u001b[0m\u001b[0mrandom\u001b[0m\u001b[1;33m.\u001b[0m\u001b[0mrandint\u001b[0m\u001b[1;33m(\u001b[0m\u001b[1;36m1\u001b[0m\u001b[1;33m,\u001b[0m \u001b[1;36m100\u001b[0m\u001b[1;33m)\u001b[0m\u001b[1;33m)\u001b[0m\u001b[1;33m\u001b[0m\u001b[1;33m\u001b[0m\u001b[0m\n\u001b[0m",
      "\u001b[1;31mNameError\u001b[0m: name 'random' is not defined"
     ]
    }
   ],
   "source": [
    "import random as rd\n",
    "print(random.randint(1, 100))"
   ]
  },
  {
   "cell_type": "code",
   "execution_count": 6,
   "id": "84726eb9",
   "metadata": {},
   "outputs": [
    {
     "name": "stdout",
     "output_type": "stream",
     "text": [
      "8\n"
     ]
    }
   ],
   "source": [
    "import random as rd\n",
    "print(rd.randint(1, 100))"
   ]
  },
  {
   "cell_type": "markdown",
   "id": "28bc4482",
   "metadata": {},
   "source": [
    "# import m1, m2, m3...."
   ]
  },
  {
   "cell_type": "code",
   "execution_count": 7,
   "id": "794c0247",
   "metadata": {},
   "outputs": [
    {
     "name": "stdout",
     "output_type": "stream",
     "text": [
      "5.0\n",
      "48\n",
      "abcdefghijklmnopqrstuvwxyz\n"
     ]
    }
   ],
   "source": [
    "import math, random, string\n",
    "print(math.sqrt(25))\n",
    "print(random.randint(1, 100))\n",
    "print(string.ascii_lowercase)"
   ]
  },
  {
   "cell_type": "markdown",
   "id": "87b56b6e",
   "metadata": {},
   "source": [
    "# import m1 as a1, m2 as a2, ..."
   ]
  },
  {
   "cell_type": "code",
   "execution_count": 8,
   "id": "bd9cebd3",
   "metadata": {},
   "outputs": [
    {
     "name": "stdout",
     "output_type": "stream",
     "text": [
      "5.0\n",
      "96\n",
      "abcdefghijklmnopqrstuvwxyz\n"
     ]
    }
   ],
   "source": [
    "import math as mt, random as rd, string as st\n",
    "print(mt.sqrt(25))\n",
    "print(rd.randint(1, 100))\n",
    "print(st.ascii_lowercase)"
   ]
  },
  {
   "cell_type": "markdown",
   "id": "3926198b",
   "metadata": {},
   "source": [
    "# from module_name import function_name"
   ]
  },
  {
   "cell_type": "code",
   "execution_count": 9,
   "id": "28f18df9",
   "metadata": {},
   "outputs": [
    {
     "name": "stdout",
     "output_type": "stream",
     "text": [
      "120\n"
     ]
    }
   ],
   "source": [
    "from math import factorial\n",
    "print(factorial(5))"
   ]
  },
  {
   "cell_type": "markdown",
   "id": "34701234",
   "metadata": {},
   "source": [
    "# from module_name import f1, f2, f3...."
   ]
  },
  {
   "cell_type": "code",
   "execution_count": 10,
   "id": "24cf7b04",
   "metadata": {},
   "outputs": [
    {
     "name": "stdout",
     "output_type": "stream",
     "text": [
      "6\n",
      "36\n",
      "720\n"
     ]
    }
   ],
   "source": [
    "from math import gcd, lcm, factorial\n",
    "print(gcd(12, 18))\n",
    "print(lcm(12, 18))\n",
    "print(factorial(6))"
   ]
  },
  {
   "cell_type": "code",
   "execution_count": 11,
   "id": "43408109",
   "metadata": {},
   "outputs": [
    {
     "name": "stdout",
     "output_type": "stream",
     "text": [
      "5\n",
      "120\n"
     ]
    }
   ],
   "source": [
    "from math import factorial as f\n",
    "print(f(int(input())))"
   ]
  },
  {
   "cell_type": "code",
   "execution_count": 12,
   "id": "fe1fb5f3",
   "metadata": {},
   "outputs": [
    {
     "name": "stdout",
     "output_type": "stream",
     "text": [
      "10\n",
      "20\n",
      "2520\n"
     ]
    }
   ],
   "source": [
    "from math import * # import everything from the module\n",
    "print(comb(5, 2))\n",
    "print(perm(5, 2))\n",
    "print(lcm(1, 2, 3, 4, 5, 6, 7, 8, 9, 10))"
   ]
  },
  {
   "cell_type": "markdown",
   "id": "d9b5b6a5",
   "metadata": {},
   "source": [
    "# eval()\n",
    "- eval(\"x**2 + x + 1\", {'x': 5}) --> 31"
   ]
  },
  {
   "cell_type": "code",
   "execution_count": 13,
   "id": "82035c66",
   "metadata": {},
   "outputs": [
    {
     "name": "stdout",
     "output_type": "stream",
     "text": [
      "31\n"
     ]
    }
   ],
   "source": [
    "output = eval(\"x**2 + x + 1\", {'x': 5})\n",
    "print(output)"
   ]
  },
  {
   "cell_type": "code",
   "execution_count": 14,
   "id": "af7f15c5",
   "metadata": {},
   "outputs": [
    {
     "name": "stdout",
     "output_type": "stream",
     "text": [
      "10 20 30\n",
      "[10, 20, 30]\n"
     ]
    }
   ],
   "source": [
    "lst = list(map(int, input().split()))\n",
    "print(lst)"
   ]
  },
  {
   "cell_type": "code",
   "execution_count": 15,
   "id": "87e49972",
   "metadata": {},
   "outputs": [
    {
     "name": "stdout",
     "output_type": "stream",
     "text": [
      "10\n",
      "10\n"
     ]
    }
   ],
   "source": [
    "x = int(input())\n",
    "print(x)"
   ]
  },
  {
   "cell_type": "code",
   "execution_count": 17,
   "id": "fd6704d3",
   "metadata": {},
   "outputs": [
    {
     "name": "stdout",
     "output_type": "stream",
     "text": [
      "10\n",
      "10 <class 'int'>\n"
     ]
    }
   ],
   "source": [
    "x = eval(input())\n",
    "print(x, type(x))"
   ]
  },
  {
   "cell_type": "code",
   "execution_count": 18,
   "id": "9f4928ce",
   "metadata": {},
   "outputs": [
    {
     "name": "stdout",
     "output_type": "stream",
     "text": [
      "12.2\n",
      "12.2 <class 'float'>\n"
     ]
    }
   ],
   "source": [
    "x = eval(input())\n",
    "print(x, type(x))"
   ]
  },
  {
   "cell_type": "code",
   "execution_count": 19,
   "id": "70c8724f",
   "metadata": {},
   "outputs": [
    {
     "name": "stdout",
     "output_type": "stream",
     "text": [
      "hello\n"
     ]
    },
    {
     "ename": "NameError",
     "evalue": "name 'hello' is not defined",
     "output_type": "error",
     "traceback": [
      "\u001b[1;31m---------------------------------------------------------------------------\u001b[0m",
      "\u001b[1;31mNameError\u001b[0m                                 Traceback (most recent call last)",
      "\u001b[1;32m~\\AppData\\Local\\Temp\\ipykernel_27728\\3324904713.py\u001b[0m in \u001b[0;36m<cell line: 1>\u001b[1;34m()\u001b[0m\n\u001b[1;32m----> 1\u001b[1;33m \u001b[0mx\u001b[0m \u001b[1;33m=\u001b[0m \u001b[0meval\u001b[0m\u001b[1;33m(\u001b[0m\u001b[0minput\u001b[0m\u001b[1;33m(\u001b[0m\u001b[1;33m)\u001b[0m\u001b[1;33m)\u001b[0m\u001b[1;33m\u001b[0m\u001b[1;33m\u001b[0m\u001b[0m\n\u001b[0m\u001b[0;32m      2\u001b[0m \u001b[0mprint\u001b[0m\u001b[1;33m(\u001b[0m\u001b[0mx\u001b[0m\u001b[1;33m,\u001b[0m \u001b[0mtype\u001b[0m\u001b[1;33m(\u001b[0m\u001b[0mx\u001b[0m\u001b[1;33m)\u001b[0m\u001b[1;33m)\u001b[0m\u001b[1;33m\u001b[0m\u001b[1;33m\u001b[0m\u001b[0m\n",
      "\u001b[1;32m<string>\u001b[0m in \u001b[0;36m<module>\u001b[1;34m\u001b[0m\n",
      "\u001b[1;31mNameError\u001b[0m: name 'hello' is not defined"
     ]
    }
   ],
   "source": [
    "x = eval(input())\n",
    "print(x, type(x))"
   ]
  },
  {
   "cell_type": "code",
   "execution_count": 20,
   "id": "1e6d81b3",
   "metadata": {},
   "outputs": [
    {
     "ename": "NameError",
     "evalue": "name 'hello' is not defined",
     "output_type": "error",
     "traceback": [
      "\u001b[1;31m---------------------------------------------------------------------------\u001b[0m",
      "\u001b[1;31mNameError\u001b[0m                                 Traceback (most recent call last)",
      "\u001b[1;32m~\\AppData\\Local\\Temp\\ipykernel_27728\\2376646085.py\u001b[0m in \u001b[0;36m<cell line: 1>\u001b[1;34m()\u001b[0m\n\u001b[1;32m----> 1\u001b[1;33m \u001b[0mx\u001b[0m \u001b[1;33m=\u001b[0m \u001b[0mhello\u001b[0m\u001b[1;33m\u001b[0m\u001b[1;33m\u001b[0m\u001b[0m\n\u001b[0m\u001b[0;32m      2\u001b[0m \u001b[0mprint\u001b[0m\u001b[1;33m(\u001b[0m\u001b[0mx\u001b[0m\u001b[1;33m,\u001b[0m \u001b[0mtype\u001b[0m\u001b[1;33m(\u001b[0m\u001b[0mx\u001b[0m\u001b[1;33m)\u001b[0m\u001b[1;33m)\u001b[0m\u001b[1;33m\u001b[0m\u001b[1;33m\u001b[0m\u001b[0m\n",
      "\u001b[1;31mNameError\u001b[0m: name 'hello' is not defined"
     ]
    }
   ],
   "source": [
    "x = hello\n",
    "print(x, type(x))"
   ]
  },
  {
   "cell_type": "code",
   "execution_count": 22,
   "id": "2d35399d",
   "metadata": {},
   "outputs": [
    {
     "name": "stdout",
     "output_type": "stream",
     "text": [
      "hello\n"
     ]
    }
   ],
   "source": [
    "x = eval(\"'hello'\")\n",
    "print(x)"
   ]
  },
  {
   "cell_type": "code",
   "execution_count": 23,
   "id": "8abfffda",
   "metadata": {},
   "outputs": [
    {
     "name": "stdout",
     "output_type": "stream",
     "text": [
      "hello\n"
     ]
    }
   ],
   "source": [
    "x = 'hello'\n",
    "print(x)"
   ]
  },
  {
   "cell_type": "code",
   "execution_count": 25,
   "id": "d96d2438",
   "metadata": {},
   "outputs": [
    {
     "name": "stdout",
     "output_type": "stream",
     "text": [
      "hello\n"
     ]
    }
   ],
   "source": [
    "print('hello')"
   ]
  },
  {
   "cell_type": "code",
   "execution_count": null,
   "id": "00928d8e",
   "metadata": {},
   "outputs": [],
   "source": [
    "string = \"y**2 + z - 5\""
   ]
  },
  {
   "cell_type": "code",
   "execution_count": 27,
   "id": "d3dbe637",
   "metadata": {},
   "outputs": [
    {
     "name": "stdout",
     "output_type": "stream",
     "text": [
      "24\n"
     ]
    }
   ],
   "source": [
    "y = 5\n",
    "z = 4\n",
    "res = y**2 + z - 5\n",
    "print(res)"
   ]
  },
  {
   "cell_type": "code",
   "execution_count": 28,
   "id": "200fbdf4",
   "metadata": {},
   "outputs": [
    {
     "ename": "NameError",
     "evalue": "name 'p' is not defined",
     "output_type": "error",
     "traceback": [
      "\u001b[1;31m---------------------------------------------------------------------------\u001b[0m",
      "\u001b[1;31mNameError\u001b[0m                                 Traceback (most recent call last)",
      "\u001b[1;32m~\\AppData\\Local\\Temp\\ipykernel_27728\\600847751.py\u001b[0m in \u001b[0;36m<cell line: 2>\u001b[1;34m()\u001b[0m\n\u001b[0;32m      1\u001b[0m \u001b[0mstring\u001b[0m \u001b[1;33m=\u001b[0m \u001b[1;34m\"p**2 + q - 5\"\u001b[0m\u001b[1;33m\u001b[0m\u001b[1;33m\u001b[0m\u001b[0m\n\u001b[1;32m----> 2\u001b[1;33m \u001b[0mres\u001b[0m \u001b[1;33m=\u001b[0m \u001b[0meval\u001b[0m\u001b[1;33m(\u001b[0m\u001b[0mstring\u001b[0m\u001b[1;33m)\u001b[0m\u001b[1;33m\u001b[0m\u001b[1;33m\u001b[0m\u001b[0m\n\u001b[0m\u001b[0;32m      3\u001b[0m \u001b[0mprint\u001b[0m\u001b[1;33m(\u001b[0m\u001b[0mres\u001b[0m\u001b[1;33m)\u001b[0m\u001b[1;33m\u001b[0m\u001b[1;33m\u001b[0m\u001b[0m\n",
      "\u001b[1;32m<string>\u001b[0m in \u001b[0;36m<module>\u001b[1;34m\u001b[0m\n",
      "\u001b[1;31mNameError\u001b[0m: name 'p' is not defined"
     ]
    }
   ],
   "source": [
    "p, q = 7, 8\n",
    "string = \"p**2 + q - 5\"\n",
    "res = eval(string)\n",
    "print(res)"
   ]
  },
  {
   "cell_type": "code",
   "execution_count": 31,
   "id": "a1ea0d46",
   "metadata": {},
   "outputs": [
    {
     "name": "stdout",
     "output_type": "stream",
     "text": [
      "52\n"
     ]
    }
   ],
   "source": [
    "p, q = 7, 8\n",
    "string = \"p**2 + q - 5\"\n",
    "res = eval(string)\n",
    "print(res)"
   ]
  },
  {
   "cell_type": "code",
   "execution_count": 30,
   "id": "cbb69b99",
   "metadata": {},
   "outputs": [
    {
     "name": "stdout",
     "output_type": "stream",
     "text": [
      "2\n"
     ]
    }
   ],
   "source": [
    "k = 2\n",
    "d = 3\n",
    "res = k ** 2 + d - 5\n",
    "print(res)"
   ]
  },
  {
   "cell_type": "code",
   "execution_count": 32,
   "id": "edfc445a",
   "metadata": {},
   "outputs": [
    {
     "name": "stdout",
     "output_type": "stream",
     "text": [
      "[\n"
     ]
    }
   ],
   "source": [
    "string = '[10, 20, 30]'\n",
    "print(string[0])"
   ]
  },
  {
   "cell_type": "code",
   "execution_count": 33,
   "id": "ad1874ed",
   "metadata": {},
   "outputs": [
    {
     "name": "stdout",
     "output_type": "stream",
     "text": [
      "10\n"
     ]
    }
   ],
   "source": [
    "string = '[10, 20, 30]'\n",
    "lst = eval(string)\n",
    "print(lst[0])"
   ]
  },
  {
   "cell_type": "code",
   "execution_count": 34,
   "id": "630175c8",
   "metadata": {},
   "outputs": [
    {
     "name": "stdout",
     "output_type": "stream",
     "text": [
      "10 5 4\n",
      "1029\n"
     ]
    }
   ],
   "source": [
    "x, y, z = map(int, input().split())\n",
    "expression = \"x ** 3 + y ** 2 + z\"\n",
    "print(eval(expression))"
   ]
  },
  {
   "cell_type": "code",
   "execution_count": 36,
   "id": "1102d50c",
   "metadata": {},
   "outputs": [
    {
     "name": "stdout",
     "output_type": "stream",
     "text": [
      "10\n",
      "5\n",
      "4\n",
      "1029\n"
     ]
    }
   ],
   "source": [
    "expression = \"x ** 3 + y ** 2 + z\"\n",
    "print(eval(expression, {'x': int(input()), 'y': int(input()), 'z': int(input())}))"
   ]
  },
  {
   "cell_type": "markdown",
   "id": "604ce258",
   "metadata": {},
   "source": [
    "# packing, unpacking"
   ]
  },
  {
   "cell_type": "code",
   "execution_count": 37,
   "id": "ad7874d9",
   "metadata": {},
   "outputs": [
    {
     "name": "stdout",
     "output_type": "stream",
     "text": [
      "10 20 30 40\n"
     ]
    }
   ],
   "source": [
    "lst = [10, 20, 30, 40] # packing\n",
    "# unpacking operator is *\n",
    "print(*lst)"
   ]
  },
  {
   "cell_type": "code",
   "execution_count": 38,
   "id": "fad0dcb6",
   "metadata": {},
   "outputs": [
    {
     "name": "stdout",
     "output_type": "stream",
     "text": [
      "10 20 30 40\n"
     ]
    }
   ],
   "source": [
    "print(10, 20, 30, 40)"
   ]
  },
  {
   "cell_type": "code",
   "execution_count": 39,
   "id": "8c9b03d0",
   "metadata": {},
   "outputs": [
    {
     "name": "stdout",
     "output_type": "stream",
     "text": [
      "36\n"
     ]
    }
   ],
   "source": [
    "import math\n",
    "# gcd, lcm\n",
    "print(math.lcm(12, 18))"
   ]
  },
  {
   "cell_type": "code",
   "execution_count": 40,
   "id": "46e5484a",
   "metadata": {},
   "outputs": [
    {
     "name": "stdout",
     "output_type": "stream",
     "text": [
      "6\n"
     ]
    }
   ],
   "source": [
    "import math\n",
    "# gcd, lcm\n",
    "print(math.lcm(1, 2, 3))"
   ]
  },
  {
   "cell_type": "code",
   "execution_count": 41,
   "id": "76a970e2",
   "metadata": {},
   "outputs": [
    {
     "name": "stdout",
     "output_type": "stream",
     "text": [
      "12\n"
     ]
    }
   ],
   "source": [
    "import math\n",
    "# gcd, lcm\n",
    "print(math.lcm(1, 2, 3, 4))"
   ]
  },
  {
   "cell_type": "code",
   "execution_count": 42,
   "id": "0b127be5",
   "metadata": {},
   "outputs": [
    {
     "ename": "TypeError",
     "evalue": "'list' object cannot be interpreted as an integer",
     "output_type": "error",
     "traceback": [
      "\u001b[1;31m---------------------------------------------------------------------------\u001b[0m",
      "\u001b[1;31mTypeError\u001b[0m                                 Traceback (most recent call last)",
      "\u001b[1;32m~\\AppData\\Local\\Temp\\ipykernel_27728\\1960550506.py\u001b[0m in \u001b[0;36m<cell line: 2>\u001b[1;34m()\u001b[0m\n\u001b[0;32m      1\u001b[0m \u001b[0mlst\u001b[0m \u001b[1;33m=\u001b[0m \u001b[1;33m[\u001b[0m\u001b[1;36m1\u001b[0m\u001b[1;33m,\u001b[0m \u001b[1;36m2\u001b[0m\u001b[1;33m,\u001b[0m \u001b[1;36m3\u001b[0m\u001b[1;33m,\u001b[0m \u001b[1;36m4\u001b[0m\u001b[1;33m]\u001b[0m\u001b[1;33m\u001b[0m\u001b[1;33m\u001b[0m\u001b[0m\n\u001b[1;32m----> 2\u001b[1;33m \u001b[0mprint\u001b[0m\u001b[1;33m(\u001b[0m\u001b[0mmath\u001b[0m\u001b[1;33m.\u001b[0m\u001b[0mlcm\u001b[0m\u001b[1;33m(\u001b[0m\u001b[0mlst\u001b[0m\u001b[1;33m)\u001b[0m\u001b[1;33m)\u001b[0m\u001b[1;33m\u001b[0m\u001b[1;33m\u001b[0m\u001b[0m\n\u001b[0m",
      "\u001b[1;31mTypeError\u001b[0m: 'list' object cannot be interpreted as an integer"
     ]
    }
   ],
   "source": [
    "lst = [1, 2, 3, 4]\n",
    "print(math.lcm(lst))"
   ]
  },
  {
   "cell_type": "code",
   "execution_count": 43,
   "id": "95b95fe9",
   "metadata": {},
   "outputs": [
    {
     "name": "stdout",
     "output_type": "stream",
     "text": [
      "1 2 3 4\n"
     ]
    }
   ],
   "source": [
    "lst = [1, 2, 3, 4]\n",
    "print(*lst)"
   ]
  },
  {
   "cell_type": "code",
   "execution_count": 46,
   "id": "71d3ff6c",
   "metadata": {},
   "outputs": [
    {
     "name": "stdout",
     "output_type": "stream",
     "text": [
      "2520\n"
     ]
    }
   ],
   "source": [
    "import math\n",
    "# gcd, lcm\n",
    "lst = list(range(1, 11))\n",
    "# print(lst)\n",
    "print(math.lcm(*lst))"
   ]
  },
  {
   "cell_type": "code",
   "execution_count": 47,
   "id": "7dd6c251",
   "metadata": {},
   "outputs": [
    {
     "name": "stdout",
     "output_type": "stream",
     "text": [
      "1\n"
     ]
    }
   ],
   "source": [
    "import math\n",
    "# gcd, lcm\n",
    "lst = list(range(1, 11))\n",
    "# print(lst)\n",
    "print(math.gcd(*lst))"
   ]
  },
  {
   "cell_type": "code",
   "execution_count": 53,
   "id": "dee778e6",
   "metadata": {},
   "outputs": [
    {
     "name": "stdout",
     "output_type": "stream",
     "text": [
      "Pavan with 1234 joined in 2020 is earning 50000\n",
      "Kiran with 4321 joined in 2021 is earning 75000\n",
      "Rajesh with 7895 joined in 2019 is earning 100000\n",
      "Sudhir with 5479 joined in 2017 is earning 125000\n"
     ]
    }
   ],
   "source": [
    "employees = [(\"Pavan\", 1234, 2020, 50000),\n",
    "             (\"Kiran\", 4321, 2021, 75000),\n",
    "             (\"Rajesh\", 7895, 2019, 100000),\n",
    "             (\"Sudhir\", 5479, 2017, 125000)]\n",
    "# Employee_name with emp_id joined in year_of_join is earning salary currently\n",
    "for i in employees:\n",
    "    print(\"{} with {} joined in {} is earning {}\".format(*i))\n"
   ]
  },
  {
   "cell_type": "code",
   "execution_count": null,
   "id": "17fc1d6f",
   "metadata": {},
   "outputs": [],
   "source": []
  },
  {
   "cell_type": "code",
   "execution_count": 54,
   "id": "809430d6",
   "metadata": {},
   "outputs": [
    {
     "name": "stdout",
     "output_type": "stream",
     "text": [
      "Hyderabad is in India which is in Asia\n"
     ]
    }
   ],
   "source": [
    "def location(city, country, continent):\n",
    "    print(f'{city} is in {country} which is in {continent}')\n",
    "    \n",
    "location(\"Hyderabad\", \"India\", \"Asia\")"
   ]
  },
  {
   "cell_type": "code",
   "execution_count": 55,
   "id": "1526d3e8",
   "metadata": {},
   "outputs": [
    {
     "name": "stdout",
     "output_type": "stream",
     "text": [
      "India is in Hyderabad which is in Asia\n"
     ]
    }
   ],
   "source": [
    "def location(city, country, continent):\n",
    "    print(f'{city} is in {country} which is in {continent}')\n",
    "    \n",
    "location(\"India\", \"Hyderabad\", \"Asia\")"
   ]
  },
  {
   "cell_type": "code",
   "execution_count": 56,
   "id": "45efa5cc",
   "metadata": {},
   "outputs": [
    {
     "name": "stdout",
     "output_type": "stream",
     "text": [
      "Hyderabad is in India which is in Asia\n"
     ]
    }
   ],
   "source": [
    "def location(city, country, continent):\n",
    "    print(f'{city} is in {country} which is in {continent}')\n",
    "    \n",
    "location(country=\"India\", city=\"Hyderabad\", continent=\"Asia\") # keywords"
   ]
  },
  {
   "cell_type": "code",
   "execution_count": 57,
   "id": "b1d6cf8d",
   "metadata": {},
   "outputs": [
    {
     "ename": "TypeError",
     "evalue": "location() missing 1 required positional argument: 'continent'",
     "output_type": "error",
     "traceback": [
      "\u001b[1;31m---------------------------------------------------------------------------\u001b[0m",
      "\u001b[1;31mTypeError\u001b[0m                                 Traceback (most recent call last)",
      "\u001b[1;32m~\\AppData\\Local\\Temp\\ipykernel_27728\\417288592.py\u001b[0m in \u001b[0;36m<cell line: 5>\u001b[1;34m()\u001b[0m\n\u001b[0;32m      3\u001b[0m \u001b[1;33m\u001b[0m\u001b[0m\n\u001b[0;32m      4\u001b[0m \u001b[1;33m\u001b[0m\u001b[0m\n\u001b[1;32m----> 5\u001b[1;33m \u001b[0mlocation\u001b[0m\u001b[1;33m(\u001b[0m\u001b[1;34m'Hyderabad'\u001b[0m\u001b[1;33m,\u001b[0m \u001b[1;34m'India'\u001b[0m\u001b[1;33m)\u001b[0m\u001b[1;33m\u001b[0m\u001b[1;33m\u001b[0m\u001b[0m\n\u001b[0m",
      "\u001b[1;31mTypeError\u001b[0m: location() missing 1 required positional argument: 'continent'"
     ]
    }
   ],
   "source": [
    "def location(city, country, continent):\n",
    "    print(f'{city} is in {country} which is in {continent}')\n",
    "\n",
    "location('Hyderabad', 'India')"
   ]
  },
  {
   "cell_type": "code",
   "execution_count": 58,
   "id": "2917bffd",
   "metadata": {},
   "outputs": [
    {
     "ename": "TypeError",
     "evalue": "location() takes 3 positional arguments but 4 were given",
     "output_type": "error",
     "traceback": [
      "\u001b[1;31m---------------------------------------------------------------------------\u001b[0m",
      "\u001b[1;31mTypeError\u001b[0m                                 Traceback (most recent call last)",
      "\u001b[1;32m~\\AppData\\Local\\Temp\\ipykernel_27728\\2367046582.py\u001b[0m in \u001b[0;36m<cell line: 5>\u001b[1;34m()\u001b[0m\n\u001b[0;32m      3\u001b[0m \u001b[1;33m\u001b[0m\u001b[0m\n\u001b[0;32m      4\u001b[0m \u001b[1;33m\u001b[0m\u001b[0m\n\u001b[1;32m----> 5\u001b[1;33m \u001b[0mlocation\u001b[0m\u001b[1;33m(\u001b[0m\u001b[1;34m'Hyderabad'\u001b[0m\u001b[1;33m,\u001b[0m \u001b[1;34m'India'\u001b[0m\u001b[1;33m,\u001b[0m \u001b[1;34m'Asia'\u001b[0m\u001b[1;33m,\u001b[0m \u001b[1;34m'Earth'\u001b[0m\u001b[1;33m)\u001b[0m\u001b[1;33m\u001b[0m\u001b[1;33m\u001b[0m\u001b[0m\n\u001b[0m",
      "\u001b[1;31mTypeError\u001b[0m: location() takes 3 positional arguments but 4 were given"
     ]
    }
   ],
   "source": [
    "def location(city, country, continent):\n",
    "    print(f'{city} is in {country} which is in {continent}')\n",
    "\n",
    "\n",
    "location('Hyderabad', 'India', 'Asia', 'Earth')"
   ]
  },
  {
   "cell_type": "code",
   "execution_count": null,
   "id": "c99a492d",
   "metadata": {},
   "outputs": [],
   "source": [
    "# default arguments\n"
   ]
  },
  {
   "cell_type": "code",
   "execution_count": 59,
   "id": "a0227566",
   "metadata": {},
   "outputs": [
    {
     "data": {
      "text/plain": [
       "60"
      ]
     },
     "execution_count": 59,
     "metadata": {},
     "output_type": "execute_result"
    }
   ],
   "source": [
    "lst = [10, 20, 30]\n",
    "sum(lst) # "
   ]
  },
  {
   "cell_type": "code",
   "execution_count": 60,
   "id": "4742c5cd",
   "metadata": {},
   "outputs": [
    {
     "data": {
      "text/plain": [
       "70"
      ]
     },
     "execution_count": 60,
     "metadata": {},
     "output_type": "execute_result"
    }
   ],
   "source": [
    "lst = [10, 20, 30]\n",
    "sum(lst, 10) # "
   ]
  },
  {
   "cell_type": "code",
   "execution_count": null,
   "id": "c41365aa",
   "metadata": {},
   "outputs": [],
   "source": [
    "sum(iterable, start=0)"
   ]
  },
  {
   "cell_type": "code",
   "execution_count": 61,
   "id": "65054819",
   "metadata": {},
   "outputs": [
    {
     "name": "stdout",
     "output_type": "stream",
     "text": [
      "60\n"
     ]
    }
   ],
   "source": [
    "lst = [10, 20, 30]\n",
    "s = 0\n",
    "for i in lst:\n",
    "    s += i\n",
    "print(s)"
   ]
  },
  {
   "cell_type": "code",
   "execution_count": 62,
   "id": "b8da98b4",
   "metadata": {},
   "outputs": [
    {
     "name": "stdout",
     "output_type": "stream",
     "text": [
      "Hyderabad is in India which is in Asia\n"
     ]
    }
   ],
   "source": [
    "def location(city, country, continent='Asia'):\n",
    "    print(f'{city} is in {country} which is in {continent}')\n",
    "\n",
    "location('Hyderabad', 'India')"
   ]
  },
  {
   "cell_type": "code",
   "execution_count": 64,
   "id": "a274971a",
   "metadata": {},
   "outputs": [
    {
     "name": "stdout",
     "output_type": "stream",
     "text": [
      "Berlin is in Germany which is in Europe\n"
     ]
    }
   ],
   "source": [
    "def location(city, country, continent='Asia'):\n",
    "    print(f'{city} is in {country} which is in {continent}')\n",
    "\n",
    "location('Berlin', 'Germany', 'Europe')"
   ]
  }
 ],
 "metadata": {
  "kernelspec": {
   "display_name": "Python 3 (ipykernel)",
   "language": "python",
   "name": "python3"
  },
  "language_info": {
   "codemirror_mode": {
    "name": "ipython",
    "version": 3
   },
   "file_extension": ".py",
   "mimetype": "text/x-python",
   "name": "python",
   "nbconvert_exporter": "python",
   "pygments_lexer": "ipython3",
   "version": "3.10.4"
  },
  "latex_envs": {
   "LaTeX_envs_menu_present": true,
   "autoclose": false,
   "autocomplete": true,
   "bibliofile": "biblio.bib",
   "cite_by": "apalike",
   "current_citInitial": 1,
   "eqLabelWithNumbers": true,
   "eqNumInitial": 1,
   "hotkeys": {
    "equation": "Ctrl-E",
    "itemize": "Ctrl-I"
   },
   "labels_anchors": false,
   "latex_user_defs": false,
   "report_style_numbering": false,
   "user_envs_cfg": false
  },
  "toc": {
   "base_numbering": 1,
   "nav_menu": {},
   "number_sections": true,
   "sideBar": true,
   "skip_h1_title": false,
   "title_cell": "Table of Contents",
   "title_sidebar": "Contents",
   "toc_cell": false,
   "toc_position": {},
   "toc_section_display": true,
   "toc_window_display": false
  }
 },
 "nbformat": 4,
 "nbformat_minor": 5
}
