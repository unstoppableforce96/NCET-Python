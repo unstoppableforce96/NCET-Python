{
 "cells": [
  {
   "cell_type": "markdown",
   "id": "42beb69a",
   "metadata": {},
   "source": [
    "# Lists in Python\n",
    "- Ordered Collection of Elements (of same type or of different types)\n",
    "- Every list element is associated with an index value\n",
    "- Indexes start from 0"
   ]
  },
  {
   "cell_type": "code",
   "execution_count": 9,
   "id": "449d46a4",
   "metadata": {},
   "outputs": [
    {
     "name": "stdout",
     "output_type": "stream",
     "text": [
      "[10, 20, 30, 40]\n",
      "<class 'list'>\n"
     ]
    }
   ],
   "source": [
    "lst = [10, 20, 30, 40]\n",
    "#      0   1   2   3\n",
    "print(lst)\n",
    "print(type(lst))"
   ]
  },
  {
   "cell_type": "code",
   "execution_count": 11,
   "id": "602558fb",
   "metadata": {},
   "outputs": [
    {
     "name": "stdout",
     "output_type": "stream",
     "text": [
      "20\n",
      "40\n"
     ]
    }
   ],
   "source": [
    "lst = [10, 20, 30, 40]\n",
    "#      0   1   2   3\n",
    "print(lst[1])\n",
    "print(lst[3])"
   ]
  },
  {
   "cell_type": "code",
   "execution_count": 12,
   "id": "ade3fee7",
   "metadata": {},
   "outputs": [
    {
     "ename": "IndexError",
     "evalue": "list index out of range",
     "output_type": "error",
     "traceback": [
      "\u001b[1;31m---------------------------------------------------------------------------\u001b[0m",
      "\u001b[1;31mIndexError\u001b[0m                                Traceback (most recent call last)",
      "\u001b[1;32m~\\AppData\\Local\\Temp\\ipykernel_3008\\320047938.py\u001b[0m in \u001b[0;36m<cell line: 3>\u001b[1;34m()\u001b[0m\n\u001b[0;32m      1\u001b[0m \u001b[0mlst\u001b[0m \u001b[1;33m=\u001b[0m \u001b[1;33m[\u001b[0m\u001b[1;36m10\u001b[0m\u001b[1;33m,\u001b[0m \u001b[1;36m20\u001b[0m\u001b[1;33m,\u001b[0m \u001b[1;36m30\u001b[0m\u001b[1;33m,\u001b[0m \u001b[1;36m40\u001b[0m\u001b[1;33m]\u001b[0m\u001b[1;33m\u001b[0m\u001b[1;33m\u001b[0m\u001b[0m\n\u001b[0;32m      2\u001b[0m \u001b[1;31m#      0   1   2   3\u001b[0m\u001b[1;33m\u001b[0m\u001b[1;33m\u001b[0m\u001b[0m\n\u001b[1;32m----> 3\u001b[1;33m \u001b[0mprint\u001b[0m\u001b[1;33m(\u001b[0m\u001b[0mlst\u001b[0m\u001b[1;33m[\u001b[0m\u001b[1;36m4\u001b[0m\u001b[1;33m]\u001b[0m\u001b[1;33m)\u001b[0m\u001b[1;33m\u001b[0m\u001b[1;33m\u001b[0m\u001b[0m\n\u001b[0m",
      "\u001b[1;31mIndexError\u001b[0m: list index out of range"
     ]
    }
   ],
   "source": [
    "lst = [10, 20, 30, 40]\n",
    "#      0   1   2   3\n",
    "print(lst[4])"
   ]
  },
  {
   "cell_type": "markdown",
   "id": "5d74491f",
   "metadata": {},
   "source": [
    "## Creating a list from another iterable using list()\n",
    "- list() --> Pass another iterable object as an argument"
   ]
  },
  {
   "cell_type": "code",
   "execution_count": 14,
   "id": "236e6d1a",
   "metadata": {},
   "outputs": [
    {
     "name": "stdout",
     "output_type": "stream",
     "text": [
      "[1, 2, 3, 4, 5, 6, 7, 8, 9, 10, 11, 12, 13, 14, 15, 16, 17, 18, 19, 20]\n"
     ]
    }
   ],
   "source": [
    "lst = list(range(1, 21))\n",
    "print(lst)"
   ]
  },
  {
   "cell_type": "code",
   "execution_count": 15,
   "id": "f775343e",
   "metadata": {},
   "outputs": [
    {
     "name": "stdout",
     "output_type": "stream",
     "text": [
      "['t', 'h', 'i', 's', ' ', 'i', 's', ' ', 'p', 'y', 't', 'h', 'o', 'n']\n"
     ]
    }
   ],
   "source": [
    "string = 'this is python'\n",
    "lst = list(string)\n",
    "print(lst)"
   ]
  },
  {
   "cell_type": "code",
   "execution_count": 17,
   "id": "fd8be637",
   "metadata": {},
   "outputs": [
    {
     "name": "stdout",
     "output_type": "stream",
     "text": [
      "10 20 30\n",
      "10\n",
      "20\n",
      "30\n"
     ]
    }
   ],
   "source": [
    "a = map(int, input().split()) # return a map object\n",
    "for i in a:\n",
    "    print(i)"
   ]
  },
  {
   "cell_type": "code",
   "execution_count": 19,
   "id": "57fcc232",
   "metadata": {},
   "outputs": [
    {
     "name": "stdout",
     "output_type": "stream",
     "text": [
      "10 20 30 40 50 60 70 80 90\n",
      "[10, 20, 30, 40, 50, 60, 70, 80, 90]\n"
     ]
    }
   ],
   "source": [
    "# Reading a list of integers from the user\n",
    "a = list(map(int, input().split()))\n",
    "print(a)"
   ]
  },
  {
   "cell_type": "code",
   "execution_count": null,
   "id": "603fa59a",
   "metadata": {},
   "outputs": [],
   "source": [
    "5\n",
    "10 20 30 40 50 # list(map(int, input().split()))"
   ]
  },
  {
   "cell_type": "code",
   "execution_count": 18,
   "id": "aa0d2e5b",
   "metadata": {},
   "outputs": [
    {
     "ename": "TypeError",
     "evalue": "'int' object is not iterable",
     "output_type": "error",
     "traceback": [
      "\u001b[1;31m---------------------------------------------------------------------------\u001b[0m",
      "\u001b[1;31mTypeError\u001b[0m                                 Traceback (most recent call last)",
      "\u001b[1;32m~\\AppData\\Local\\Temp\\ipykernel_3008\\4084999993.py\u001b[0m in \u001b[0;36m<cell line: 2>\u001b[1;34m()\u001b[0m\n\u001b[0;32m      1\u001b[0m \u001b[0mn\u001b[0m \u001b[1;33m=\u001b[0m \u001b[1;36m12345\u001b[0m\u001b[1;33m\u001b[0m\u001b[1;33m\u001b[0m\u001b[0m\n\u001b[1;32m----> 2\u001b[1;33m \u001b[0mlst\u001b[0m \u001b[1;33m=\u001b[0m \u001b[0mlist\u001b[0m\u001b[1;33m(\u001b[0m\u001b[0mn\u001b[0m\u001b[1;33m)\u001b[0m\u001b[1;33m\u001b[0m\u001b[1;33m\u001b[0m\u001b[0m\n\u001b[0m",
      "\u001b[1;31mTypeError\u001b[0m: 'int' object is not iterable"
     ]
    }
   ],
   "source": [
    "n = 12345\n",
    "lst = list(n)"
   ]
  },
  {
   "cell_type": "code",
   "execution_count": 21,
   "id": "a8905a41",
   "metadata": {},
   "outputs": [
    {
     "name": "stdout",
     "output_type": "stream",
     "text": [
      "5\n",
      "10 20 30 40 50 60\n",
      "[10, 20, 30, 40, 50, 60]\n"
     ]
    }
   ],
   "source": [
    "n = int(input())\n",
    "lst = list(map(int, input().split()))\n",
    "print(lst)"
   ]
  },
  {
   "cell_type": "code",
   "execution_count": 22,
   "id": "1031a9a4",
   "metadata": {},
   "outputs": [
    {
     "name": "stdout",
     "output_type": "stream",
     "text": [
      "5\n",
      "10 20 30 40 50 60 70 80\n",
      "[10, 20, 30, 40, 50]\n"
     ]
    }
   ],
   "source": [
    "n = int(input())\n",
    "lst = list(map(int, input().split()))[:n]\n",
    "print(lst)"
   ]
  },
  {
   "cell_type": "code",
   "execution_count": 23,
   "id": "eed33acb",
   "metadata": {},
   "outputs": [
    {
     "name": "stdout",
     "output_type": "stream",
     "text": [
      "10 10\n",
      "20 20\n"
     ]
    }
   ],
   "source": [
    "# using negative indexes\n",
    "  #    0   1   2   3\n",
    "lst = [10, 20, 30, 40]\n",
    "  #    -4  -3  -2  -1\n",
    "print(lst[0], lst[-4])\n",
    "print(lst[1], lst[-3])"
   ]
  },
  {
   "cell_type": "code",
   "execution_count": 24,
   "id": "e3ca2f4f",
   "metadata": {},
   "outputs": [
    {
     "name": "stdout",
     "output_type": "stream",
     "text": [
      "50\n"
     ]
    }
   ],
   "source": [
    "lst = [10, 20, 40, 50]\n",
    "print(lst[-1])"
   ]
  },
  {
   "cell_type": "code",
   "execution_count": 25,
   "id": "43559a23",
   "metadata": {},
   "outputs": [
    {
     "name": "stdout",
     "output_type": "stream",
     "text": [
      "10\n",
      "20\n",
      "30\n",
      "40\n",
      "50\n"
     ]
    }
   ],
   "source": [
    "# Traversing through a list\n",
    "# Index based traversal\n",
    "# Element based traversal\n",
    "lst = [10, 20, 30, 40, 50]\n",
    "for element in lst:\n",
    "    print(element)"
   ]
  },
  {
   "cell_type": "code",
   "execution_count": 26,
   "id": "663387a7",
   "metadata": {},
   "outputs": [
    {
     "name": "stdout",
     "output_type": "stream",
     "text": [
      "100\n",
      "400\n",
      "900\n",
      "1600\n",
      "2500\n"
     ]
    }
   ],
   "source": [
    "lst = [10, 20, 30, 40, 50]\n",
    "for i in lst:\n",
    "    print(i ** 2)"
   ]
  },
  {
   "cell_type": "code",
   "execution_count": 28,
   "id": "d89fa49c",
   "metadata": {},
   "outputs": [
    {
     "name": "stdout",
     "output_type": "stream",
     "text": [
      "10\n",
      "20\n",
      "30\n",
      "40\n",
      "50\n"
     ]
    }
   ],
   "source": [
    "# Index Based Traversal\n",
    "lst = [10, 20, 30, 40, 50]\n",
    "# ind  0   1   2   3   4\n",
    "for i in range(len(lst)): # 0 1 2 3 4\n",
    "    print(lst[i])"
   ]
  },
  {
   "cell_type": "code",
   "execution_count": 38,
   "id": "9e6a4570",
   "metadata": {},
   "outputs": [
    {
     "name": "stdout",
     "output_type": "stream",
     "text": [
      "14 16 18 "
     ]
    }
   ],
   "source": [
    "# Find out the number of even numbers in the list\n",
    "# that are present between 2 odd numbers\n",
    "lst = [10, 11, 14, 15, 16, 17, 18, 19, 21, 27, 23, 24]\n",
    "# ind  0   1   2   3   4   5   6   7   8   9   10  11\n",
    "for i in range(1, len(lst) - 1):\n",
    "    if lst[i]%2 == 0 and lst[i - 1]%2 != 0 and lst[i + 1]%2 != 0:\n",
    "        print(lst[i], end = ' ')"
   ]
  },
  {
   "cell_type": "code",
   "execution_count": 41,
   "id": "97615ac0",
   "metadata": {},
   "outputs": [
    {
     "name": "stdout",
     "output_type": "stream",
     "text": [
      "5\n",
      "10\n",
      "20\n",
      "30\n",
      "40\n",
      "50\n",
      "[10, 20, 30, 40, 50]\n"
     ]
    }
   ],
   "source": [
    "# How many elements we have to read beforehand\n",
    "lst = [] # lst = list()\n",
    "n = int(input())\n",
    "for i in range(n):\n",
    "    val = int(input())\n",
    "    lst.append(val)\n",
    "print(lst)"
   ]
  },
  {
   "cell_type": "code",
   "execution_count": null,
   "id": "b7238ad3",
   "metadata": {},
   "outputs": [],
   "source": [
    "10\n",
    "20\n",
    "30\n",
    "40\n",
    "50"
   ]
  },
  {
   "cell_type": "code",
   "execution_count": 40,
   "id": "f8f50cb3",
   "metadata": {},
   "outputs": [
    {
     "name": "stdout",
     "output_type": "stream",
     "text": [
      "[10, 20, 30]\n"
     ]
    }
   ],
   "source": [
    "lst = [10, 20]\n",
    "lst.append(30)\n",
    "print(lst)"
   ]
  },
  {
   "cell_type": "markdown",
   "id": "553e2017",
   "metadata": {},
   "source": [
    "## Slicing\n",
    "- Getting parts of a list\n",
    "- [:] --> Single colon slicing\n",
    "- [::] --> double colon slicing\n",
    "- [start_index:end_index:index_jump]\n",
    "- Defaults\n",
    "    - start_index = 0\n",
    "    - end_index = len(list)\n",
    "    - index_jump = 1"
   ]
  },
  {
   "cell_type": "code",
   "execution_count": 42,
   "id": "0bed8c20",
   "metadata": {},
   "outputs": [
    {
     "name": "stdout",
     "output_type": "stream",
     "text": [
      "[10, 20, 30]\n"
     ]
    }
   ],
   "source": [
    "lst = [10, 20, 30, 40, 50, 60, 70, 80, 90, 100]\n",
    "# ind  0   1   2   3   4   5   6   7   8   9\n",
    "new_list = lst[0:3:]\n",
    "print(new_list)"
   ]
  },
  {
   "cell_type": "code",
   "execution_count": 44,
   "id": "3b9def3a",
   "metadata": {},
   "outputs": [
    {
     "name": "stdout",
     "output_type": "stream",
     "text": [
      "[10, 20, 30, 40, 50, 60, 70, 80, 90, 100]\n"
     ]
    }
   ],
   "source": [
    "lst = [10, 20, 30, 40, 50, 60, 70, 80, 90, 100]\n",
    "# ind  0   1   2   3   4   5   6   7   8   9\n",
    "print(lst[::]) # 0 10"
   ]
  },
  {
   "cell_type": "code",
   "execution_count": 45,
   "id": "e90a321d",
   "metadata": {},
   "outputs": [
    {
     "name": "stdout",
     "output_type": "stream",
     "text": [
      "[30, 40, 50, 60, 70, 80, 90, 100]\n"
     ]
    }
   ],
   "source": [
    "lst = [10, 20, 30, 40, 50, 60, 70, 80, 90, 100]\n",
    "# ind  0   1   2   3   4   5   6   7   8   9\n",
    "print(lst[2::]) # 2 10"
   ]
  },
  {
   "cell_type": "code",
   "execution_count": 47,
   "id": "e07b127c",
   "metadata": {},
   "outputs": [
    {
     "name": "stdout",
     "output_type": "stream",
     "text": [
      "[10, 20, 30, 40, 50, 60, 70]\n"
     ]
    }
   ],
   "source": [
    "lst = [10, 20, 30, 40, 50, 60, 70, 80, 90, 100]\n",
    "# ind  0   1   2   3   4   5   6   7   8   9\n",
    "print(lst[:7:]) # 0 6"
   ]
  },
  {
   "cell_type": "code",
   "execution_count": 48,
   "id": "9226aad6",
   "metadata": {},
   "outputs": [
    {
     "name": "stdout",
     "output_type": "stream",
     "text": [
      "[30, 40, 50, 60, 70]\n"
     ]
    }
   ],
   "source": [
    "lst = [10, 20, 30, 40, 50, 60, 70, 80, 90, 100]\n",
    "# ind  0   1   2   3   4   5   6   7   8   9\n",
    "print(lst[2:7:]) # 0 6"
   ]
  },
  {
   "cell_type": "code",
   "execution_count": 49,
   "id": "c754cb6c",
   "metadata": {},
   "outputs": [
    {
     "name": "stdout",
     "output_type": "stream",
     "text": [
      "[10, 30, 50, 70, 90]\n"
     ]
    }
   ],
   "source": [
    "lst = [10, 20, 30, 40, 50, 60, 70, 80, 90, 100]\n",
    "# ind  0   1   2   3   4   5   6   7   8   9\n",
    "print(lst[::2]) # 0 10"
   ]
  },
  {
   "cell_type": "code",
   "execution_count": 50,
   "id": "d20c0abd",
   "metadata": {},
   "outputs": [
    {
     "name": "stdout",
     "output_type": "stream",
     "text": [
      "[10, 80]\n"
     ]
    }
   ],
   "source": [
    "lst = [10, 20, 30, 40, 50, 60, 70, 80, 90, 100]\n",
    "# ind  0   1   2   3   4   5   6   7   8   9\n",
    "print(lst[::7]) # 0 10"
   ]
  },
  {
   "cell_type": "code",
   "execution_count": 52,
   "id": "2f469936",
   "metadata": {},
   "outputs": [
    {
     "name": "stdout",
     "output_type": "stream",
     "text": [
      "[30, 60]\n"
     ]
    }
   ],
   "source": [
    "lst = [10, 20, 30, 40, 50, 60, 70, 80, 90, 100]\n",
    "# ind  0   1   2   3   4   5   6   7   8   9\n",
    "print(lst[2:8:3]) # 0 10"
   ]
  },
  {
   "cell_type": "code",
   "execution_count": 54,
   "id": "4d227f37",
   "metadata": {},
   "outputs": [
    {
     "name": "stdout",
     "output_type": "stream",
     "text": [
      "[80, 70, 60]\n"
     ]
    }
   ],
   "source": [
    "# ind -10  -9  -8  -7  -6  -5  -4  -3  -2  -1\n",
    "lst = [10, 20, 30, 40, 50, 60, 70, 80, 90, 100]\n",
    "print(lst[-3:-6:-1]) # default index = 1"
   ]
  },
  {
   "cell_type": "code",
   "execution_count": 57,
   "id": "6db8c749",
   "metadata": {},
   "outputs": [
    {
     "name": "stdout",
     "output_type": "stream",
     "text": [
      "[40, 30, 20, 10]\n"
     ]
    }
   ],
   "source": [
    "# Reversing a list elements\n",
    "# Using a second list\n",
    "# In-place reverse\n",
    "lst = [10, 20, 30, 40] # len(lst) = 4 - 1 = 3\n",
    "# ind  0   1   2   3\n",
    "lst2 = [] # [40, 30, 20, 10]\n",
    "for i in range(len(lst) - 1, -1, -1):\n",
    "    lst2.append(lst[i])\n",
    "print(lst2)"
   ]
  },
  {
   "cell_type": "code",
   "execution_count": 58,
   "id": "e0b69f59",
   "metadata": {},
   "outputs": [
    {
     "name": "stdout",
     "output_type": "stream",
     "text": [
      "[100, 90, 80, 70, 60, 50, 40, 30, 20, 10]\n"
     ]
    }
   ],
   "source": [
    "# In-place reverse\n",
    "lst = [10, 20, 30, 40, 50, 60, 70, 80, 90, 100]\n",
    "i = 0\n",
    "j = len(lst) - 1\n",
    "while i < j:\n",
    "    lst[i], lst[j] = lst[j], lst[i]\n",
    "    i += 1\n",
    "    j -= 1\n",
    "print(lst)"
   ]
  }
 ],
 "metadata": {
  "kernelspec": {
   "display_name": "Python 3 (ipykernel)",
   "language": "python",
   "name": "python3"
  },
  "language_info": {
   "codemirror_mode": {
    "name": "ipython",
    "version": 3
   },
   "file_extension": ".py",
   "mimetype": "text/x-python",
   "name": "python",
   "nbconvert_exporter": "python",
   "pygments_lexer": "ipython3",
   "version": "3.10.4"
  },
  "latex_envs": {
   "LaTeX_envs_menu_present": true,
   "autoclose": false,
   "autocomplete": true,
   "bibliofile": "biblio.bib",
   "cite_by": "apalike",
   "current_citInitial": 1,
   "eqLabelWithNumbers": true,
   "eqNumInitial": 1,
   "hotkeys": {
    "equation": "Ctrl-E",
    "itemize": "Ctrl-I"
   },
   "labels_anchors": false,
   "latex_user_defs": false,
   "report_style_numbering": false,
   "user_envs_cfg": false
  },
  "toc": {
   "base_numbering": 1,
   "nav_menu": {},
   "number_sections": true,
   "sideBar": true,
   "skip_h1_title": false,
   "title_cell": "Table of Contents",
   "title_sidebar": "Contents",
   "toc_cell": false,
   "toc_position": {},
   "toc_section_display": true,
   "toc_window_display": false
  }
 },
 "nbformat": 4,
 "nbformat_minor": 5
}
