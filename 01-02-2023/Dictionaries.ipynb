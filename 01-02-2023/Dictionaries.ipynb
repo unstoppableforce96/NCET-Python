{
 "cells": [
  {
   "cell_type": "markdown",
   "id": "bd51d5e5",
   "metadata": {},
   "source": [
    "# Dictionaries in Python\n",
    "- Mapping --> Map one type to another\n",
    "- key: value\n",
    "- word: definition\n",
    "- author: best seller (str: str)\n",
    "- batsmen: centuries (str: int)\n",
    "- (int: int)\n",
    "- student: age (str:  int)\n",
    "- student: [age, roll, mobile, mail, gender] (str: list)\n",
    "- Dictionaries will not hold duplicate keys"
   ]
  },
  {
   "cell_type": "code",
   "execution_count": 1,
   "id": "21d27c8f",
   "metadata": {},
   "outputs": [
    {
     "name": "stdout",
     "output_type": "stream",
     "text": [
      "{'sachin': 100, 'ponting': 72, 'kohli': 73}\n",
      "<class 'dict'>\n"
     ]
    }
   ],
   "source": [
    "cric_info = {'sachin': 100,\n",
    "             'ponting': 72,\n",
    "             'kohli': 73}\n",
    "print(cric_info)\n",
    "print(type(cric_info))"
   ]
  },
  {
   "cell_type": "code",
   "execution_count": 5,
   "id": "06e00fb2",
   "metadata": {},
   "outputs": [
    {
     "name": "stdout",
     "output_type": "stream",
     "text": [
      "100\n",
      "72\n"
     ]
    }
   ],
   "source": [
    "cric_info = {'sachin': 100,\n",
    "             'ponting': 72,\n",
    "             'kohli': 73}\n",
    "# dict[key] --> corresopding value\n",
    "print(cric_info['sachin'])\n",
    "print(cric_info['ponting'])"
   ]
  },
  {
   "cell_type": "code",
   "execution_count": 8,
   "id": "fed16197",
   "metadata": {},
   "outputs": [
    {
     "name": "stdout",
     "output_type": "stream",
     "text": [
      "{'sachin': 200, 'ponting': 72, 'kohli': 73}\n"
     ]
    }
   ],
   "source": [
    "cric_info = {'sachin': 100,\n",
    "             'ponting': 72,\n",
    "             'kohli': 73,\n",
    "            'sachin': 200}\n",
    "print(cric_info)"
   ]
  },
  {
   "cell_type": "code",
   "execution_count": 7,
   "id": "e63403a2",
   "metadata": {},
   "outputs": [
    {
     "name": "stdout",
     "output_type": "stream",
     "text": [
      "{'sachin': 100, 'ponting': 72}\n"
     ]
    }
   ],
   "source": [
    "cric_info = {} # empty dictionary\n",
    "# print(cric_info)\n",
    "cric_info['sachin'] = 100\n",
    "cric_info['ponting'] = 72\n",
    "print(cric_info)"
   ]
  },
  {
   "cell_type": "code",
   "execution_count": 9,
   "id": "497ace52",
   "metadata": {},
   "outputs": [
    {
     "name": "stdout",
     "output_type": "stream",
     "text": [
      "{'sachin': 200, 'ponting': 72}\n"
     ]
    }
   ],
   "source": [
    "cric_info = {} # empty dictionary\n",
    "# print(cric_info)\n",
    "cric_info['sachin'] = 100\n",
    "cric_info['ponting'] = 72\n",
    "cric_info['sachin'] = 200\n",
    "print(cric_info)"
   ]
  },
  {
   "cell_type": "code",
   "execution_count": 10,
   "id": "95ed9733",
   "metadata": {},
   "outputs": [
    {
     "name": "stdout",
     "output_type": "stream",
     "text": [
      "sachin\n",
      "100\n",
      "ponting\n",
      "72\n",
      "kohli\n",
      "73\n",
      "{'sachin': 100, 'ponting': 72, 'kohli': 73}\n"
     ]
    }
   ],
   "source": [
    "# Populating a dictionary while getting the values from the user\n",
    "d = {}\n",
    "pairs = 3\n",
    "for _ in range(pairs):\n",
    "    key = input()\n",
    "    value = int(input())\n",
    "    d[key] = value\n",
    "print(d)"
   ]
  },
  {
   "cell_type": "code",
   "execution_count": 14,
   "id": "07c3edc9",
   "metadata": {},
   "outputs": [
    {
     "name": "stdout",
     "output_type": "stream",
     "text": [
      "{'sachin': 100, 'ponting': 72, 'kohli': 73}\n"
     ]
    }
   ],
   "source": [
    "cricketers = ['sachin', 'ponting', 'kohli'] # list\n",
    "#index          0          1          2\n",
    "centuries = [100, 72, 73]\n",
    "#index        0   1   2\n",
    "# dict\n",
    "d = {}\n",
    "for i in range(len(cricketers)):\n",
    "    d[cricketers[i]] = centuries[i]\n",
    "print(d)"
   ]
  },
  {
   "cell_type": "markdown",
   "id": "e765b782",
   "metadata": {},
   "source": [
    "## Dictionary comprehension"
   ]
  },
  {
   "cell_type": "code",
   "execution_count": 15,
   "id": "ca5a588f",
   "metadata": {},
   "outputs": [
    {
     "name": "stdout",
     "output_type": "stream",
     "text": [
      "{'sachin': 100, 'ponting': 72, 'kohli': 73}\n"
     ]
    }
   ],
   "source": [
    "cricketers = ['sachin', 'ponting', 'kohli'] # list\n",
    "#index          0          1          2\n",
    "centuries = [100, 72, 73]\n",
    "#index        0   1   2\n",
    "# cri[0] : cen[0], cri[1]: cen[1], cri[2]: cen[2], cri[i]: cen[i]\n",
    "\n",
    "d={cricketers[i]: centuries[i] for i in range(len(centuries))}\n",
    "print(d)"
   ]
  },
  {
   "cell_type": "markdown",
   "id": "cd92dd2c",
   "metadata": {},
   "source": [
    "## dict() and zip()"
   ]
  },
  {
   "cell_type": "markdown",
   "id": "a1cad79e",
   "metadata": {},
   "source": [
    "### zip()\n",
    "- zip(*iterables)\n",
    "- return a zip object containing n sized tuples, where n is number of iterables passed. It will form the tuple with ith element from each iterable."
   ]
  },
  {
   "cell_type": "code",
   "execution_count": 17,
   "id": "1971a579",
   "metadata": {},
   "outputs": [
    {
     "name": "stdout",
     "output_type": "stream",
     "text": [
      "[(0, 0, 'h'), (1, 1, 'e'), (2, 2, 'l')]\n"
     ]
    }
   ],
   "source": [
    "z = zip(range(3), range(4), 'hello')\n",
    "print(list(z))"
   ]
  },
  {
   "cell_type": "code",
   "execution_count": 18,
   "id": "9626dc8e",
   "metadata": {},
   "outputs": [
    {
     "data": {
      "text/plain": [
       "['h', 'e', 'l', 'l', 'o']"
      ]
     },
     "execution_count": 18,
     "metadata": {},
     "output_type": "execute_result"
    }
   ],
   "source": [
    "string = 'hello'\n",
    "list(string)"
   ]
  },
  {
   "cell_type": "code",
   "execution_count": 19,
   "id": "3683c38d",
   "metadata": {},
   "outputs": [
    {
     "name": "stdout",
     "output_type": "stream",
     "text": [
      "{'sachin': 100, 'ponting': 72, 'kohli': 73}\n"
     ]
    }
   ],
   "source": [
    "list_of_lists = [['sachin', 100], \n",
    "                 ['ponting', 72],\n",
    "                 ['kohli', 73]]\n",
    "d = dict(list_of_lists)\n",
    "print(d)"
   ]
  },
  {
   "cell_type": "code",
   "execution_count": 20,
   "id": "abae80c6",
   "metadata": {},
   "outputs": [
    {
     "ename": "ValueError",
     "evalue": "dictionary update sequence element #0 has length 3; 2 is required",
     "output_type": "error",
     "traceback": [
      "\u001b[1;31m---------------------------------------------------------------------------\u001b[0m",
      "\u001b[1;31mValueError\u001b[0m                                Traceback (most recent call last)",
      "\u001b[1;32m~\\AppData\\Local\\Temp\\ipykernel_11256\\2885791412.py\u001b[0m in \u001b[0;36m<cell line: 4>\u001b[1;34m()\u001b[0m\n\u001b[0;32m      2\u001b[0m                  \u001b[1;33m[\u001b[0m\u001b[1;34m'ponting'\u001b[0m\u001b[1;33m,\u001b[0m \u001b[1;36m72\u001b[0m\u001b[1;33m,\u001b[0m \u001b[1;34m'y'\u001b[0m\u001b[1;33m]\u001b[0m\u001b[1;33m,\u001b[0m\u001b[1;33m\u001b[0m\u001b[1;33m\u001b[0m\u001b[0m\n\u001b[0;32m      3\u001b[0m                  ['kohli', 73, 'z']]\n\u001b[1;32m----> 4\u001b[1;33m \u001b[0md\u001b[0m \u001b[1;33m=\u001b[0m \u001b[0mdict\u001b[0m\u001b[1;33m(\u001b[0m\u001b[0mlist_of_lists\u001b[0m\u001b[1;33m)\u001b[0m\u001b[1;33m\u001b[0m\u001b[1;33m\u001b[0m\u001b[0m\n\u001b[0m\u001b[0;32m      5\u001b[0m \u001b[0mprint\u001b[0m\u001b[1;33m(\u001b[0m\u001b[0md\u001b[0m\u001b[1;33m)\u001b[0m\u001b[1;33m\u001b[0m\u001b[1;33m\u001b[0m\u001b[0m\n",
      "\u001b[1;31mValueError\u001b[0m: dictionary update sequence element #0 has length 3; 2 is required"
     ]
    }
   ],
   "source": [
    "list_of_lists = [['sachin', 100, 'x'], \n",
    "                 ['ponting', 72, 'y'],\n",
    "                 ['kohli', 73, 'z']]\n",
    "d = dict(list_of_lists)\n",
    "print(d)"
   ]
  },
  {
   "cell_type": "code",
   "execution_count": 21,
   "id": "670b8b96",
   "metadata": {},
   "outputs": [
    {
     "name": "stdout",
     "output_type": "stream",
     "text": [
      "{'a': '1', 'b': '2', 'c': '3', 'd': '4', 'e': '5'}\n"
     ]
    }
   ],
   "source": [
    "lst = ['a1', 'b2', 'c3', 'd4', 'e5']\n",
    "d = dict(lst)\n",
    "print(d)"
   ]
  },
  {
   "cell_type": "code",
   "execution_count": 26,
   "id": "918a041f",
   "metadata": {},
   "outputs": [
    {
     "name": "stdout",
     "output_type": "stream",
     "text": [
      "{'sachin': 100, 'ponting': 72, 'kohli': 73}\n",
      "<class 'dict'>\n"
     ]
    }
   ],
   "source": [
    "cricketers = ['sachin', 'ponting', 'kohli'] # list\n",
    "centuries = [100, 72, 73]\n",
    "# dict() and zip()\n",
    "d = dict(zip(cricketers, centuries)) #\n",
    "print(d)\n",
    "print(type(d))"
   ]
  },
  {
   "cell_type": "markdown",
   "id": "15dac264",
   "metadata": {},
   "source": [
    "# Traversing through a dictionary"
   ]
  },
  {
   "cell_type": "code",
   "execution_count": 32,
   "id": "c54b0032",
   "metadata": {},
   "outputs": [
    {
     "name": "stdout",
     "output_type": "stream",
     "text": [
      "sachin\n",
      "ponting\n",
      "kohli\n"
     ]
    }
   ],
   "source": [
    "d = {'sachin': 100, 'ponting': 72, 'kohli': 73}\n",
    "for i in d:\n",
    "    print(i)"
   ]
  },
  {
   "cell_type": "code",
   "execution_count": 30,
   "id": "be8d896b",
   "metadata": {},
   "outputs": [
    {
     "name": "stdout",
     "output_type": "stream",
     "text": [
      "10\n",
      "20\n",
      "30\n"
     ]
    }
   ],
   "source": [
    "lst = [10, 20, 30]\n",
    "for i in lst:\n",
    "    print(i)"
   ]
  },
  {
   "cell_type": "code",
   "execution_count": 33,
   "id": "8d53c7cd",
   "metadata": {},
   "outputs": [
    {
     "name": "stdout",
     "output_type": "stream",
     "text": [
      "sachin --> 100\n",
      "ponting --> 72\n",
      "kohli --> 73\n"
     ]
    }
   ],
   "source": [
    "d = {'sachin': 100, 'ponting': 72, 'kohli': 73}\n",
    "for i in d:\n",
    "    print(i, '-->', d[i])"
   ]
  },
  {
   "cell_type": "code",
   "execution_count": 39,
   "id": "733492d9",
   "metadata": {},
   "outputs": [
    {
     "name": "stdout",
     "output_type": "stream",
     "text": [
      "dict_keys(['sachin', 'ponting', 'kohli'])\n"
     ]
    }
   ],
   "source": [
    "d = {'sachin': 100, 'ponting': 72, 'kohli': 73}\n",
    "print(d.keys())"
   ]
  },
  {
   "cell_type": "code",
   "execution_count": 42,
   "id": "ae84f393",
   "metadata": {},
   "outputs": [
    {
     "name": "stdout",
     "output_type": "stream",
     "text": [
      "dict_values([100, 72, 73])\n"
     ]
    }
   ],
   "source": [
    "d = {'sachin': 100, 'ponting': 72, 'kohli': 73}\n",
    "print(d.values())"
   ]
  },
  {
   "cell_type": "code",
   "execution_count": 43,
   "id": "370c7724",
   "metadata": {},
   "outputs": [
    {
     "name": "stdout",
     "output_type": "stream",
     "text": [
      "dict_items([('sachin', 100), ('ponting', 72), ('kohli', 73)])\n"
     ]
    }
   ],
   "source": [
    "# dict.items()\n",
    "d = {'sachin': 100, 'ponting': 72, 'kohli': 73}\n",
    "print(d.items())"
   ]
  },
  {
   "cell_type": "code",
   "execution_count": 40,
   "id": "c5cc4ff1",
   "metadata": {},
   "outputs": [
    {
     "name": "stdout",
     "output_type": "stream",
     "text": [
      "sachin 100\n",
      "ponting 72\n",
      "kohli 73\n"
     ]
    }
   ],
   "source": [
    "# by using dict.keys()\n",
    "d = {'sachin': 100, 'ponting': 72, 'kohli': 73}\n",
    "for each_key in d.keys():\n",
    "    print(each_key, d[each_key])"
   ]
  },
  {
   "cell_type": "code",
   "execution_count": 45,
   "id": "748da05e",
   "metadata": {},
   "outputs": [
    {
     "name": "stdout",
     "output_type": "stream",
     "text": [
      "a 10 True\n",
      "b 20 False\n",
      "c 30 True\n",
      "d 40 False\n"
     ]
    }
   ],
   "source": [
    "lst = [('a', 10, True),\n",
    "       ('b', 20, False),\n",
    "       ('c', 30, True),\n",
    "       ('d', 40, False)]\n",
    "for i in lst:\n",
    "    print(i[0], i[1], i[2])"
   ]
  },
  {
   "cell_type": "code",
   "execution_count": 46,
   "id": "ebd303eb",
   "metadata": {},
   "outputs": [
    {
     "name": "stdout",
     "output_type": "stream",
     "text": [
      "a 10 True\n",
      "b 20 False\n",
      "c 30 True\n",
      "d 40 False\n"
     ]
    }
   ],
   "source": [
    "lst = [('a', 10, True),\n",
    "       ('b', 20, False),\n",
    "       ('c', 30, True),\n",
    "       ('d', 40, False)]\n",
    "for a, b, c in lst:\n",
    "    print(a, b, c)"
   ]
  },
  {
   "cell_type": "code",
   "execution_count": 48,
   "id": "45e1d5b8",
   "metadata": {},
   "outputs": [
    {
     "name": "stdout",
     "output_type": "stream",
     "text": [
      "sachin 100\n",
      "ponting 72\n",
      "kohli 73\n"
     ]
    }
   ],
   "source": [
    "d = {'sachin': 100, 'ponting': 72, 'kohli': 73}\n",
    "for k, v in d.items():\n",
    "    print(k, v)"
   ]
  },
  {
   "cell_type": "code",
   "execution_count": 58,
   "id": "6607e1d8",
   "metadata": {},
   "outputs": [
    {
     "name": "stdout",
     "output_type": "stream",
     "text": [
      "{2: 3, 1: 1, 4: 3}\n",
      "2\n"
     ]
    }
   ],
   "source": [
    "lst = [2, 2, 2, 1, 4, 4, 4]\n",
    "d = {}\n",
    "for i in lst:\n",
    "    if i in d.keys():\n",
    "        d[i] += 1\n",
    "    else:\n",
    "        d[i] = 1\n",
    "print(d)\n",
    "mx = max(d.values())\n",
    "x = list(d.values())\n",
    "if x.count(mx) > 1:\n",
    "    print('NO')\n",
    "else:\n",
    "    print('YES')"
   ]
  },
  {
   "cell_type": "code",
   "execution_count": 65,
   "id": "2a0438ad",
   "metadata": {},
   "outputs": [
    {
     "name": "stdout",
     "output_type": "stream",
     "text": [
      "[3, 1, 3]\n",
      "NO\n"
     ]
    }
   ],
   "source": [
    "lst = [2, 2, 2, 1, 4, 4, 4]\n",
    "vis = []\n",
    "f = []\n",
    "for i in lst:\n",
    "    if i not in vis:\n",
    "        f.append(lst.count(i))\n",
    "    vis.append(i)\n",
    "print(f)\n",
    "mx = max(f)\n",
    "if f.count(mx) > 1:\n",
    "    print(\"NO\")\n",
    "else:\n",
    "    print(\"YES\")"
   ]
  },
  {
   "cell_type": "code",
   "execution_count": 67,
   "id": "9589c9d3",
   "metadata": {},
   "outputs": [
    {
     "name": "stdout",
     "output_type": "stream",
     "text": [
      "{'x': {'sachin': 100, 'ponting': 72, 'kohli': 73}}\n"
     ]
    }
   ],
   "source": [
    "d = {'x': {'sachin': 100, 'ponting': 72, 'kohli': 73}}\n",
    "print(d)"
   ]
  }
 ],
 "metadata": {
  "kernelspec": {
   "display_name": "Python 3 (ipykernel)",
   "language": "python",
   "name": "python3"
  },
  "language_info": {
   "codemirror_mode": {
    "name": "ipython",
    "version": 3
   },
   "file_extension": ".py",
   "mimetype": "text/x-python",
   "name": "python",
   "nbconvert_exporter": "python",
   "pygments_lexer": "ipython3",
   "version": "3.10.4"
  },
  "latex_envs": {
   "LaTeX_envs_menu_present": true,
   "autoclose": false,
   "autocomplete": true,
   "bibliofile": "biblio.bib",
   "cite_by": "apalike",
   "current_citInitial": 1,
   "eqLabelWithNumbers": true,
   "eqNumInitial": 1,
   "hotkeys": {
    "equation": "Ctrl-E",
    "itemize": "Ctrl-I"
   },
   "labels_anchors": false,
   "latex_user_defs": false,
   "report_style_numbering": false,
   "user_envs_cfg": false
  },
  "toc": {
   "base_numbering": 1,
   "nav_menu": {},
   "number_sections": true,
   "sideBar": true,
   "skip_h1_title": false,
   "title_cell": "Table of Contents",
   "title_sidebar": "Contents",
   "toc_cell": false,
   "toc_position": {},
   "toc_section_display": true,
   "toc_window_display": false
  }
 },
 "nbformat": 4,
 "nbformat_minor": 5
}
