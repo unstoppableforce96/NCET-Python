{
 "cells": [
  {
   "cell_type": "markdown",
   "id": "5c4a7fd4",
   "metadata": {},
   "source": [
    "# Input Reading"
   ]
  },
  {
   "cell_type": "code",
   "execution_count": 1,
   "id": "a0fcbc20",
   "metadata": {},
   "outputs": [
    {
     "name": "stdout",
     "output_type": "stream",
     "text": [
      "45\n"
     ]
    },
    {
     "data": {
      "text/plain": [
       "'45'"
      ]
     },
     "execution_count": 1,
     "metadata": {},
     "output_type": "execute_result"
    }
   ],
   "source": [
    "input() # reads data from the user in the form of a string"
   ]
  },
  {
   "cell_type": "code",
   "execution_count": 2,
   "id": "3152e74d",
   "metadata": {},
   "outputs": [
    {
     "name": "stdout",
     "output_type": "stream",
     "text": [
      "497\n",
      "497\n",
      "<class 'str'>\n"
     ]
    }
   ],
   "source": [
    "_input = input()\n",
    "print(_input)\n",
    "print(type(_input))"
   ]
  },
  {
   "cell_type": "code",
   "execution_count": 10,
   "id": "21a7aa5f",
   "metadata": {},
   "outputs": [
    {
     "name": "stdout",
     "output_type": "stream",
     "text": [
      "57\n",
      "46\n",
      "5746\n"
     ]
    }
   ],
   "source": [
    "a = input()\n",
    "b = input()\n",
    "print(a + b)"
   ]
  },
  {
   "cell_type": "code",
   "execution_count": 11,
   "id": "1fdad89c",
   "metadata": {},
   "outputs": [
    {
     "data": {
      "text/plain": [
       "103"
      ]
     },
     "execution_count": 11,
     "metadata": {},
     "output_type": "execute_result"
    }
   ],
   "source": [
    "57 + 46"
   ]
  },
  {
   "cell_type": "code",
   "execution_count": 12,
   "id": "f54f2ea1",
   "metadata": {},
   "outputs": [
    {
     "data": {
      "text/plain": [
       "'5746'"
      ]
     },
     "execution_count": 12,
     "metadata": {},
     "output_type": "execute_result"
    }
   ],
   "source": [
    "'57' + '46'"
   ]
  },
  {
   "cell_type": "code",
   "execution_count": 13,
   "id": "e0e2d550",
   "metadata": {},
   "outputs": [
    {
     "data": {
      "text/plain": [
       "103"
      ]
     },
     "execution_count": 13,
     "metadata": {},
     "output_type": "execute_result"
    }
   ],
   "source": [
    "int('57') + int('46')"
   ]
  },
  {
   "cell_type": "code",
   "execution_count": 14,
   "id": "53b68be1",
   "metadata": {},
   "outputs": [
    {
     "name": "stdout",
     "output_type": "stream",
     "text": [
      "10\n",
      "320\n",
      "330\n"
     ]
    }
   ],
   "source": [
    "a = int(input()) # reads an integer\n",
    "b = int(input()) # reads an integer\n",
    "print(a + b)"
   ]
  },
  {
   "cell_type": "code",
   "execution_count": 16,
   "id": "793a787f",
   "metadata": {},
   "outputs": [
    {
     "name": "stdout",
     "output_type": "stream",
     "text": [
      "10.2\n",
      "2.3\n",
      "10.22.3\n"
     ]
    }
   ],
   "source": [
    "f1 = input()\n",
    "f2 = input()\n",
    "print(f1 + f2)"
   ]
  },
  {
   "cell_type": "code",
   "execution_count": 18,
   "id": "3a84ff16",
   "metadata": {},
   "outputs": [
    {
     "name": "stdout",
     "output_type": "stream",
     "text": [
      "10.2\n",
      "2.3\n",
      "12.5\n"
     ]
    }
   ],
   "source": [
    "f1 = float(input()) # reads a point value\n",
    "f2 = float(input()) # reads a point value\n",
    "print(f1 + f2)"
   ]
  },
  {
   "cell_type": "code",
   "execution_count": 17,
   "id": "325d23f4",
   "metadata": {},
   "outputs": [
    {
     "name": "stdout",
     "output_type": "stream",
     "text": [
      "Pavan\n",
      "B\n",
      "Full name is Pavan B\n"
     ]
    }
   ],
   "source": [
    "first_name = input() # string reading\n",
    "last_name = input() # string reading\n",
    "print(\"Full name is\", first_name + \" \" + last_name)"
   ]
  },
  {
   "cell_type": "code",
   "execution_count": 20,
   "id": "6d73fc10",
   "metadata": {},
   "outputs": [
    {
     "name": "stdout",
     "output_type": "stream",
     "text": [
      "10 20\n"
     ]
    },
    {
     "ename": "ValueError",
     "evalue": "invalid literal for int() with base 10: '10 20'",
     "output_type": "error",
     "traceback": [
      "\u001b[1;31m---------------------------------------------------------------------------\u001b[0m",
      "\u001b[1;31mValueError\u001b[0m                                Traceback (most recent call last)",
      "\u001b[1;32m~\\AppData\\Local\\Temp\\ipykernel_11568\\1508896596.py\u001b[0m in \u001b[0;36m<cell line: 1>\u001b[1;34m()\u001b[0m\n\u001b[1;32m----> 1\u001b[1;33m \u001b[0ma\u001b[0m \u001b[1;33m=\u001b[0m \u001b[0mint\u001b[0m\u001b[1;33m(\u001b[0m\u001b[0minput\u001b[0m\u001b[1;33m(\u001b[0m\u001b[1;33m)\u001b[0m\u001b[1;33m)\u001b[0m\u001b[1;33m\u001b[0m\u001b[1;33m\u001b[0m\u001b[0m\n\u001b[0m\u001b[0;32m      2\u001b[0m \u001b[0mb\u001b[0m \u001b[1;33m=\u001b[0m \u001b[0mint\u001b[0m\u001b[1;33m(\u001b[0m\u001b[0minput\u001b[0m\u001b[1;33m(\u001b[0m\u001b[1;33m)\u001b[0m\u001b[1;33m)\u001b[0m\u001b[1;33m\u001b[0m\u001b[1;33m\u001b[0m\u001b[0m\n\u001b[0;32m      3\u001b[0m \u001b[0mprint\u001b[0m\u001b[1;33m(\u001b[0m\u001b[0ma\u001b[0m \u001b[1;33m+\u001b[0m \u001b[0mb\u001b[0m\u001b[1;33m)\u001b[0m\u001b[1;33m\u001b[0m\u001b[1;33m\u001b[0m\u001b[0m\n",
      "\u001b[1;31mValueError\u001b[0m: invalid literal for int() with base 10: '10 20'"
     ]
    }
   ],
   "source": [
    "a = int(input())\n",
    "b = int(input())\n",
    "print(a + b)"
   ]
  },
  {
   "cell_type": "code",
   "execution_count": 21,
   "id": "650812f2",
   "metadata": {},
   "outputs": [
    {
     "data": {
      "text/plain": [
       "21609"
      ]
     },
     "execution_count": 21,
     "metadata": {},
     "output_type": "execute_result"
    }
   ],
   "source": [
    "int('147') ** 2"
   ]
  },
  {
   "cell_type": "code",
   "execution_count": 22,
   "id": "4a0da652",
   "metadata": {},
   "outputs": [
    {
     "ename": "ValueError",
     "evalue": "invalid literal for int() with base 10: '147s'",
     "output_type": "error",
     "traceback": [
      "\u001b[1;31m---------------------------------------------------------------------------\u001b[0m",
      "\u001b[1;31mValueError\u001b[0m                                Traceback (most recent call last)",
      "\u001b[1;32m~\\AppData\\Local\\Temp\\ipykernel_11568\\1642236497.py\u001b[0m in \u001b[0;36m<cell line: 1>\u001b[1;34m()\u001b[0m\n\u001b[1;32m----> 1\u001b[1;33m \u001b[0mint\u001b[0m\u001b[1;33m(\u001b[0m\u001b[1;34m'147s'\u001b[0m\u001b[1;33m)\u001b[0m \u001b[1;33m**\u001b[0m \u001b[1;36m2\u001b[0m\u001b[1;33m\u001b[0m\u001b[1;33m\u001b[0m\u001b[0m\n\u001b[0m",
      "\u001b[1;31mValueError\u001b[0m: invalid literal for int() with base 10: '147s'"
     ]
    }
   ],
   "source": [
    "int('147s') ** 2"
   ]
  },
  {
   "cell_type": "code",
   "execution_count": 23,
   "id": "9a589929",
   "metadata": {},
   "outputs": [
    {
     "name": "stdout",
     "output_type": "stream",
     "text": [
      "10 20\n",
      "30\n"
     ]
    }
   ],
   "source": [
    "a, b = map(int, input().split())\n",
    "print(a + b)"
   ]
  },
  {
   "cell_type": "code",
   "execution_count": 24,
   "id": "8e950d58",
   "metadata": {},
   "outputs": [
    {
     "name": "stdout",
     "output_type": "stream",
     "text": [
      "10 20 30\n",
      "60\n"
     ]
    }
   ],
   "source": [
    "a, b, c = map(int, input().split())\n",
    "print(a + b + c)"
   ]
  },
  {
   "cell_type": "code",
   "execution_count": null,
   "id": "b80fc11b",
   "metadata": {},
   "outputs": [],
   "source": [
    "a, b, c = map(float, input().split())\n",
    "print(a + b + c)"
   ]
  },
  {
   "cell_type": "code",
   "execution_count": null,
   "id": "f3f05a37",
   "metadata": {},
   "outputs": [],
   "source": [
    "a, b, c = map(str, input().split())\n",
    "print(a + b + c)"
   ]
  },
  {
   "cell_type": "code",
   "execution_count": 29,
   "id": "53c3bb00",
   "metadata": {},
   "outputs": [
    {
     "name": "stdout",
     "output_type": "stream",
     "text": [
      "10 20 30\n"
     ]
    },
    {
     "ename": "ValueError",
     "evalue": "too many values to unpack (expected 2)",
     "output_type": "error",
     "traceback": [
      "\u001b[1;31m---------------------------------------------------------------------------\u001b[0m",
      "\u001b[1;31mValueError\u001b[0m                                Traceback (most recent call last)",
      "\u001b[1;32m~\\AppData\\Local\\Temp\\ipykernel_11568\\2026927438.py\u001b[0m in \u001b[0;36m<cell line: 1>\u001b[1;34m()\u001b[0m\n\u001b[1;32m----> 1\u001b[1;33m \u001b[0ma\u001b[0m\u001b[1;33m,\u001b[0m \u001b[0mb\u001b[0m \u001b[1;33m=\u001b[0m \u001b[0mmap\u001b[0m\u001b[1;33m(\u001b[0m\u001b[0mint\u001b[0m\u001b[1;33m,\u001b[0m \u001b[0minput\u001b[0m\u001b[1;33m(\u001b[0m\u001b[1;33m)\u001b[0m\u001b[1;33m.\u001b[0m\u001b[0msplit\u001b[0m\u001b[1;33m(\u001b[0m\u001b[1;33m)\u001b[0m\u001b[1;33m)\u001b[0m\u001b[1;33m\u001b[0m\u001b[1;33m\u001b[0m\u001b[0m\n\u001b[0m\u001b[0;32m      2\u001b[0m \u001b[0mprint\u001b[0m\u001b[1;33m(\u001b[0m\u001b[0ma\u001b[0m \u001b[1;33m+\u001b[0m \u001b[0mb\u001b[0m\u001b[1;33m)\u001b[0m\u001b[1;33m\u001b[0m\u001b[1;33m\u001b[0m\u001b[0m\n",
      "\u001b[1;31mValueError\u001b[0m: too many values to unpack (expected 2)"
     ]
    }
   ],
   "source": [
    "a, b = map(int, input().split())\n",
    "print(a + b)"
   ]
  },
  {
   "cell_type": "code",
   "execution_count": 30,
   "id": "8aba2586",
   "metadata": {},
   "outputs": [
    {
     "name": "stdout",
     "output_type": "stream",
     "text": [
      "10 20\n"
     ]
    },
    {
     "ename": "ValueError",
     "evalue": "not enough values to unpack (expected 3, got 2)",
     "output_type": "error",
     "traceback": [
      "\u001b[1;31m---------------------------------------------------------------------------\u001b[0m",
      "\u001b[1;31mValueError\u001b[0m                                Traceback (most recent call last)",
      "\u001b[1;32m~\\AppData\\Local\\Temp\\ipykernel_11568\\1175290515.py\u001b[0m in \u001b[0;36m<cell line: 1>\u001b[1;34m()\u001b[0m\n\u001b[1;32m----> 1\u001b[1;33m \u001b[0ma\u001b[0m\u001b[1;33m,\u001b[0m \u001b[0mb\u001b[0m\u001b[1;33m,\u001b[0m \u001b[0mc\u001b[0m \u001b[1;33m=\u001b[0m \u001b[0mmap\u001b[0m\u001b[1;33m(\u001b[0m\u001b[0mint\u001b[0m\u001b[1;33m,\u001b[0m \u001b[0minput\u001b[0m\u001b[1;33m(\u001b[0m\u001b[1;33m)\u001b[0m\u001b[1;33m.\u001b[0m\u001b[0msplit\u001b[0m\u001b[1;33m(\u001b[0m\u001b[1;33m)\u001b[0m\u001b[1;33m)\u001b[0m\u001b[1;33m\u001b[0m\u001b[1;33m\u001b[0m\u001b[0m\n\u001b[0m\u001b[0;32m      2\u001b[0m \u001b[0mprint\u001b[0m\u001b[1;33m(\u001b[0m\u001b[0ma\u001b[0m \u001b[1;33m+\u001b[0m \u001b[0mb\u001b[0m\u001b[1;33m)\u001b[0m\u001b[1;33m\u001b[0m\u001b[1;33m\u001b[0m\u001b[0m\n",
      "\u001b[1;31mValueError\u001b[0m: not enough values to unpack (expected 3, got 2)"
     ]
    }
   ],
   "source": [
    "a, b, c = map(int, input().split())\n",
    "print(a + b)"
   ]
  },
  {
   "cell_type": "code",
   "execution_count": 25,
   "id": "72c1202c",
   "metadata": {},
   "outputs": [
    {
     "name": "stdout",
     "output_type": "stream",
     "text": [
      "['this', 'is', 'python', 'split']\n"
     ]
    }
   ],
   "source": [
    "_string = 'this is python split'\n",
    "print(_string.split())"
   ]
  },
  {
   "cell_type": "code",
   "execution_count": 26,
   "id": "d5c2427c",
   "metadata": {},
   "outputs": [
    {
     "name": "stdout",
     "output_type": "stream",
     "text": [
      "['this', 'is', 'python', 'split']\n"
     ]
    }
   ],
   "source": [
    "_string = 'this,is,python,split'\n",
    "print(_string.split(','))"
   ]
  },
  {
   "cell_type": "code",
   "execution_count": 27,
   "id": "2dddbf24",
   "metadata": {},
   "outputs": [
    {
     "name": "stdout",
     "output_type": "stream",
     "text": [
      "['th', 's ', 's python spl', 't']\n"
     ]
    }
   ],
   "source": [
    "_string = 'this is python split'\n",
    "print(_string.split('i'))"
   ]
  },
  {
   "cell_type": "code",
   "execution_count": 28,
   "id": "c71c5201",
   "metadata": {},
   "outputs": [
    {
     "name": "stdout",
     "output_type": "stream",
     "text": [
      "10\n",
      "12.2\n",
      "hello\n"
     ]
    }
   ],
   "source": [
    "a, b, c = 10, 12.2, \"hello\"\n",
    "print(a)\n",
    "print(b)\n",
    "print(c)"
   ]
  },
  {
   "cell_type": "code",
   "execution_count": 31,
   "id": "e6175346",
   "metadata": {},
   "outputs": [
    {
     "name": "stdout",
     "output_type": "stream",
     "text": [
      "Enter the value of a: 10\n",
      "Enter the value of b: 20\n",
      "30\n"
     ]
    }
   ],
   "source": [
    "a = int(input(\"Enter the value of a: \"))\n",
    "b = int(input(\"Enter the value of b: \"))\n",
    "print(a + b)"
   ]
  },
  {
   "cell_type": "code",
   "execution_count": 32,
   "id": "85eb35ec",
   "metadata": {},
   "outputs": [
    {
     "name": "stdout",
     "output_type": "stream",
     "text": [
      "Enter the values of a and b: 10 20\n",
      "30\n"
     ]
    }
   ],
   "source": [
    "a, b = map(int, input(\"Enter the values of a and b: \").split())\n",
    "print(a + b)"
   ]
  },
  {
   "cell_type": "markdown",
   "id": "21238ba9",
   "metadata": {},
   "source": [
    "# Output Formatting\n",
    "- Old % formatting (format specifiers)\n",
    "- Using .format() method on strings\n",
    "- f strings"
   ]
  },
  {
   "cell_type": "code",
   "execution_count": 37,
   "id": "fd6bda63",
   "metadata": {},
   "outputs": [
    {
     "name": "stdout",
     "output_type": "stream",
     "text": [
      "Enter the value of a: 10\n",
      "Enter the value of b: 20\n",
      "Sum of the values entered is: 30\n"
     ]
    }
   ],
   "source": [
    "a = int(input(\"Enter the value of a: \"))\n",
    "b = int(input(\"Enter the value of b: \"))\n",
    "print(\"Sum of the values entered is:\", a + b)"
   ]
  },
  {
   "cell_type": "code",
   "execution_count": 38,
   "id": "fc548e76",
   "metadata": {},
   "outputs": [
    {
     "name": "stdout",
     "output_type": "stream",
     "text": [
      "Enter the value of a: 10\n",
      "Enter the value of b: 20\n",
      "Sum of 10 and 20 is: 30\n"
     ]
    }
   ],
   "source": [
    "a = int(input(\"Enter the value of a: \"))\n",
    "b = int(input(\"Enter the value of b: \"))\n",
    "print(\"Sum of\", a, \"and\", b, \"is:\", a + b)\n",
    "# Sum of 10 and 20 is 30."
   ]
  },
  {
   "cell_type": "code",
   "execution_count": 39,
   "id": "d0a5af74",
   "metadata": {},
   "outputs": [
    {
     "name": "stdout",
     "output_type": "stream",
     "text": [
      "Enter the value of a: 10\n",
      "Enter the value of b: 20\n",
      "Sum of 10 and 20 is 30\n"
     ]
    }
   ],
   "source": [
    "# using % formatting\n",
    "a = int(input(\"Enter the value of a: \"))\n",
    "b = int(input(\"Enter the value of b: \"))\n",
    "print(\"Sum of %d and %d is %d\"%(a, b, a + b))\n",
    "# Sum of 10 and 20 is 30."
   ]
  },
  {
   "cell_type": "code",
   "execution_count": 40,
   "id": "f5da8aaa",
   "metadata": {},
   "outputs": [
    {
     "name": "stdout",
     "output_type": "stream",
     "text": [
      "Enter the value of a: 10\n",
      "Enter the value of b: 20\n",
      "Sum of 10 and 20 is 30\n"
     ]
    }
   ],
   "source": [
    "# using .format()\n",
    "a = int(input(\"Enter the value of a: \"))\n",
    "b = int(input(\"Enter the value of b: \"))\n",
    "print(\"Sum of {} and {} is {}\".format(a, b, a + b))\n",
    "# Sum of 10 and 20 is 30."
   ]
  },
  {
   "cell_type": "code",
   "execution_count": 43,
   "id": "9ea746bb",
   "metadata": {},
   "outputs": [
    {
     "name": "stdout",
     "output_type": "stream",
     "text": [
      "Enter the value of a: 10\n",
      "Enter the value of b: 20\n",
      "Sum of 10 and 20 is 30\n"
     ]
    }
   ],
   "source": [
    "# Using f\"\" strings\n",
    "a = int(input(\"Enter the value of a: \"))\n",
    "b = int(input(\"Enter the value of b: \"))\n",
    "print(f\"Sum of {a} and {b} is {a + b}\")\n",
    "# Sum of 10 and 20 is 30."
   ]
  },
  {
   "cell_type": "code",
   "execution_count": 34,
   "id": "f1d9750a",
   "metadata": {},
   "outputs": [
    {
     "name": "stdout",
     "output_type": "stream",
     "text": [
      "10 20 30 40\n"
     ]
    }
   ],
   "source": [
    "print(10, 20, 30, 40)"
   ]
  },
  {
   "cell_type": "code",
   "execution_count": 35,
   "id": "bbe6b279",
   "metadata": {},
   "outputs": [
    {
     "name": "stdout",
     "output_type": "stream",
     "text": [
      "10-20-30-40\n"
     ]
    }
   ],
   "source": [
    "print(10, 20, 30, 40, sep='-')"
   ]
  },
  {
   "cell_type": "code",
   "execution_count": 36,
   "id": "c6ea5a63",
   "metadata": {},
   "outputs": [
    {
     "name": "stdout",
     "output_type": "stream",
     "text": [
      "10pavan20pavan30pavan40\n"
     ]
    }
   ],
   "source": [
    "print(10, 20, 30, 40, sep='pavan')"
   ]
  },
  {
   "cell_type": "code",
   "execution_count": 46,
   "id": "282d7078",
   "metadata": {},
   "outputs": [
    {
     "name": "stdout",
     "output_type": "stream",
     "text": [
      "3.33\n"
     ]
    }
   ],
   "source": [
    "a = 10\n",
    "b = 3\n",
    "c = 10 / 3\n",
    "print(\"%.2f\"%c)"
   ]
  },
  {
   "cell_type": "markdown",
   "id": "136fe207",
   "metadata": {},
   "source": [
    "# Adjusting digits after point in floating point values"
   ]
  },
  {
   "cell_type": "code",
   "execution_count": 48,
   "id": "de8e86d3",
   "metadata": {},
   "outputs": [
    {
     "name": "stdout",
     "output_type": "stream",
     "text": [
      "3.3333\n"
     ]
    }
   ],
   "source": [
    "a = 10\n",
    "b = 3\n",
    "c = 10 / 3\n",
    "print(\"{:.4f}\".format(c))"
   ]
  },
  {
   "cell_type": "code",
   "execution_count": 49,
   "id": "59fdae20",
   "metadata": {},
   "outputs": [
    {
     "name": "stdout",
     "output_type": "stream",
     "text": [
      "3.3333\n"
     ]
    }
   ],
   "source": [
    "a = 10\n",
    "b = 3\n",
    "c = 10 / 3\n",
    "print(f\"{c:.4f}\")"
   ]
  },
  {
   "cell_type": "markdown",
   "id": "274cba67",
   "metadata": {},
   "source": [
    "# Programs"
   ]
  },
  {
   "cell_type": "code",
   "execution_count": 51,
   "id": "1b71a3a8",
   "metadata": {},
   "outputs": [
    {
     "name": "stdout",
     "output_type": "stream",
     "text": [
      "77\n",
      "195.58\n"
     ]
    }
   ],
   "source": [
    "# inches to centimeters\n",
    "inches = int(input())\n",
    "print(\"%.2f\"%(inches * 2.54))"
   ]
  },
  {
   "cell_type": "code",
   "execution_count": 53,
   "id": "8f219cff",
   "metadata": {},
   "outputs": [
    {
     "name": "stdout",
     "output_type": "stream",
     "text": [
      "15\n",
      "20\n",
      "30\n",
      "9000 KB\n"
     ]
    }
   ],
   "source": [
    "# capacity\n",
    "t = int(input())\n",
    "s = int(input())\n",
    "b = int(input())\n",
    "cap = t * s * b\n",
    "print(\"%d KB\"%cap)"
   ]
  },
  {
   "cell_type": "code",
   "execution_count": 54,
   "id": "702ea5f0",
   "metadata": {},
   "outputs": [
    {
     "name": "stdout",
     "output_type": "stream",
     "text": [
      "15\n",
      "20\n",
      "30\n",
      "9000 KB\n"
     ]
    }
   ],
   "source": [
    "# capacity\n",
    "t = int(input())\n",
    "s = int(input())\n",
    "b = int(input())\n",
    "cap = t * s * b\n",
    "print(\"{} KB\".format(cap))"
   ]
  },
  {
   "cell_type": "code",
   "execution_count": 55,
   "id": "1ea5eab3",
   "metadata": {},
   "outputs": [
    {
     "name": "stdout",
     "output_type": "stream",
     "text": [
      "12 13\n",
      "Average of 12 and 13 is: 12.50\n"
     ]
    }
   ],
   "source": [
    "# average of two numbers\n",
    "a, b = map(int, input().split())\n",
    "c = (a + b) / 2\n",
    "print(\"Average of {} and {} is: {:.2f}\".format(a, b, c))"
   ]
  }
 ],
 "metadata": {
  "gist": {
   "data": {
    "description": "Untitled64.ipynb",
    "public": false
   },
   "id": ""
  },
  "kernelspec": {
   "display_name": "Python 3 (ipykernel)",
   "language": "python",
   "name": "python3"
  },
  "language_info": {
   "codemirror_mode": {
    "name": "ipython",
    "version": 3
   },
   "file_extension": ".py",
   "mimetype": "text/x-python",
   "name": "python",
   "nbconvert_exporter": "python",
   "pygments_lexer": "ipython3",
   "version": "3.10.4"
  },
  "latex_envs": {
   "LaTeX_envs_menu_present": true,
   "autoclose": false,
   "autocomplete": true,
   "bibliofile": "biblio.bib",
   "cite_by": "apalike",
   "current_citInitial": 1,
   "eqLabelWithNumbers": true,
   "eqNumInitial": 1,
   "hotkeys": {
    "equation": "Ctrl-E",
    "itemize": "Ctrl-I"
   },
   "labels_anchors": false,
   "latex_user_defs": false,
   "report_style_numbering": false,
   "user_envs_cfg": false
  },
  "toc": {
   "base_numbering": 1,
   "nav_menu": {},
   "number_sections": true,
   "sideBar": true,
   "skip_h1_title": false,
   "title_cell": "Table of Contents",
   "title_sidebar": "Contents",
   "toc_cell": false,
   "toc_position": {},
   "toc_section_display": true,
   "toc_window_display": false
  }
 },
 "nbformat": 4,
 "nbformat_minor": 5
}
