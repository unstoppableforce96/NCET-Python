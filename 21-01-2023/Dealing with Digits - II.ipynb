{
 "cells": [
  {
   "cell_type": "markdown",
   "id": "b41b4415",
   "metadata": {},
   "source": [
    "# Dealing with Digits - II"
   ]
  },
  {
   "cell_type": "code",
   "execution_count": 6,
   "id": "dcd777a1",
   "metadata": {},
   "outputs": [
    {
     "name": "stdout",
     "output_type": "stream",
     "text": [
      "18\n"
     ]
    }
   ],
   "source": [
    "num = 12456\n",
    "s = 0\n",
    "for i in str(num):\n",
    "    s += int(i)\n",
    "print(s)"
   ]
  },
  {
   "cell_type": "code",
   "execution_count": 7,
   "id": "058af657",
   "metadata": {},
   "outputs": [
    {
     "data": {
      "text/plain": [
       "6"
      ]
     },
     "execution_count": 7,
     "metadata": {},
     "output_type": "execute_result"
    }
   ],
   "source": [
    "12456%10"
   ]
  },
  {
   "cell_type": "code",
   "execution_count": 9,
   "id": "97726cf5",
   "metadata": {},
   "outputs": [
    {
     "data": {
      "text/plain": [
       "1245"
      ]
     },
     "execution_count": 9,
     "metadata": {},
     "output_type": "execute_result"
    }
   ],
   "source": [
    "12456//10"
   ]
  },
  {
   "cell_type": "code",
   "execution_count": 10,
   "id": "6f75fa11",
   "metadata": {},
   "outputs": [
    {
     "data": {
      "text/plain": [
       "124"
      ]
     },
     "execution_count": 10,
     "metadata": {},
     "output_type": "execute_result"
    }
   ],
   "source": [
    "1245//10"
   ]
  },
  {
   "cell_type": "code",
   "execution_count": 11,
   "id": "4a92085a",
   "metadata": {},
   "outputs": [
    {
     "data": {
      "text/plain": [
       "12"
      ]
     },
     "execution_count": 11,
     "metadata": {},
     "output_type": "execute_result"
    }
   ],
   "source": [
    "124//10"
   ]
  },
  {
   "cell_type": "code",
   "execution_count": 12,
   "id": "e36a5796",
   "metadata": {},
   "outputs": [
    {
     "data": {
      "text/plain": [
       "2"
      ]
     },
     "execution_count": 12,
     "metadata": {},
     "output_type": "execute_result"
    }
   ],
   "source": [
    "12%10"
   ]
  },
  {
   "cell_type": "code",
   "execution_count": 13,
   "id": "9416c769",
   "metadata": {},
   "outputs": [
    {
     "data": {
      "text/plain": [
       "1"
      ]
     },
     "execution_count": 13,
     "metadata": {},
     "output_type": "execute_result"
    }
   ],
   "source": [
    "12//10"
   ]
  },
  {
   "cell_type": "code",
   "execution_count": 14,
   "id": "7998526f",
   "metadata": {},
   "outputs": [
    {
     "data": {
      "text/plain": [
       "1"
      ]
     },
     "execution_count": 14,
     "metadata": {},
     "output_type": "execute_result"
    }
   ],
   "source": [
    "1%10"
   ]
  },
  {
   "cell_type": "code",
   "execution_count": 15,
   "id": "63d119a5",
   "metadata": {},
   "outputs": [
    {
     "data": {
      "text/plain": [
       "0"
      ]
     },
     "execution_count": 15,
     "metadata": {},
     "output_type": "execute_result"
    }
   ],
   "source": [
    "1//10"
   ]
  },
  {
   "cell_type": "code",
   "execution_count": 16,
   "id": "c4bf237a",
   "metadata": {},
   "outputs": [
    {
     "name": "stdout",
     "output_type": "stream",
     "text": [
      "12478\n",
      "8\n",
      "7\n",
      "4\n",
      "2\n",
      "1\n"
     ]
    }
   ],
   "source": [
    "n = int(input()) # 12478\n",
    "d = n\n",
    "while n > 0: # n = 0 > 0\n",
    "    r = n % 10 # r = n % 10 --> 1247 % 10 --> 7\n",
    "    print(r) # 8\n",
    "    n = n // 10 # n = 12478 // 10 --> 0"
   ]
  },
  {
   "cell_type": "code",
   "execution_count": 18,
   "id": "6cb62bc7",
   "metadata": {},
   "outputs": [
    {
     "name": "stdout",
     "output_type": "stream",
     "text": [
      "124\n",
      "7\n"
     ]
    }
   ],
   "source": [
    "# sum of the digits\n",
    "n = int(input()) \n",
    "s = 0\n",
    "while n > 0: \n",
    "    r = n % 10 \n",
    "    s += r\n",
    "    n = n // 10 \n",
    "print(s)"
   ]
  },
  {
   "cell_type": "code",
   "execution_count": 23,
   "id": "657a100f",
   "metadata": {},
   "outputs": [
    {
     "name": "stdout",
     "output_type": "stream",
     "text": [
      "1234\n",
      "Mixed\n"
     ]
    }
   ],
   "source": [
    "n = int(input())\n",
    "edc = odc = 0\n",
    "while n > 0:\n",
    "    r = n % 10\n",
    "    if r % 2 == 0:\n",
    "        edc += 1\n",
    "    else:\n",
    "        odc += 1\n",
    "    n = n // 10\n",
    "if edc == 0:\n",
    "    print(\"Odd\")\n",
    "elif odc == 0:\n",
    "    print(\"Even\")\n",
    "else:\n",
    "    print(\"Mixed\")"
   ]
  },
  {
   "cell_type": "code",
   "execution_count": 27,
   "id": "c9380afe",
   "metadata": {},
   "outputs": [
    {
     "name": "stdout",
     "output_type": "stream",
     "text": [
      "199\n",
      "1\n"
     ]
    }
   ],
   "source": [
    "n = int(input())\n",
    "s = 0\n",
    "while n > 0:\n",
    "    r = n % 10\n",
    "    s += r\n",
    "    n = n // 10\n",
    "    if n == 0 and s > 9:\n",
    "        n = s\n",
    "        s = 0\n",
    "print(s)"
   ]
  },
  {
   "cell_type": "markdown",
   "id": "27976d24",
   "metadata": {},
   "source": [
    "# Reverse  a given number"
   ]
  },
  {
   "cell_type": "code",
   "execution_count": 31,
   "id": "ba04c693",
   "metadata": {},
   "outputs": [
    {
     "name": "stdout",
     "output_type": "stream",
     "text": [
      "4321\n"
     ]
    }
   ],
   "source": [
    "a = 1234\n",
    "r = int(str(a)[::-1])\n",
    "print(r)"
   ]
  },
  {
   "cell_type": "code",
   "execution_count": 34,
   "id": "20ff8222",
   "metadata": {},
   "outputs": [
    {
     "name": "stdout",
     "output_type": "stream",
     "text": [
      "1234\n",
      "4321\n",
      "0\n"
     ]
    }
   ],
   "source": [
    "n = int(input()) # 1234\n",
    "x = 0 \n",
    "while n > 0: # 0 > 0\n",
    "    r = n % 10 # r = 1\n",
    "    x = x * 10 + r # x = 4321\n",
    "    n = n // 10 # 0\n",
    "print(x)\n",
    "print(n)"
   ]
  },
  {
   "cell_type": "markdown",
   "id": "4e470e14",
   "metadata": {},
   "source": [
    "# Palindrome Number"
   ]
  },
  {
   "cell_type": "code",
   "execution_count": 41,
   "id": "da1f5842",
   "metadata": {},
   "outputs": [
    {
     "name": "stdout",
     "output_type": "stream",
     "text": [
      "12321\n",
      "Palindrome\n"
     ]
    }
   ],
   "source": [
    "n = int(input()) # 1234\n",
    "t = n\n",
    "rev = 0\n",
    "while n > 0: # 0 > 0\n",
    "    r = n % 10 # r = 1\n",
    "    rev = rev * 10 + r # x = 4321\n",
    "    n = n // 10 # 0\n",
    "\n",
    "if rev == t:\n",
    "    print(\"Palindrome\")\n",
    "else:\n",
    "    print(\"Not a palindrome\")"
   ]
  },
  {
   "cell_type": "code",
   "execution_count": 47,
   "id": "f7973327",
   "metadata": {},
   "outputs": [
    {
     "name": "stdout",
     "output_type": "stream",
     "text": [
      "9\n",
      "False\n"
     ]
    }
   ],
   "source": [
    "n = int(input())\n",
    "sq = n * n\n",
    "rev = 0\n",
    "while n:\n",
    "    r = n % 10\n",
    "    rev = rev * 10 + r\n",
    "    n = n // 10\n",
    "x = rev * rev\n",
    "y = 0\n",
    "while x:\n",
    "    r = x % 10\n",
    "    y = y * 10 + r\n",
    "    x = x // 10\n",
    "if sq == y:\n",
    "    print(\"True\")\n",
    "else:\n",
    "    print(\"False\")"
   ]
  },
  {
   "cell_type": "code",
   "execution_count": 48,
   "id": "8eb6aab6",
   "metadata": {},
   "outputs": [
    {
     "name": "stdout",
     "output_type": "stream",
     "text": [
      "1 2 3 4 5 6 7 8 9 \n",
      "The loop is terminated normally\n"
     ]
    }
   ],
   "source": [
    "for i in range(1, 10):\n",
    "    print(i, end = ' ')\n",
    "else:\n",
    "    print('\\nThe loop is terminated normally')"
   ]
  },
  {
   "cell_type": "code",
   "execution_count": 49,
   "id": "f16994cc",
   "metadata": {},
   "outputs": [
    {
     "name": "stdout",
     "output_type": "stream",
     "text": [
      "1 2 3 4 "
     ]
    }
   ],
   "source": [
    "for i in range(1, 10):\n",
    "    if i == 5:\n",
    "        break\n",
    "    print(i, end = ' ')\n",
    "else:\n",
    "    print('\\nThe loop is terminated normally')"
   ]
  },
  {
   "cell_type": "code",
   "execution_count": null,
   "id": "9f81b7fa",
   "metadata": {},
   "outputs": [],
   "source": [
    "# Escape the use of flag variables\n",
    "# you can start from 2 sqrt(n)\n",
    "# if find no factors at all you can say the number is prime\n",
    "# if you found at leat one factor it's not prime\n"
   ]
  },
  {
   "cell_type": "code",
   "execution_count": null,
   "id": "c3e8b61d",
   "metadata": {},
   "outputs": [],
   "source": [
    "2 sqrt(17)\n",
    "2 3 4"
   ]
  },
  {
   "cell_type": "code",
   "execution_count": 53,
   "id": "4fc4669a",
   "metadata": {},
   "outputs": [
    {
     "name": "stdout",
     "output_type": "stream",
     "text": [
      "15\n",
      "not prime\n"
     ]
    }
   ],
   "source": [
    "n = int(input())\n",
    "is_prime = True\n",
    "for i in range(2, int(n**0.5) + 1):\n",
    "    if n % i == 0:\n",
    "        is_prime = False\n",
    "        break\n",
    "if is_prime and n != 1:\n",
    "    print(\"prime\")\n",
    "else:\n",
    "    print(\"not prime\")"
   ]
  },
  {
   "cell_type": "code",
   "execution_count": 55,
   "id": "a33031f5",
   "metadata": {},
   "outputs": [
    {
     "name": "stdout",
     "output_type": "stream",
     "text": [
      "15\n",
      "not prime\n"
     ]
    }
   ],
   "source": [
    "n = int(input())\n",
    "for i in range(2, int(n**0.5) + 1):\n",
    "    if n % i == 0:\n",
    "        print(\"not prime\")\n",
    "        break\n",
    "else:\n",
    "    print(\"prime\")"
   ]
  },
  {
   "cell_type": "code",
   "execution_count": 58,
   "id": "dea63625",
   "metadata": {},
   "outputs": [
    {
     "name": "stdout",
     "output_type": "stream",
     "text": [
      "1 2 3 4 5 6 7 "
     ]
    }
   ],
   "source": [
    "i = 1\n",
    "while i <= 10:\n",
    "    print(i, end = ' ')\n",
    "    if i == 7:\n",
    "        break\n",
    "    i += 1\n",
    "else:\n",
    "    print(\"\\nThe loop is over\")"
   ]
  }
 ],
 "metadata": {
  "kernelspec": {
   "display_name": "Python 3 (ipykernel)",
   "language": "python",
   "name": "python3"
  },
  "language_info": {
   "codemirror_mode": {
    "name": "ipython",
    "version": 3
   },
   "file_extension": ".py",
   "mimetype": "text/x-python",
   "name": "python",
   "nbconvert_exporter": "python",
   "pygments_lexer": "ipython3",
   "version": "3.10.4"
  },
  "latex_envs": {
   "LaTeX_envs_menu_present": true,
   "autoclose": false,
   "autocomplete": true,
   "bibliofile": "biblio.bib",
   "cite_by": "apalike",
   "current_citInitial": 1,
   "eqLabelWithNumbers": true,
   "eqNumInitial": 1,
   "hotkeys": {
    "equation": "Ctrl-E",
    "itemize": "Ctrl-I"
   },
   "labels_anchors": false,
   "latex_user_defs": false,
   "report_style_numbering": false,
   "user_envs_cfg": false
  },
  "toc": {
   "base_numbering": 1,
   "nav_menu": {},
   "number_sections": true,
   "sideBar": true,
   "skip_h1_title": false,
   "title_cell": "Table of Contents",
   "title_sidebar": "Contents",
   "toc_cell": false,
   "toc_position": {},
   "toc_section_display": true,
   "toc_window_display": false
  }
 },
 "nbformat": 4,
 "nbformat_minor": 5
}
