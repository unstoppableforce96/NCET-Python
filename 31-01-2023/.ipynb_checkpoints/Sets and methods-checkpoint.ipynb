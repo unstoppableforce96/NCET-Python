{
 "cells": [
  {
   "cell_type": "markdown",
   "id": "ddc622e2",
   "metadata": {},
   "source": [
    "# str.split()\n",
    "- Split the given string based on the given delimiter\n",
    "- The delimiter can be any string\n",
    "- Split() always returns a list as output"
   ]
  },
  {
   "cell_type": "code",
   "execution_count": 7,
   "id": "91e10385",
   "metadata": {},
   "outputs": [
    {
     "name": "stdout",
     "output_type": "stream",
     "text": [
      "10 20 30\n",
      "60\n"
     ]
    }
   ],
   "source": [
    "a, b, c = map(int, input().split())\n",
    "print(a + b + c)"
   ]
  },
  {
   "cell_type": "code",
   "execution_count": 8,
   "id": "bcca1118",
   "metadata": {},
   "outputs": [
    {
     "name": "stdout",
     "output_type": "stream",
     "text": [
      "10 20 30\n",
      "[10, 20, 30]\n"
     ]
    }
   ],
   "source": [
    "lst = list(map(int, input().split()))\n",
    "print(lst)"
   ]
  },
  {
   "cell_type": "code",
   "execution_count": 9,
   "id": "f883ce32",
   "metadata": {},
   "outputs": [
    {
     "name": "stdout",
     "output_type": "stream",
     "text": [
      "['10', '20', '30']\n"
     ]
    }
   ],
   "source": [
    "s = '10 20 30'\n",
    "print(s.split()) # delimiter = space by default"
   ]
  },
  {
   "cell_type": "code",
   "execution_count": null,
   "id": "223728a3",
   "metadata": {},
   "outputs": [],
   "source": [
    "10, 20, 30, 40"
   ]
  },
  {
   "cell_type": "code",
   "execution_count": 17,
   "id": "84be3f18",
   "metadata": {},
   "outputs": [
    {
     "name": "stdout",
     "output_type": "stream",
     "text": [
      "10, 20, 30\n",
      "[10, 20, 30]\n"
     ]
    }
   ],
   "source": [
    "lst = list(map(int, input().split(', ')))\n",
    "print(lst)"
   ]
  },
  {
   "cell_type": "code",
   "execution_count": 13,
   "id": "9ee66c99",
   "metadata": {},
   "outputs": [
    {
     "name": "stdout",
     "output_type": "stream",
     "text": [
      "['10,', '20,', '30']\n"
     ]
    }
   ],
   "source": [
    "s = '10, 20, 30'\n",
    "print(s.split())"
   ]
  },
  {
   "cell_type": "code",
   "execution_count": 15,
   "id": "6abebddc",
   "metadata": {},
   "outputs": [
    {
     "ename": "ValueError",
     "evalue": "invalid literal for int() with base 10: '10,'",
     "output_type": "error",
     "traceback": [
      "\u001b[1;31m---------------------------------------------------------------------------\u001b[0m",
      "\u001b[1;31mValueError\u001b[0m                                Traceback (most recent call last)",
      "\u001b[1;32m~\\AppData\\Local\\Temp\\ipykernel_21320\\4041501396.py\u001b[0m in \u001b[0;36m<cell line: 1>\u001b[1;34m()\u001b[0m\n\u001b[1;32m----> 1\u001b[1;33m \u001b[0mint\u001b[0m\u001b[1;33m(\u001b[0m\u001b[1;34m'10,'\u001b[0m\u001b[1;33m)\u001b[0m\u001b[1;33m\u001b[0m\u001b[1;33m\u001b[0m\u001b[0m\n\u001b[0m",
      "\u001b[1;31mValueError\u001b[0m: invalid literal for int() with base 10: '10,'"
     ]
    }
   ],
   "source": [
    "int('10,')"
   ]
  },
  {
   "cell_type": "code",
   "execution_count": 19,
   "id": "d578d1ab",
   "metadata": {},
   "outputs": [
    {
     "name": "stdout",
     "output_type": "stream",
     "text": [
      "4:15:57\n",
      "Hours4\n",
      "Minutes15\n",
      "Seconds57\n"
     ]
    }
   ],
   "source": [
    "# H:M:S = 4:15:57\n",
    "H, M, S = map(int, input().split(\":\"))\n",
    "print(f'Hours{H}\\nMinutes{M}\\nSeconds{S}')"
   ]
  },
  {
   "cell_type": "code",
   "execution_count": 20,
   "id": "267793c5",
   "metadata": {},
   "outputs": [
    {
     "name": "stdout",
     "output_type": "stream",
     "text": [
      "['this', 'is', 'python']\n"
     ]
    }
   ],
   "source": [
    "s = 'this is python'\n",
    "words = s.split() # returns a list\n",
    "print(words)"
   ]
  },
  {
   "cell_type": "code",
   "execution_count": 21,
   "id": "79619874",
   "metadata": {},
   "outputs": [
    {
     "name": "stdout",
     "output_type": "stream",
     "text": [
      "['th', ' ', ' python']\n"
     ]
    }
   ],
   "source": [
    "s = 'this is python'\n",
    "words = s.split('is') # returns a list\n",
    "['th', ' ', ' python']\n",
    "print(words)"
   ]
  },
  {
   "cell_type": "code",
   "execution_count": 28,
   "id": "bc6f0957",
   "metadata": {},
   "outputs": [
    {
     "name": "stdout",
     "output_type": "stream",
     "text": [
      "['this', 'is', 'python']\n",
      "[1, 1, 1]\n"
     ]
    }
   ],
   "source": [
    "def count_vowels(string: str) -> int:\n",
    "    # returns the count of vowels in the string\n",
    "    cnt = 0\n",
    "    for i in string:\n",
    "        if i in 'aeiouAEIOU':\n",
    "            cnt += 1\n",
    "    return cnt\n",
    "\n",
    "s = 'this is python'\n",
    "# How many vowels are present in each word\n",
    "words = s.split()\n",
    "print(words)\n",
    "vowels_count = [count_vowels(word) for word in words]\n",
    "print(vowels_count)"
   ]
  },
  {
   "cell_type": "code",
   "execution_count": 29,
   "id": "0ad88efc",
   "metadata": {},
   "outputs": [
    {
     "name": "stdout",
     "output_type": "stream",
     "text": [
      "['python']\n"
     ]
    }
   ],
   "source": [
    "s = 'python'\n",
    "words = s.split(' ')\n",
    "print(words)"
   ]
  },
  {
   "cell_type": "markdown",
   "id": "8cb6398d",
   "metadata": {},
   "source": [
    "# str.join()\n",
    "- Joint string.join(iterable) # an iterable of strings"
   ]
  },
  {
   "cell_type": "code",
   "execution_count": 34,
   "id": "2954c106",
   "metadata": {},
   "outputs": [
    {
     "name": "stdout",
     "output_type": "stream",
     "text": [
      "this is python\n"
     ]
    }
   ],
   "source": [
    "words = ['this', 'is', 'python']\n",
    "sentence = ' '.join(words)\n",
    "print(sentence)"
   ]
  },
  {
   "cell_type": "code",
   "execution_count": 35,
   "id": "5839a159",
   "metadata": {},
   "outputs": [
    {
     "ename": "TypeError",
     "evalue": "sequence item 0: expected str instance, int found",
     "output_type": "error",
     "traceback": [
      "\u001b[1;31m---------------------------------------------------------------------------\u001b[0m",
      "\u001b[1;31mTypeError\u001b[0m                                 Traceback (most recent call last)",
      "\u001b[1;32m~\\AppData\\Local\\Temp\\ipykernel_21320\\1872902486.py\u001b[0m in \u001b[0;36m<cell line: 2>\u001b[1;34m()\u001b[0m\n\u001b[0;32m      1\u001b[0m \u001b[0mlst_nums\u001b[0m \u001b[1;33m=\u001b[0m \u001b[1;33m[\u001b[0m\u001b[1;36m10\u001b[0m\u001b[1;33m,\u001b[0m \u001b[1;36m20\u001b[0m\u001b[1;33m,\u001b[0m \u001b[1;36m30\u001b[0m\u001b[1;33m]\u001b[0m\u001b[1;33m\u001b[0m\u001b[1;33m\u001b[0m\u001b[0m\n\u001b[1;32m----> 2\u001b[1;33m \u001b[0mprint\u001b[0m\u001b[1;33m(\u001b[0m\u001b[1;34m''\u001b[0m\u001b[1;33m.\u001b[0m\u001b[0mjoin\u001b[0m\u001b[1;33m(\u001b[0m\u001b[0mlst_nums\u001b[0m\u001b[1;33m)\u001b[0m\u001b[1;33m)\u001b[0m\u001b[1;33m\u001b[0m\u001b[1;33m\u001b[0m\u001b[0m\n\u001b[0m",
      "\u001b[1;31mTypeError\u001b[0m: sequence item 0: expected str instance, int found"
     ]
    }
   ],
   "source": [
    "lst_nums = [10, 20, 30]\n",
    "print(''.join(lst_nums))"
   ]
  },
  {
   "cell_type": "markdown",
   "id": "1c6fbeb0",
   "metadata": {},
   "source": [
    "# sets\n",
    "- Set is an unordered collection of immutable elements which are unique\n",
    "- List of sets --> \n",
    "- Set of lists --> Doesn't work because lists are mutable\n",
    "- Set of strings --> Because strings are immutable\n",
    "- Sets will never hold a duplicate value\n",
    "- We cannot subscript a set using indexes\n",
    "- We can create an empty set using set() function"
   ]
  },
  {
   "cell_type": "code",
   "execution_count": 36,
   "id": "f6b7b324",
   "metadata": {},
   "outputs": [
    {
     "name": "stdout",
     "output_type": "stream",
     "text": [
      "[10, 20, 30, 30, 20, 10]\n"
     ]
    }
   ],
   "source": [
    "lst = [10, 20, 30, 30, 20, 10]\n",
    "print(lst)"
   ]
  },
  {
   "cell_type": "code",
   "execution_count": 37,
   "id": "b97c86a2",
   "metadata": {},
   "outputs": [
    {
     "name": "stdout",
     "output_type": "stream",
     "text": [
      "{50, 20, 40, 10, 30}\n"
     ]
    }
   ],
   "source": [
    "s = {10, 20, 30, 30, 20, 10, 40, 40, 50, 50}\n",
    "print(s)"
   ]
  },
  {
   "cell_type": "code",
   "execution_count": 38,
   "id": "8717c39e",
   "metadata": {},
   "outputs": [
    {
     "name": "stdout",
     "output_type": "stream",
     "text": [
      "{'b', 'c', 'd', 'a'}\n"
     ]
    }
   ],
   "source": [
    "s = {'a', 'b', 'b', 'a', 'c', 'c', 'd'}\n",
    "print(s)"
   ]
  },
  {
   "cell_type": "code",
   "execution_count": 39,
   "id": "e434535a",
   "metadata": {},
   "outputs": [
    {
     "ename": "TypeError",
     "evalue": "unhashable type: 'list'",
     "output_type": "error",
     "traceback": [
      "\u001b[1;31m---------------------------------------------------------------------------\u001b[0m",
      "\u001b[1;31mTypeError\u001b[0m                                 Traceback (most recent call last)",
      "\u001b[1;32m~\\AppData\\Local\\Temp\\ipykernel_21320\\140942372.py\u001b[0m in \u001b[0;36m<cell line: 1>\u001b[1;34m()\u001b[0m\n\u001b[1;32m----> 1\u001b[1;33m \u001b[0ms\u001b[0m \u001b[1;33m=\u001b[0m \u001b[1;33m{\u001b[0m\u001b[1;33m[\u001b[0m\u001b[1;36m10\u001b[0m\u001b[1;33m,\u001b[0m \u001b[1;36m20\u001b[0m\u001b[1;33m]\u001b[0m\u001b[1;33m,\u001b[0m \u001b[1;33m[\u001b[0m\u001b[1;36m20\u001b[0m\u001b[1;33m,\u001b[0m \u001b[1;36m10\u001b[0m\u001b[1;33m]\u001b[0m\u001b[1;33m,\u001b[0m \u001b[1;33m[\u001b[0m\u001b[1;36m10\u001b[0m\u001b[1;33m,\u001b[0m \u001b[1;36m20\u001b[0m\u001b[1;33m]\u001b[0m\u001b[1;33m}\u001b[0m\u001b[1;33m\u001b[0m\u001b[1;33m\u001b[0m\u001b[0m\n\u001b[0m\u001b[0;32m      2\u001b[0m \u001b[0mprint\u001b[0m\u001b[1;33m(\u001b[0m\u001b[0ms\u001b[0m\u001b[1;33m)\u001b[0m\u001b[1;33m\u001b[0m\u001b[1;33m\u001b[0m\u001b[0m\n",
      "\u001b[1;31mTypeError\u001b[0m: unhashable type: 'list'"
     ]
    }
   ],
   "source": [
    "s = {[10, 20], [20, 10], [10, 20]}\n",
    "print(s)"
   ]
  },
  {
   "cell_type": "code",
   "execution_count": 40,
   "id": "f19ae83d",
   "metadata": {},
   "outputs": [
    {
     "ename": "TypeError",
     "evalue": "unhashable type: 'set'",
     "output_type": "error",
     "traceback": [
      "\u001b[1;31m---------------------------------------------------------------------------\u001b[0m",
      "\u001b[1;31mTypeError\u001b[0m                                 Traceback (most recent call last)",
      "\u001b[1;32m~\\AppData\\Local\\Temp\\ipykernel_21320\\3666460485.py\u001b[0m in \u001b[0;36m<cell line: 1>\u001b[1;34m()\u001b[0m\n\u001b[1;32m----> 1\u001b[1;33m \u001b[0ms\u001b[0m \u001b[1;33m=\u001b[0m \u001b[1;33m{\u001b[0m\u001b[1;33m{\u001b[0m\u001b[1;36m10\u001b[0m\u001b[1;33m,\u001b[0m \u001b[1;36m20\u001b[0m\u001b[1;33m,\u001b[0m \u001b[1;36m10\u001b[0m\u001b[1;33m}\u001b[0m\u001b[1;33m,\u001b[0m \u001b[1;33m{\u001b[0m\u001b[1;36m20\u001b[0m\u001b[1;33m,\u001b[0m \u001b[1;36m10\u001b[0m\u001b[1;33m,\u001b[0m \u001b[1;36m10\u001b[0m\u001b[1;33m}\u001b[0m\u001b[1;33m,\u001b[0m \u001b[1;33m{\u001b[0m\u001b[1;36m20\u001b[0m\u001b[1;33m,\u001b[0m \u001b[1;36m20\u001b[0m\u001b[1;33m,\u001b[0m \u001b[1;36m20\u001b[0m\u001b[1;33m}\u001b[0m\u001b[1;33m}\u001b[0m\u001b[1;33m\u001b[0m\u001b[1;33m\u001b[0m\u001b[0m\n\u001b[0m",
      "\u001b[1;31mTypeError\u001b[0m: unhashable type: 'set'"
     ]
    }
   ],
   "source": [
    "s = {{10, 20, 10}, {20, 10, 10}, {20, 20, 20}}"
   ]
  },
  {
   "cell_type": "code",
   "execution_count": 41,
   "id": "5bab0e96",
   "metadata": {},
   "outputs": [
    {
     "name": "stdout",
     "output_type": "stream",
     "text": [
      "{(10, 20), (20, 10)}\n"
     ]
    }
   ],
   "source": [
    "s = {(10, 20), (20, 10), (10, 20)}\n",
    "print(s)"
   ]
  },
  {
   "cell_type": "code",
   "execution_count": null,
   "id": "b68e1b0b",
   "metadata": {},
   "outputs": [],
   "source": [
    "# union\n",
    "# intersection\n",
    "# difference\n",
    "# update\n",
    "# intersection_update\n",
    "# difference_update\n",
    "# symmetric_difference\n",
    "# symmetric_difference_upate"
   ]
  },
  {
   "cell_type": "code",
   "execution_count": 42,
   "id": "09dd9caf",
   "metadata": {},
   "outputs": [
    {
     "name": "stdout",
     "output_type": "stream",
     "text": [
      "{20, 40, 10, 30}\n"
     ]
    }
   ],
   "source": [
    "s1 = {10, 20, 30}\n",
    "s2 = {20, 30, 40}\n",
    "s3 = s1.union(s2) # s2.union(s1)\n",
    "print(s3)"
   ]
  },
  {
   "cell_type": "code",
   "execution_count": 44,
   "id": "6b71f7d5",
   "metadata": {},
   "outputs": [
    {
     "name": "stdout",
     "output_type": "stream",
     "text": [
      "{20, 30}\n"
     ]
    }
   ],
   "source": [
    "s1 = {10, 20, 30}\n",
    "s2 = {20, 30, 40}\n",
    "s3 = s1.intersection(s2) # s2.intersection(s1)\n",
    "print(s3)"
   ]
  },
  {
   "cell_type": "code",
   "execution_count": 45,
   "id": "56a76f80",
   "metadata": {},
   "outputs": [
    {
     "name": "stdout",
     "output_type": "stream",
     "text": [
      "{10}\n"
     ]
    }
   ],
   "source": [
    "s1 = {10, 20, 30}\n",
    "s2 = {20, 30, 40}\n",
    "s3 = s1.difference(s2) # elements present in s1 but not in s2\n",
    "print(s3)"
   ]
  },
  {
   "cell_type": "code",
   "execution_count": 46,
   "id": "7b1014a1",
   "metadata": {},
   "outputs": [
    {
     "name": "stdout",
     "output_type": "stream",
     "text": [
      "{40}\n"
     ]
    }
   ],
   "source": [
    "s1 = {10, 20, 30}\n",
    "s2 = {20, 30, 40}\n",
    "s3 = s2.difference(s1) # elements present in s2 but not in s1\n",
    "print(s3)"
   ]
  },
  {
   "cell_type": "code",
   "execution_count": 48,
   "id": "1c03b2d7",
   "metadata": {},
   "outputs": [
    {
     "name": "stdout",
     "output_type": "stream",
     "text": [
      "{40, 10}\n",
      "{40, 10}\n"
     ]
    }
   ],
   "source": [
    "# Symmetric Difference\n",
    "# Every element in s1 and s2 except the intersection\n",
    "# symmetric difference (s1.union(s2)).difference((s1.intersection(s2)))\n",
    "s1 = {10, 20, 30}\n",
    "s2 = {20, 30, 40}\n",
    "s3 = s1.symmetric_difference(s2)\n",
    "s4 = (s1.union(s2)).difference((s1.intersection(s2)))\n",
    "print(s3)\n",
    "print(s4)"
   ]
  },
  {
   "cell_type": "code",
   "execution_count": 51,
   "id": "d0d69975",
   "metadata": {},
   "outputs": [
    {
     "name": "stdout",
     "output_type": "stream",
     "text": [
      "{'a', 'h', 's', 'o', ' ', 'i', 'r', 'u', 'l', 't', 'n', 'e'}\n",
      "24\n",
      "12\n"
     ]
    }
   ],
   "source": [
    "string = 'this is tutorial on sets'\n",
    "s = {character for character in string}\n",
    "print(s)\n",
    "print(len(string))\n",
    "print(len(s))"
   ]
  },
  {
   "cell_type": "code",
   "execution_count": null,
   "id": "3a833a44",
   "metadata": {},
   "outputs": [],
   "source": [
    "union --> update\n",
    "intersection --> intersection_update\n",
    "difference --> difference_update\n",
    "symmetric_difference --> symmetric_difference_update"
   ]
  },
  {
   "cell_type": "code",
   "execution_count": 52,
   "id": "10e4c528",
   "metadata": {},
   "outputs": [
    {
     "name": "stdout",
     "output_type": "stream",
     "text": [
      "{20, 40, 10, 30}\n"
     ]
    }
   ],
   "source": [
    "s1 = {10, 20, 30}\n",
    "s2 = {20, 30, 40}\n",
    "s3 = s1.union(s2)\n",
    "print(s3)"
   ]
  },
  {
   "cell_type": "code",
   "execution_count": 56,
   "id": "3482ae57",
   "metadata": {},
   "outputs": [
    {
     "name": "stdout",
     "output_type": "stream",
     "text": [
      "{20, 40, 10, 30}\n"
     ]
    }
   ],
   "source": [
    "s1 = {10, 20, 30}\n",
    "s2 = {20, 30, 40}\n",
    "s1.update(s2)\n",
    "# update updates the set on the left hand side with the result (union)\n",
    "print(s1)"
   ]
  },
  {
   "cell_type": "code",
   "execution_count": 58,
   "id": "d578f322",
   "metadata": {},
   "outputs": [
    {
     "name": "stdout",
     "output_type": "stream",
     "text": [
      "{10, 20, 30}\n",
      "{20, 30}\n"
     ]
    }
   ],
   "source": [
    "s1 = {10, 20, 30}\n",
    "s2 = {20, 30, 40}\n",
    "s2.intersection_update(s1)\n",
    "print(s1)\n",
    "print(s2)"
   ]
  },
  {
   "cell_type": "markdown",
   "id": "afbcd50a",
   "metadata": {},
   "source": [
    "# GCD of two numbers\n",
    "--> 12  \n",
    "--> 18  \n",
    "--> Greatest Common Divisor  \n",
    "--> 12 --> 1 2 3 4 6 12  \n",
    "--> 18 --> 1 2 3 6 9 18  \n",
    "--> CD --> 1 2 3 6  \n",
    "--> GCD --> 6  "
   ]
  },
  {
   "cell_type": "code",
   "execution_count": 64,
   "id": "8856efc7",
   "metadata": {},
   "outputs": [
    {
     "name": "stdout",
     "output_type": "stream",
     "text": [
      "5\n",
      "7\n",
      "1\n"
     ]
    }
   ],
   "source": [
    "a = int(input())\n",
    "b = int(input())\n",
    "factors_a = {i for i in range(1, a + 1) if a % i == 0}\n",
    "factors_b = {i for i in range(1, b + 1) if b % i == 0}\n",
    "common_factors = factors_a.intersection(factors_b)\n",
    "gcd = max(common_factors)\n",
    "print(gcd)"
   ]
  },
  {
   "cell_type": "markdown",
   "id": "b5bad2af",
   "metadata": {},
   "source": [
    "## s.add()"
   ]
  },
  {
   "cell_type": "code",
   "execution_count": 66,
   "id": "24007cc8",
   "metadata": {},
   "outputs": [
    {
     "name": "stdout",
     "output_type": "stream",
     "text": [
      "{40, 10, 50, 20, 30}\n"
     ]
    }
   ],
   "source": [
    "s = {10, 20}\n",
    "s.add(30)\n",
    "s.add(40)\n",
    "s.add(50)\n",
    "print(s)"
   ]
  },
  {
   "cell_type": "code",
   "execution_count": 69,
   "id": "78dafaea",
   "metadata": {},
   "outputs": [
    {
     "name": "stdout",
     "output_type": "stream",
     "text": [
      "{20, 40, 10, 30}\n",
      "{40, 10, 30}\n",
      "{10, 30}\n"
     ]
    }
   ],
   "source": [
    "s = {40, 10, 50, 20, 30}\n",
    "s.pop()\n",
    "print(s)\n",
    "s.pop()\n",
    "print(s)\n",
    "s.pop()\n",
    "print(s)"
   ]
  },
  {
   "cell_type": "code",
   "execution_count": 70,
   "id": "4a482807",
   "metadata": {},
   "outputs": [
    {
     "name": "stdout",
     "output_type": "stream",
     "text": [
      "{50, 20, 10, 30}\n"
     ]
    }
   ],
   "source": [
    "s = {40, 10, 50, 20, 30}\n",
    "s.remove(40)\n",
    "print(s)"
   ]
  },
  {
   "cell_type": "code",
   "execution_count": 71,
   "id": "60549402",
   "metadata": {},
   "outputs": [
    {
     "ename": "KeyError",
     "evalue": "100",
     "output_type": "error",
     "traceback": [
      "\u001b[1;31m---------------------------------------------------------------------------\u001b[0m",
      "\u001b[1;31mKeyError\u001b[0m                                  Traceback (most recent call last)",
      "\u001b[1;32m~\\AppData\\Local\\Temp\\ipykernel_21320\\807592327.py\u001b[0m in \u001b[0;36m<cell line: 2>\u001b[1;34m()\u001b[0m\n\u001b[0;32m      1\u001b[0m \u001b[0ms\u001b[0m \u001b[1;33m=\u001b[0m \u001b[1;33m{\u001b[0m\u001b[1;36m40\u001b[0m\u001b[1;33m,\u001b[0m \u001b[1;36m10\u001b[0m\u001b[1;33m,\u001b[0m \u001b[1;36m50\u001b[0m\u001b[1;33m,\u001b[0m \u001b[1;36m20\u001b[0m\u001b[1;33m,\u001b[0m \u001b[1;36m30\u001b[0m\u001b[1;33m}\u001b[0m\u001b[1;33m\u001b[0m\u001b[1;33m\u001b[0m\u001b[0m\n\u001b[1;32m----> 2\u001b[1;33m \u001b[0ms\u001b[0m\u001b[1;33m.\u001b[0m\u001b[0mremove\u001b[0m\u001b[1;33m(\u001b[0m\u001b[1;36m100\u001b[0m\u001b[1;33m)\u001b[0m\u001b[1;33m\u001b[0m\u001b[1;33m\u001b[0m\u001b[0m\n\u001b[0m\u001b[0;32m      3\u001b[0m \u001b[0mprint\u001b[0m\u001b[1;33m(\u001b[0m\u001b[0ms\u001b[0m\u001b[1;33m)\u001b[0m\u001b[1;33m\u001b[0m\u001b[1;33m\u001b[0m\u001b[0m\n",
      "\u001b[1;31mKeyError\u001b[0m: 100"
     ]
    }
   ],
   "source": [
    "s = {40, 10, 50, 20, 30}\n",
    "s.remove(100)\n",
    "print(s)"
   ]
  },
  {
   "cell_type": "code",
   "execution_count": 74,
   "id": "06b68e30",
   "metadata": {},
   "outputs": [
    {
     "name": "stdout",
     "output_type": "stream",
     "text": [
      "{50, 20, 10, 30}\n"
     ]
    }
   ],
   "source": [
    "s = {40, 10, 50, 20, 30}\n",
    "s.discard(40) # not shows any error if the element is not present\n",
    "print(s)"
   ]
  },
  {
   "cell_type": "code",
   "execution_count": 75,
   "id": "89d75ddd",
   "metadata": {},
   "outputs": [
    {
     "name": "stdout",
     "output_type": "stream",
     "text": [
      "{50, 20, 40, 10, 30}\n"
     ]
    }
   ],
   "source": [
    "s = {40, 10, 50, 20, 30}\n",
    "s.discard(100) # not shows any error if the element is not present\n",
    "print(s)"
   ]
  }
 ],
 "metadata": {
  "kernelspec": {
   "display_name": "Python 3 (ipykernel)",
   "language": "python",
   "name": "python3"
  },
  "language_info": {
   "codemirror_mode": {
    "name": "ipython",
    "version": 3
   },
   "file_extension": ".py",
   "mimetype": "text/x-python",
   "name": "python",
   "nbconvert_exporter": "python",
   "pygments_lexer": "ipython3",
   "version": "3.10.4"
  },
  "latex_envs": {
   "LaTeX_envs_menu_present": true,
   "autoclose": false,
   "autocomplete": true,
   "bibliofile": "biblio.bib",
   "cite_by": "apalike",
   "current_citInitial": 1,
   "eqLabelWithNumbers": true,
   "eqNumInitial": 1,
   "hotkeys": {
    "equation": "Ctrl-E",
    "itemize": "Ctrl-I"
   },
   "labels_anchors": false,
   "latex_user_defs": false,
   "report_style_numbering": false,
   "user_envs_cfg": false
  },
  "toc": {
   "base_numbering": 1,
   "nav_menu": {},
   "number_sections": true,
   "sideBar": true,
   "skip_h1_title": false,
   "title_cell": "Table of Contents",
   "title_sidebar": "Contents",
   "toc_cell": false,
   "toc_position": {},
   "toc_section_display": true,
   "toc_window_display": false
  }
 },
 "nbformat": 4,
 "nbformat_minor": 5
}
