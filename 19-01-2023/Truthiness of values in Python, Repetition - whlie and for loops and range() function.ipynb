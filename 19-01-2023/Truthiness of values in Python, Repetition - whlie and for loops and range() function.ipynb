{
 "cells": [
  {
   "cell_type": "markdown",
   "id": "d73a47ff",
   "metadata": {},
   "source": [
    "# Truthiness of values in Python "
   ]
  },
  {
   "cell_type": "code",
   "execution_count": 1,
   "id": "a7892998",
   "metadata": {},
   "outputs": [
    {
     "name": "stdout",
     "output_type": "stream",
     "text": [
      "No\n"
     ]
    }
   ],
   "source": [
    "if 10 > 20:\n",
    "    print(\"Yes\")\n",
    "else:\n",
    "    print(\"No\")"
   ]
  },
  {
   "cell_type": "code",
   "execution_count": 2,
   "id": "4e984ece",
   "metadata": {},
   "outputs": [
    {
     "data": {
      "text/plain": [
       "False"
      ]
     },
     "execution_count": 2,
     "metadata": {},
     "output_type": "execute_result"
    }
   ],
   "source": [
    "10 > 20"
   ]
  },
  {
   "cell_type": "code",
   "execution_count": 3,
   "id": "35721506",
   "metadata": {},
   "outputs": [
    {
     "name": "stdout",
     "output_type": "stream",
     "text": [
      "Yes\n"
     ]
    }
   ],
   "source": [
    "if 100 > 20:\n",
    "    print(\"Yes\")\n",
    "else:\n",
    "    print(\"No\")"
   ]
  },
  {
   "cell_type": "code",
   "execution_count": 4,
   "id": "b890a2ec",
   "metadata": {},
   "outputs": [
    {
     "data": {
      "text/plain": [
       "True"
      ]
     },
     "execution_count": 4,
     "metadata": {},
     "output_type": "execute_result"
    }
   ],
   "source": [
    "100 > 20"
   ]
  },
  {
   "cell_type": "code",
   "execution_count": 8,
   "id": "380227cf",
   "metadata": {},
   "outputs": [
    {
     "name": "stdout",
     "output_type": "stream",
     "text": [
      "Yes\n"
     ]
    }
   ],
   "source": [
    "if True:\n",
    "    print('Yes')\n",
    "else:\n",
    "    print('No')"
   ]
  },
  {
   "cell_type": "code",
   "execution_count": 79,
   "id": "2a22684c",
   "metadata": {},
   "outputs": [
    {
     "name": "stdout",
     "output_type": "stream",
     "text": [
      "Yes\n"
     ]
    }
   ],
   "source": [
    "if False:\n",
    "    print('No')\n",
    "else:\n",
    "    print('Yes')"
   ]
  },
  {
   "cell_type": "code",
   "execution_count": 9,
   "id": "d5cccd91",
   "metadata": {},
   "outputs": [
    {
     "name": "stdout",
     "output_type": "stream",
     "text": [
      "Yes\n"
     ]
    }
   ],
   "source": [
    "if 147:\n",
    "    print('Yes')\n",
    "else:\n",
    "    print('No')"
   ]
  },
  {
   "cell_type": "code",
   "execution_count": 10,
   "id": "3a775ba9",
   "metadata": {},
   "outputs": [
    {
     "data": {
      "text/plain": [
       "True"
      ]
     },
     "execution_count": 10,
     "metadata": {},
     "output_type": "execute_result"
    }
   ],
   "source": [
    "bool(147)"
   ]
  },
  {
   "cell_type": "code",
   "execution_count": 11,
   "id": "e0171484",
   "metadata": {},
   "outputs": [
    {
     "data": {
      "text/plain": [
       "True"
      ]
     },
     "execution_count": 11,
     "metadata": {},
     "output_type": "execute_result"
    }
   ],
   "source": [
    "bool(-147)"
   ]
  },
  {
   "cell_type": "code",
   "execution_count": 12,
   "id": "6f875e30",
   "metadata": {},
   "outputs": [
    {
     "data": {
      "text/plain": [
       "False"
      ]
     },
     "execution_count": 12,
     "metadata": {},
     "output_type": "execute_result"
    }
   ],
   "source": [
    "bool(0)"
   ]
  },
  {
   "cell_type": "code",
   "execution_count": 13,
   "id": "69682d77",
   "metadata": {},
   "outputs": [
    {
     "name": "stdout",
     "output_type": "stream",
     "text": [
      "NO\n"
     ]
    }
   ],
   "source": [
    "if 10 - 20 + 10:\n",
    "    print('Yes')\n",
    "else:\n",
    "    print('No')"
   ]
  },
  {
   "cell_type": "code",
   "execution_count": 15,
   "id": "b89442f5",
   "metadata": {},
   "outputs": [
    {
     "name": "stdout",
     "output_type": "stream",
     "text": [
      "No\n"
     ]
    }
   ],
   "source": [
    "if 0.0:\n",
    "    print('Yes')\n",
    "else:\n",
    "    print('No')"
   ]
  },
  {
   "cell_type": "code",
   "execution_count": 16,
   "id": "c514c66e",
   "metadata": {},
   "outputs": [
    {
     "data": {
      "text/plain": [
       "False"
      ]
     },
     "execution_count": 16,
     "metadata": {},
     "output_type": "execute_result"
    }
   ],
   "source": [
    "bool(0.0000000)"
   ]
  },
  {
   "cell_type": "code",
   "execution_count": 17,
   "id": "162088eb",
   "metadata": {},
   "outputs": [
    {
     "data": {
      "text/plain": [
       "True"
      ]
     },
     "execution_count": 17,
     "metadata": {},
     "output_type": "execute_result"
    }
   ],
   "source": [
    "bool(0.1)"
   ]
  },
  {
   "cell_type": "code",
   "execution_count": 18,
   "id": "4ec7e6d0",
   "metadata": {},
   "outputs": [
    {
     "data": {
      "text/plain": [
       "True"
      ]
     },
     "execution_count": 18,
     "metadata": {},
     "output_type": "execute_result"
    }
   ],
   "source": [
    "bool(-0.1)"
   ]
  },
  {
   "cell_type": "code",
   "execution_count": 19,
   "id": "b281a931",
   "metadata": {},
   "outputs": [
    {
     "data": {
      "text/plain": [
       "True"
      ]
     },
     "execution_count": 19,
     "metadata": {},
     "output_type": "execute_result"
    }
   ],
   "source": [
    "lst = [10, 20, 30]\n",
    "bool(lst)"
   ]
  },
  {
   "cell_type": "code",
   "execution_count": 20,
   "id": "ac9688e0",
   "metadata": {},
   "outputs": [
    {
     "data": {
      "text/plain": [
       "False"
      ]
     },
     "execution_count": 20,
     "metadata": {},
     "output_type": "execute_result"
    }
   ],
   "source": [
    "lst = []\n",
    "bool(lst)"
   ]
  },
  {
   "cell_type": "code",
   "execution_count": 21,
   "id": "acbd168d",
   "metadata": {},
   "outputs": [
    {
     "data": {
      "text/plain": [
       "True"
      ]
     },
     "execution_count": 21,
     "metadata": {},
     "output_type": "execute_result"
    }
   ],
   "source": [
    "string = \"hello\"\n",
    "bool(string)"
   ]
  },
  {
   "cell_type": "code",
   "execution_count": 22,
   "id": "5c240ff6",
   "metadata": {},
   "outputs": [
    {
     "data": {
      "text/plain": [
       "False"
      ]
     },
     "execution_count": 22,
     "metadata": {},
     "output_type": "execute_result"
    }
   ],
   "source": [
    "string = \"\"\n",
    "bool(string)"
   ]
  },
  {
   "cell_type": "code",
   "execution_count": 23,
   "id": "57616c5a",
   "metadata": {},
   "outputs": [
    {
     "name": "stdout",
     "output_type": "stream",
     "text": [
      "Yes\n"
     ]
    }
   ],
   "source": [
    "if 'a' > 'A': # 97, 65\n",
    "    print('Yes')\n",
    "else:\n",
    "    print('No')"
   ]
  },
  {
   "cell_type": "code",
   "execution_count": null,
   "id": "4e026e1c",
   "metadata": {},
   "outputs": [],
   "source": [
    "# ASCII Code Point values of characters in python\n",
    "'a'-'z' --> 97-122\n",
    "'A'-'Z' --> 65-90\n",
    "'0'-'9' --> 48-57"
   ]
  },
  {
   "cell_type": "code",
   "execution_count": 24,
   "id": "68643517",
   "metadata": {},
   "outputs": [
    {
     "data": {
      "text/plain": [
       "97"
      ]
     },
     "execution_count": 24,
     "metadata": {},
     "output_type": "execute_result"
    }
   ],
   "source": [
    "ord('a')"
   ]
  },
  {
   "cell_type": "code",
   "execution_count": 25,
   "id": "3a33f879",
   "metadata": {},
   "outputs": [
    {
     "data": {
      "text/plain": [
       "32"
      ]
     },
     "execution_count": 25,
     "metadata": {},
     "output_type": "execute_result"
    }
   ],
   "source": [
    "ord(' ')"
   ]
  },
  {
   "cell_type": "code",
   "execution_count": 26,
   "id": "4d38871f",
   "metadata": {},
   "outputs": [
    {
     "data": {
      "text/plain": [
       "35"
      ]
     },
     "execution_count": 26,
     "metadata": {},
     "output_type": "execute_result"
    }
   ],
   "source": [
    "ord('#')"
   ]
  },
  {
   "cell_type": "code",
   "execution_count": 27,
   "id": "383c6852",
   "metadata": {},
   "outputs": [
    {
     "data": {
      "text/plain": [
       "'a'"
      ]
     },
     "execution_count": 27,
     "metadata": {},
     "output_type": "execute_result"
    }
   ],
   "source": [
    "chr(97)"
   ]
  },
  {
   "cell_type": "code",
   "execution_count": 28,
   "id": "14698006",
   "metadata": {},
   "outputs": [
    {
     "data": {
      "text/plain": [
       "'v'"
      ]
     },
     "execution_count": 28,
     "metadata": {},
     "output_type": "execute_result"
    }
   ],
   "source": [
    "chr(118)"
   ]
  },
  {
   "cell_type": "code",
   "execution_count": 29,
   "id": "24dadafd",
   "metadata": {},
   "outputs": [
    {
     "name": "stdout",
     "output_type": "stream",
     "text": [
      "48\n"
     ]
    },
    {
     "data": {
      "text/plain": [
       "'0'"
      ]
     },
     "execution_count": 29,
     "metadata": {},
     "output_type": "execute_result"
    }
   ],
   "source": [
    "chr(int(input()))"
   ]
  },
  {
   "cell_type": "code",
   "execution_count": 30,
   "id": "c35dbc65",
   "metadata": {},
   "outputs": [
    {
     "ename": "TypeError",
     "evalue": "ord() expected a character, but string of length 2 found",
     "output_type": "error",
     "traceback": [
      "\u001b[1;31m---------------------------------------------------------------------------\u001b[0m",
      "\u001b[1;31mTypeError\u001b[0m                                 Traceback (most recent call last)",
      "\u001b[1;32m~\\AppData\\Local\\Temp\\ipykernel_9516\\308877286.py\u001b[0m in \u001b[0;36m<cell line: 1>\u001b[1;34m()\u001b[0m\n\u001b[1;32m----> 1\u001b[1;33m \u001b[0mord\u001b[0m\u001b[1;33m(\u001b[0m\u001b[1;34m'ab'\u001b[0m\u001b[1;33m)\u001b[0m\u001b[1;33m\u001b[0m\u001b[1;33m\u001b[0m\u001b[0m\n\u001b[0m",
      "\u001b[1;31mTypeError\u001b[0m: ord() expected a character, but string of length 2 found"
     ]
    }
   ],
   "source": [
    "ord('ab')"
   ]
  },
  {
   "cell_type": "code",
   "execution_count": 31,
   "id": "a5461cc4",
   "metadata": {},
   "outputs": [
    {
     "name": "stdout",
     "output_type": "stream",
     "text": [
      "y\n"
     ]
    },
    {
     "data": {
      "text/plain": [
       "121"
      ]
     },
     "execution_count": 31,
     "metadata": {},
     "output_type": "execute_result"
    }
   ],
   "source": [
    "ord(input())"
   ]
  },
  {
   "cell_type": "markdown",
   "id": "3d247d25",
   "metadata": {},
   "source": [
    "# string comparisons"
   ]
  },
  {
   "cell_type": "code",
   "execution_count": 32,
   "id": "cb50cd63",
   "metadata": {},
   "outputs": [
    {
     "name": "stdout",
     "output_type": "stream",
     "text": [
      "thor is stronger than ironman\n"
     ]
    }
   ],
   "source": [
    "if 'thor' > 'ironman': # 116 > 105\n",
    "    print(\"thor is stronger than ironman\")\n",
    "else:\n",
    "    print(\"ironman is stronger than thor\")"
   ]
  },
  {
   "cell_type": "code",
   "execution_count": 34,
   "id": "ce152041",
   "metadata": {},
   "outputs": [
    {
     "data": {
      "text/plain": [
       "105"
      ]
     },
     "execution_count": 34,
     "metadata": {},
     "output_type": "execute_result"
    }
   ],
   "source": [
    "ord('i')"
   ]
  },
  {
   "cell_type": "code",
   "execution_count": 35,
   "id": "10671e36",
   "metadata": {},
   "outputs": [
    {
     "name": "stdout",
     "output_type": "stream",
     "text": [
      "ironman is stronger than thor\n"
     ]
    }
   ],
   "source": [
    "if 'Thor' > 'ironman': # 84 > 105\n",
    "    print(\"thor is stronger than ironman\")\n",
    "else:\n",
    "    print(\"ironman is stronger than thor\")"
   ]
  },
  {
   "cell_type": "code",
   "execution_count": 36,
   "id": "72b4dfa2",
   "metadata": {},
   "outputs": [
    {
     "data": {
      "text/plain": [
       "84"
      ]
     },
     "execution_count": 36,
     "metadata": {},
     "output_type": "execute_result"
    }
   ],
   "source": [
    "ord('T')"
   ]
  },
  {
   "cell_type": "code",
   "execution_count": 38,
   "id": "bf3c52e1",
   "metadata": {},
   "outputs": [
    {
     "name": "stdout",
     "output_type": "stream",
     "text": [
      "No\n"
     ]
    }
   ],
   "source": [
    "if 'aaa' > 'aaaa':\n",
    "    print('Yes')\n",
    "else:\n",
    "    print('No')"
   ]
  },
  {
   "cell_type": "code",
   "execution_count": 39,
   "id": "512c4c1e",
   "metadata": {},
   "outputs": [
    {
     "name": "stdout",
     "output_type": "stream",
     "text": [
      "15\n",
      "Odd\n"
     ]
    }
   ],
   "source": [
    "# stmt1 if condition else stmt2\n",
    "n = int(input())\n",
    "if n % 2 == 0:\n",
    "    print('Even')\n",
    "else:\n",
    "    print('Odd')"
   ]
  },
  {
   "cell_type": "code",
   "execution_count": 40,
   "id": "f8862b98",
   "metadata": {},
   "outputs": [
    {
     "name": "stdout",
     "output_type": "stream",
     "text": [
      "15\n",
      "Odd\n"
     ]
    }
   ],
   "source": [
    "n = int(input())\n",
    "print('Even') if n % 2 == 0 else print('Odd')"
   ]
  },
  {
   "cell_type": "code",
   "execution_count": 41,
   "id": "143ca4fb",
   "metadata": {},
   "outputs": [
    {
     "data": {
      "text/plain": [
       "'Yes'"
      ]
     },
     "execution_count": 41,
     "metadata": {},
     "output_type": "execute_result"
    }
   ],
   "source": [
    "\"Yes\" if 20 > 10 else \"No\""
   ]
  },
  {
   "cell_type": "code",
   "execution_count": 42,
   "id": "3c2f2b70",
   "metadata": {},
   "outputs": [
    {
     "name": "stdout",
     "output_type": "stream",
     "text": [
      "Yes\n"
     ]
    }
   ],
   "source": [
    "result_string = \"Yes\" if 20 > 10 else \"No\"\n",
    "print(result_string)"
   ]
  },
  {
   "cell_type": "code",
   "execution_count": 44,
   "id": "ce6cbd40",
   "metadata": {},
   "outputs": [
    {
     "name": "stdout",
     "output_type": "stream",
     "text": [
      "20 10\n",
      "20\n"
     ]
    }
   ],
   "source": [
    "a, b = map(int, input().split())\n",
    "max_of_ab = a if a > b else b\n",
    "print(max_of_ab)"
   ]
  },
  {
   "cell_type": "markdown",
   "id": "16ecb947",
   "metadata": {},
   "source": [
    "# Repetition\n",
    "- while loop and\n",
    "- for loop"
   ]
  },
  {
   "cell_type": "markdown",
   "id": "ea3d52e6",
   "metadata": {},
   "source": [
    "## while loop\n",
    "syntax:  \n",
    "```python\n",
    "while condition:\n",
    "    block of stmts\n",
    "```"
   ]
  },
  {
   "cell_type": "code",
   "execution_count": 46,
   "id": "4b4aae21",
   "metadata": {},
   "outputs": [
    {
     "name": "stdout",
     "output_type": "stream",
     "text": [
      "1 2 3 4 5 "
     ]
    }
   ],
   "source": [
    "i = 1\n",
    "while i <= 5: # 6 <= 5\n",
    "    print(i, end=' ')\n",
    "    i += 1 # 6"
   ]
  },
  {
   "cell_type": "code",
   "execution_count": 47,
   "id": "9685e34a",
   "metadata": {},
   "outputs": [
    {
     "data": {
      "text/plain": [
       "6"
      ]
     },
     "execution_count": 47,
     "metadata": {},
     "output_type": "execute_result"
    }
   ],
   "source": [
    "i"
   ]
  },
  {
   "cell_type": "code",
   "execution_count": 48,
   "id": "c03e850a",
   "metadata": {},
   "outputs": [
    {
     "name": "stdout",
     "output_type": "stream",
     "text": [
      "1 2 3 4 5 6 7 8 9 10 11 12 13 14 15 16 17 18 19 20 21 22 23 24 25 26 27 28 29 30 31 32 33 34 35 36 37 38 39 40 41 42 43 44 45 46 47 48 49 50 51 52 53 54 55 56 57 58 59 60 61 62 63 64 65 66 67 68 69 70 71 72 73 74 75 76 77 78 79 80 81 82 83 84 85 86 87 88 89 90 91 92 93 94 95 96 97 98 99 100 "
     ]
    }
   ],
   "source": [
    "i = 1\n",
    "while i <= 100: # 6 <= 5\n",
    "    print(i, end=' ')\n",
    "    i += 1 # 6"
   ]
  },
  {
   "cell_type": "code",
   "execution_count": 50,
   "id": "dc31a053",
   "metadata": {},
   "outputs": [
    {
     "name": "stdout",
     "output_type": "stream",
     "text": [
      "16\n",
      "1 2 3 4 5 6 7 8 9 10 11 12 13 14 15 16 "
     ]
    }
   ],
   "source": [
    "i = 1\n",
    "n = int(input())\n",
    "while i <= n: # 6 <= 5\n",
    "    print(i, end=' ')\n",
    "    i += 1 # 6"
   ]
  },
  {
   "cell_type": "code",
   "execution_count": 52,
   "id": "b10551e1",
   "metadata": {},
   "outputs": [
    {
     "name": "stdout",
     "output_type": "stream",
     "text": [
      "15\n",
      "Pavan\n",
      "Pavan\n",
      "Pavan\n",
      "Pavan\n",
      "Pavan\n",
      "Pavan\n",
      "Pavan\n",
      "Pavan\n",
      "Pavan\n",
      "Pavan\n",
      "Pavan\n",
      "Pavan\n",
      "Pavan\n",
      "Pavan\n",
      "Pavan\n"
     ]
    }
   ],
   "source": [
    "i = 1\n",
    "n = int(input())\n",
    "while i <= n: # 6 <= 5\n",
    "    print(\"Pavan\")\n",
    "    i += 1 # 6"
   ]
  },
  {
   "cell_type": "code",
   "execution_count": 57,
   "id": "5c30dac1",
   "metadata": {},
   "outputs": [
    {
     "name": "stdout",
     "output_type": "stream",
     "text": [
      "147\n",
      "147 x 1 = 147\n",
      "147 x 2 = 294\n",
      "147 x 3 = 441\n",
      "147 x 4 = 588\n",
      "147 x 5 = 735\n",
      "147 x 6 = 882\n",
      "147 x 7 = 1029\n",
      "147 x 8 = 1176\n",
      "147 x 9 = 1323\n",
      "147 x 10 = 1470\n",
      "147 x 11 = 1617\n",
      "147 x 12 = 1764\n"
     ]
    }
   ],
   "source": [
    "i = 1\n",
    "n = int(input())\n",
    "while i <= 12:\n",
    "#     print(5, \"x\", i, \"=\", 5 * i)\n",
    "    print(f'{n} x {i} = {n * i}')\n",
    "    i += 1"
   ]
  },
  {
   "cell_type": "code",
   "execution_count": 58,
   "id": "4f622a47",
   "metadata": {},
   "outputs": [
    {
     "name": "stdout",
     "output_type": "stream",
     "text": [
      "7\n",
      "4\n",
      "7 x 1 = 7\n",
      "7 x 2 = 14\n",
      "7 x 3 = 21\n",
      "7 x 4 = 28\n"
     ]
    }
   ],
   "source": [
    "i = 1\n",
    "n = int(input())\n",
    "r = int(input())\n",
    "while i <= r:\n",
    "#     print(5, \"x\", i, \"=\", 5 * i)\n",
    "    print(f'{n} x {i} = {n * i}')\n",
    "    i += 1"
   ]
  },
  {
   "cell_type": "code",
   "execution_count": 59,
   "id": "e6a9a777",
   "metadata": {},
   "outputs": [
    {
     "name": "stdout",
     "output_type": "stream",
     "text": [
      "8\n",
      "14\n",
      "27\n",
      "8 x 14 = 112\n",
      "8 x 15 = 120\n",
      "8 x 16 = 128\n",
      "8 x 17 = 136\n",
      "8 x 18 = 144\n",
      "8 x 19 = 152\n",
      "8 x 20 = 160\n",
      "8 x 21 = 168\n",
      "8 x 22 = 176\n",
      "8 x 23 = 184\n",
      "8 x 24 = 192\n",
      "8 x 25 = 200\n",
      "8 x 26 = 208\n",
      "8 x 27 = 216\n"
     ]
    }
   ],
   "source": [
    "n = int(input())\n",
    "i = int(input())\n",
    "r = int(input())\n",
    "while i <= r:\n",
    "#     print(5, \"x\", i, \"=\", 5 * i)\n",
    "    print(f'{n} x {i} = {n * i}')\n",
    "    i += 1"
   ]
  },
  {
   "cell_type": "code",
   "execution_count": 60,
   "id": "07987e6a",
   "metadata": {},
   "outputs": [
    {
     "name": "stdout",
     "output_type": "stream",
     "text": [
      "10 9 8 7 6 5 4 3 2 1 "
     ]
    }
   ],
   "source": [
    "i = 10\n",
    "while i >= 1:\n",
    "    print(i, end = ' ')\n",
    "    i -= 1"
   ]
  },
  {
   "cell_type": "markdown",
   "id": "84bd8c69",
   "metadata": {},
   "source": [
    "## for loop in python\n",
    "- in python for loop works on iterables\n",
    "\n",
    "Syntax  \n",
    "```python\n",
    "for element in iterable:\n",
    "    do something\n",
    "```"
   ]
  },
  {
   "cell_type": "code",
   "execution_count": 61,
   "id": "69cd92e3",
   "metadata": {},
   "outputs": [
    {
     "name": "stdout",
     "output_type": "stream",
     "text": [
      "10\n",
      "20\n",
      "30\n",
      "40\n"
     ]
    }
   ],
   "source": [
    "lst = [10, 20, 30, 40]\n",
    "for i in lst:\n",
    "    print(i)"
   ]
  },
  {
   "cell_type": "code",
   "execution_count": 63,
   "id": "347d7a39",
   "metadata": {},
   "outputs": [
    {
     "name": "stdout",
     "output_type": "stream",
     "text": [
      "h\n",
      "e\n",
      "l\n",
      "l\n",
      "o\n",
      " \n",
      "a\n",
      "l\n",
      "l\n"
     ]
    }
   ],
   "source": [
    "string = \"hello all\"\n",
    "for each_character in string:\n",
    "    print(each_character)"
   ]
  },
  {
   "cell_type": "code",
   "execution_count": 66,
   "id": "1d33d076",
   "metadata": {},
   "outputs": [
    {
     "name": "stdout",
     "output_type": "stream",
     "text": [
      "h --> 104\n",
      "e --> 101\n",
      "l --> 108\n",
      "l --> 108\n",
      "o --> 111\n",
      "  --> 32\n",
      "a --> 97\n",
      "l --> 108\n",
      "l --> 108\n"
     ]
    }
   ],
   "source": [
    "string = \"hello all\"\n",
    "for each_character in string:\n",
    "\n",
    "    print(f'{each_character} --> {ord(each_character)}')"
   ]
  },
  {
   "cell_type": "code",
   "execution_count": null,
   "id": "6bb4e3f4",
   "metadata": {},
   "outputs": [],
   "source": [
    "# in range() end bound is always excluded\n",
    "# range(stop)\n",
    "# start --> 0, step --> 1\n",
    "\n",
    "# range(start, stop)\n",
    "# step --> 1\n",
    "\n",
    "# range(start, stop, step)\n"
   ]
  },
  {
   "cell_type": "code",
   "execution_count": 67,
   "id": "2906e9c1",
   "metadata": {},
   "outputs": [
    {
     "name": "stdout",
     "output_type": "stream",
     "text": [
      "0 1 2 3 4 5 6 7 8 9 "
     ]
    }
   ],
   "source": [
    "for i in range(10): # range(stop) --> start 0 step = 1\n",
    "    print(i, end = ' ')"
   ]
  },
  {
   "cell_type": "code",
   "execution_count": 68,
   "id": "da729cc1",
   "metadata": {},
   "outputs": [
    {
     "name": "stdout",
     "output_type": "stream",
     "text": [
      "1 2 3 4 5 6 7 8 9 10 "
     ]
    }
   ],
   "source": [
    "for i in range(1, 11): # range(start, stop) step = 1\n",
    "    print(i, end = ' ')"
   ]
  },
  {
   "cell_type": "code",
   "execution_count": 69,
   "id": "4a489968",
   "metadata": {},
   "outputs": [
    {
     "name": "stdout",
     "output_type": "stream",
     "text": [
      "1 3 5 7 9 "
     ]
    }
   ],
   "source": [
    "for i in range(1, 11, 2): # range(start, stop, step)\n",
    "    print(i, end = ' ')"
   ]
  },
  {
   "cell_type": "code",
   "execution_count": 71,
   "id": "30ec0f90",
   "metadata": {},
   "outputs": [
    {
     "name": "stdout",
     "output_type": "stream",
     "text": [
      "10 9 8 7 6 5 4 3 2 1 "
     ]
    }
   ],
   "source": [
    "for i in range(10, 0, -1):\n",
    "    print(i, end = ' ')"
   ]
  },
  {
   "cell_type": "code",
   "execution_count": 73,
   "id": "8901e728",
   "metadata": {},
   "outputs": [
    {
     "name": "stdout",
     "output_type": "stream",
     "text": [
      "5 12 17\n",
      "5 x 12 = 60\n",
      "5 x 13 = 65\n",
      "5 x 14 = 70\n",
      "5 x 15 = 75\n",
      "5 x 16 = 80\n",
      "5 x 17 = 85\n"
     ]
    }
   ],
   "source": [
    "n, a, b = map(int, input().split())\n",
    "for i in range(a, b + 1):\n",
    "    print(n, \"x\", i, \"=\", n*i)"
   ]
  },
  {
   "cell_type": "code",
   "execution_count": 78,
   "id": "16a48364",
   "metadata": {},
   "outputs": [
    {
     "name": "stdout",
     "output_type": "stream",
     "text": [
      "10\n",
      "20\n"
     ]
    }
   ],
   "source": [
    "print(10)\n",
    "print(20)"
   ]
  },
  {
   "cell_type": "code",
   "execution_count": 77,
   "id": "62e6e441",
   "metadata": {},
   "outputs": [
    {
     "name": "stdout",
     "output_type": "stream",
     "text": [
      "10 20\n"
     ]
    }
   ],
   "source": [
    "print(10,end=\" \")\n",
    "print(20)"
   ]
  }
 ],
 "metadata": {
  "kernelspec": {
   "display_name": "Python 3 (ipykernel)",
   "language": "python",
   "name": "python3"
  },
  "language_info": {
   "codemirror_mode": {
    "name": "ipython",
    "version": 3
   },
   "file_extension": ".py",
   "mimetype": "text/x-python",
   "name": "python",
   "nbconvert_exporter": "python",
   "pygments_lexer": "ipython3",
   "version": "3.10.4"
  },
  "latex_envs": {
   "LaTeX_envs_menu_present": true,
   "autoclose": false,
   "autocomplete": true,
   "bibliofile": "biblio.bib",
   "cite_by": "apalike",
   "current_citInitial": 1,
   "eqLabelWithNumbers": true,
   "eqNumInitial": 1,
   "hotkeys": {
    "equation": "Ctrl-E",
    "itemize": "Ctrl-I"
   },
   "labels_anchors": false,
   "latex_user_defs": false,
   "report_style_numbering": false,
   "user_envs_cfg": false
  },
  "toc": {
   "base_numbering": 1,
   "nav_menu": {},
   "number_sections": true,
   "sideBar": true,
   "skip_h1_title": false,
   "title_cell": "Table of Contents",
   "title_sidebar": "Contents",
   "toc_cell": false,
   "toc_position": {},
   "toc_section_display": true,
   "toc_window_display": false
  }
 },
 "nbformat": 4,
 "nbformat_minor": 5
}
