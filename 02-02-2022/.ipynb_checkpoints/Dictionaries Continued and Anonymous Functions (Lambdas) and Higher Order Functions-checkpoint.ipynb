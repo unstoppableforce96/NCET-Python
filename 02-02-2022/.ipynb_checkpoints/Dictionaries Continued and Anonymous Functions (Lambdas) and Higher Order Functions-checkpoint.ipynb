{
 "cells": [
  {
   "cell_type": "code",
   "execution_count": null,
   "id": "9a2572d2",
   "metadata": {},
   "outputs": [],
   "source": [
    "# dict.keys(), dict.values(), dict.items()\n",
    "# if we want to set all the keys in the dict\n",
    "# to a single value\n",
    "# fromkeys()"
   ]
  },
  {
   "cell_type": "code",
   "execution_count": 5,
   "id": "75937da1",
   "metadata": {},
   "outputs": [
    {
     "name": "stdout",
     "output_type": "stream",
     "text": [
      "{10: 5, 20: 5, 30: 5, 40: 5}\n"
     ]
    }
   ],
   "source": [
    "lst = [10, 20, 30, 40]\n",
    "d = {}.fromkeys(lst, 5)\n",
    "print(d)"
   ]
  },
  {
   "cell_type": "code",
   "execution_count": 6,
   "id": "a1a71fc2",
   "metadata": {},
   "outputs": [
    {
     "name": "stdout",
     "output_type": "stream",
     "text": [
      "{'h': 1, 'e': 1, 'l': 1, 'o': 1}\n"
     ]
    }
   ],
   "source": [
    "string = 'hello'\n",
    "d = {}.fromkeys(string, 1)\n",
    "print(d)"
   ]
  },
  {
   "cell_type": "code",
   "execution_count": 7,
   "id": "476ebea0",
   "metadata": {},
   "outputs": [
    {
     "name": "stdout",
     "output_type": "stream",
     "text": [
      "{}\n"
     ]
    }
   ],
   "source": [
    "d = {'h': 1, 'e': 1, 'l': 1, 'o': 1}\n",
    "d.clear()\n",
    "print(d)"
   ]
  },
  {
   "cell_type": "code",
   "execution_count": 8,
   "id": "b8ce5183",
   "metadata": {},
   "outputs": [
    {
     "name": "stdout",
     "output_type": "stream",
     "text": [
      "1\n"
     ]
    }
   ],
   "source": [
    "# dict.get()\n",
    "# get the corresponding value if key is present\n",
    "# get the default value (None)\n",
    "d = {'h': 1, 'e': 1, 'l': 1, 'o': 1}\n",
    "print(d.get('h'))"
   ]
  },
  {
   "cell_type": "code",
   "execution_count": 9,
   "id": "4c1c9367",
   "metadata": {},
   "outputs": [
    {
     "name": "stdout",
     "output_type": "stream",
     "text": [
      "None\n"
     ]
    }
   ],
   "source": [
    "# dict.get()\n",
    "# get the corresponding value if key is present\n",
    "# get the default value (None)\n",
    "d = {'h': 1, 'e': 1, 'l': 1, 'o': 1}\n",
    "print(d.get('z'))"
   ]
  },
  {
   "cell_type": "code",
   "execution_count": 10,
   "id": "aa2b4e6c",
   "metadata": {},
   "outputs": [
    {
     "name": "stdout",
     "output_type": "stream",
     "text": [
      "xyz\n"
     ]
    }
   ],
   "source": [
    "# dict.get()\n",
    "# get the corresponding value if key is present\n",
    "# get the default value (None)\n",
    "d = {'h': 1, 'e': 1, 'l': 1, 'o': 1}\n",
    "print(d.get('z', 'xyz'))"
   ]
  },
  {
   "cell_type": "code",
   "execution_count": 11,
   "id": "3f0a10e6",
   "metadata": {},
   "outputs": [
    {
     "name": "stdout",
     "output_type": "stream",
     "text": [
      "1\n"
     ]
    }
   ],
   "source": [
    "# dict.get()\n",
    "# get the corresponding value if key is present\n",
    "# get the default value (None)\n",
    "d = {'h': 1, 'e': 1, 'l': 1, 'o': 1}\n",
    "print(d.get('h', -1))"
   ]
  },
  {
   "cell_type": "code",
   "execution_count": 12,
   "id": "659f9f51",
   "metadata": {},
   "outputs": [
    {
     "name": "stdout",
     "output_type": "stream",
     "text": [
      "{'a': 2, 'b': 3, 'c': 4, 'd': 4, 'e': 1, 'f': 1}\n"
     ]
    }
   ],
   "source": [
    "string = 'abcdabbcccdddef'\n",
    "d = {}\n",
    "for i in string:\n",
    "    if i in d.keys():\n",
    "        d[i] += 1\n",
    "    else:\n",
    "        d[i] = 1\n",
    "print(d)"
   ]
  },
  {
   "cell_type": "code",
   "execution_count": 13,
   "id": "71b8ff20",
   "metadata": {},
   "outputs": [
    {
     "name": "stdout",
     "output_type": "stream",
     "text": [
      "{'a': 2, 'b': 3, 'c': 4, 'd': 4, 'e': 1, 'f': 1}\n"
     ]
    }
   ],
   "source": [
    "string = 'abcdabbcccdddef' # \n",
    "d = {} # {'a': 1}\n",
    "for i in string: # 'a'\n",
    "    d[i] = d.get(i, 0) + 1 # d['a'] = 2\n",
    "print(d)"
   ]
  },
  {
   "cell_type": "code",
   "execution_count": 15,
   "id": "13dc4910",
   "metadata": {},
   "outputs": [
    {
     "name": "stdout",
     "output_type": "stream",
     "text": [
      "{'a': 2}\n"
     ]
    }
   ],
   "source": [
    "d = {}\n",
    "d['a'] = 1\n",
    "d['a'] = 2\n",
    "print(d)"
   ]
  },
  {
   "cell_type": "markdown",
   "id": "ad5f3eb2",
   "metadata": {},
   "source": [
    "# Anonymous Functions (lambda)\n",
    "- When we require a simple function for a specific amount of time"
   ]
  },
  {
   "cell_type": "code",
   "execution_count": 16,
   "id": "76dcb6d6",
   "metadata": {},
   "outputs": [
    {
     "name": "stdout",
     "output_type": "stream",
     "text": [
      "1000\n"
     ]
    }
   ],
   "source": [
    "def cube(n):\n",
    "    return n * n * n\n",
    "print(cube(10))"
   ]
  },
  {
   "cell_type": "code",
   "execution_count": 17,
   "id": "121a110e",
   "metadata": {},
   "outputs": [
    {
     "data": {
      "text/plain": [
       "512"
      ]
     },
     "execution_count": 17,
     "metadata": {},
     "output_type": "execute_result"
    }
   ],
   "source": [
    "# lambda arguments: expression\n",
    "(lambda n: n * n * n)(8)"
   ]
  },
  {
   "cell_type": "code",
   "execution_count": 18,
   "id": "931e9888",
   "metadata": {},
   "outputs": [
    {
     "name": "stdout",
     "output_type": "stream",
     "text": [
      "512\n"
     ]
    }
   ],
   "source": [
    "x = lambda n: n * n * n\n",
    "print(x(8))"
   ]
  },
  {
   "cell_type": "code",
   "execution_count": 19,
   "id": "925df148",
   "metadata": {},
   "outputs": [
    {
     "data": {
      "text/plain": [
       "30"
      ]
     },
     "execution_count": 19,
     "metadata": {},
     "output_type": "execute_result"
    }
   ],
   "source": [
    "(lambda a, b: a + b)(10, 20)"
   ]
  },
  {
   "cell_type": "markdown",
   "id": "eaad797a",
   "metadata": {},
   "source": [
    "## Higher Order Functions\n",
    "- map()\n",
    "- map(func, iterable)\n",
    "- Apply the given function on each member of the iterable and returns  \n",
    "  a map object."
   ]
  },
  {
   "cell_type": "code",
   "execution_count": 21,
   "id": "672db575",
   "metadata": {},
   "outputs": [
    {
     "name": "stdout",
     "output_type": "stream",
     "text": [
      "[3, 5, 6]\n"
     ]
    }
   ],
   "source": [
    "lst = ['abc', 'defgh', 'ijklmn']\n",
    "# [3, 5, 6]\n",
    "m = list(map(len, lst)) # map(len, ['abc', 'defgh', 'ijklmn'])\n",
    "print(m)"
   ]
  },
  {
   "cell_type": "code",
   "execution_count": 27,
   "id": "20e72928",
   "metadata": {},
   "outputs": [
    {
     "name": "stdout",
     "output_type": "stream",
     "text": [
      "abcdefghijklmnopqrstuvwxyz\n"
     ]
    }
   ],
   "source": [
    "print(''.join(list(map(chr, range(97, 123)))))"
   ]
  },
  {
   "cell_type": "code",
   "execution_count": 28,
   "id": "a38fa07c",
   "metadata": {},
   "outputs": [
    {
     "name": "stdout",
     "output_type": "stream",
     "text": [
      "[1000, 8000, 27000, 64000]\n"
     ]
    }
   ],
   "source": [
    "# User defined functions\n",
    "def cube(n):\n",
    "    return n * n * n\n",
    "nums = [10, 20, 30, 40]\n",
    "print(list(map(cube, nums)))"
   ]
  },
  {
   "cell_type": "code",
   "execution_count": 34,
   "id": "6bd83439",
   "metadata": {},
   "outputs": [
    {
     "name": "stdout",
     "output_type": "stream",
     "text": [
      "[1000, 8000, 27000, 64000]\n"
     ]
    }
   ],
   "source": [
    "# User defined functions\n",
    "nums = [10, 20, 30, 40]\n",
    "print(list(map(lambda n: n * n * n, nums)))"
   ]
  },
  {
   "cell_type": "code",
   "execution_count": 29,
   "id": "39d07ee6",
   "metadata": {},
   "outputs": [
    {
     "data": {
      "text/plain": [
       "[[62, 47, 75], [67, 91, 29], [74, 80, 49], [38, 27, 62], [95, 70, 66]]"
      ]
     },
     "execution_count": 29,
     "metadata": {},
     "output_type": "execute_result"
    }
   ],
   "source": [
    "import random\n",
    "marks = [[random.randint(25, 95) for i in range(3)] for j in range(5)]\n",
    "marks"
   ]
  },
  {
   "cell_type": "code",
   "execution_count": 35,
   "id": "ba1a1c38",
   "metadata": {},
   "outputs": [
    {
     "data": {
      "text/plain": [
       "[[47, 75, 184], [29, 91, 187], [49, 80, 203], [27, 62, 127], [66, 95, 231]]"
      ]
     },
     "execution_count": 35,
     "metadata": {},
     "output_type": "execute_result"
    }
   ],
   "source": [
    "marks = [[62, 47, 75], \n",
    "         [67, 91, 29], \n",
    "         [74, 80, 49], \n",
    "         [38, 27, 62], \n",
    "         [95, 70, 66]]\n",
    "summary = list(map(lambda l: [min(l), max(l), sum(l)], marks))\n",
    "summary"
   ]
  },
  {
   "cell_type": "code",
   "execution_count": 32,
   "id": "b962e6bb",
   "metadata": {},
   "outputs": [
    {
     "data": {
      "text/plain": [
       "[49, 80, 203]"
      ]
     },
     "execution_count": 32,
     "metadata": {},
     "output_type": "execute_result"
    }
   ],
   "source": [
    "def get_details(lst):\n",
    "    return [min(lst), max(lst), sum(lst)]\n"
   ]
  },
  {
   "cell_type": "code",
   "execution_count": 36,
   "id": "d39fe664",
   "metadata": {},
   "outputs": [
    {
     "name": "stdout",
     "output_type": "stream",
     "text": [
      "[120, 720, 5040, 6]\n"
     ]
    }
   ],
   "source": [
    "import math\n",
    "lst = [5, 6, 7, 3]\n",
    "fact = list(map(math.factorial, lst))\n",
    "print(fact)"
   ]
  },
  {
   "cell_type": "code",
   "execution_count": 39,
   "id": "2a9cd96a",
   "metadata": {},
   "outputs": [
    {
     "ename": "TypeError",
     "evalue": "object of type 'int' has no len()",
     "output_type": "error",
     "traceback": [
      "\u001b[1;31m---------------------------------------------------------------------------\u001b[0m",
      "\u001b[1;31mTypeError\u001b[0m                                 Traceback (most recent call last)",
      "\u001b[1;32m~\\AppData\\Local\\Temp\\ipykernel_26680\\3038015942.py\u001b[0m in \u001b[0;36m<cell line: 2>\u001b[1;34m()\u001b[0m\n\u001b[0;32m      1\u001b[0m \u001b[0mlst\u001b[0m \u001b[1;33m=\u001b[0m \u001b[1;33m[\u001b[0m\u001b[1;36m10\u001b[0m\u001b[1;33m,\u001b[0m \u001b[1;36m20\u001b[0m\u001b[1;33m,\u001b[0m \u001b[1;36m30\u001b[0m\u001b[1;33m]\u001b[0m\u001b[1;33m\u001b[0m\u001b[1;33m\u001b[0m\u001b[0m\n\u001b[1;32m----> 2\u001b[1;33m \u001b[0mprint\u001b[0m\u001b[1;33m(\u001b[0m\u001b[0mlist\u001b[0m\u001b[1;33m(\u001b[0m\u001b[0mmap\u001b[0m\u001b[1;33m(\u001b[0m\u001b[0mlen\u001b[0m\u001b[1;33m,\u001b[0m \u001b[0mlst\u001b[0m\u001b[1;33m)\u001b[0m\u001b[1;33m)\u001b[0m\u001b[1;33m)\u001b[0m\u001b[1;33m\u001b[0m\u001b[1;33m\u001b[0m\u001b[0m\n\u001b[0m",
      "\u001b[1;31mTypeError\u001b[0m: object of type 'int' has no len()"
     ]
    }
   ],
   "source": [
    "lst = [10, 20, 30]\n",
    "print(list(map(len, lst)))"
   ]
  },
  {
   "cell_type": "code",
   "execution_count": 37,
   "id": "ef5cb721",
   "metadata": {},
   "outputs": [
    {
     "ename": "TypeError",
     "evalue": "object of type 'int' has no len()",
     "output_type": "error",
     "traceback": [
      "\u001b[1;31m---------------------------------------------------------------------------\u001b[0m",
      "\u001b[1;31mTypeError\u001b[0m                                 Traceback (most recent call last)",
      "\u001b[1;32m~\\AppData\\Local\\Temp\\ipykernel_26680\\3338265758.py\u001b[0m in \u001b[0;36m<cell line: 1>\u001b[1;34m()\u001b[0m\n\u001b[1;32m----> 1\u001b[1;33m \u001b[0mlen\u001b[0m\u001b[1;33m(\u001b[0m\u001b[1;36m10\u001b[0m\u001b[1;33m)\u001b[0m\u001b[1;33m\u001b[0m\u001b[1;33m\u001b[0m\u001b[0m\n\u001b[0m",
      "\u001b[1;31mTypeError\u001b[0m: object of type 'int' has no len()"
     ]
    }
   ],
   "source": [
    "len(10)"
   ]
  }
 ],
 "metadata": {
  "kernelspec": {
   "display_name": "Python 3 (ipykernel)",
   "language": "python",
   "name": "python3"
  },
  "language_info": {
   "codemirror_mode": {
    "name": "ipython",
    "version": 3
   },
   "file_extension": ".py",
   "mimetype": "text/x-python",
   "name": "python",
   "nbconvert_exporter": "python",
   "pygments_lexer": "ipython3",
   "version": "3.10.4"
  },
  "latex_envs": {
   "LaTeX_envs_menu_present": true,
   "autoclose": false,
   "autocomplete": true,
   "bibliofile": "biblio.bib",
   "cite_by": "apalike",
   "current_citInitial": 1,
   "eqLabelWithNumbers": true,
   "eqNumInitial": 1,
   "hotkeys": {
    "equation": "Ctrl-E",
    "itemize": "Ctrl-I"
   },
   "labels_anchors": false,
   "latex_user_defs": false,
   "report_style_numbering": false,
   "user_envs_cfg": false
  },
  "toc": {
   "base_numbering": 1,
   "nav_menu": {},
   "number_sections": true,
   "sideBar": true,
   "skip_h1_title": false,
   "title_cell": "Table of Contents",
   "title_sidebar": "Contents",
   "toc_cell": false,
   "toc_position": {},
   "toc_section_display": true,
   "toc_window_display": false
  }
 },
 "nbformat": 4,
 "nbformat_minor": 5
}
